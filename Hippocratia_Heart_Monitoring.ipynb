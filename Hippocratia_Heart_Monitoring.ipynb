{
 "cells": [
  {
   "cell_type": "code",
   "metadata": {
    "cell_id": "00000-e0bf2af8-8c6c-47c5-a7e3-8909cefa8edc",
    "deepnote_to_be_reexecuted": false,
    "source_hash": "370e9926",
    "execution_start": 1620400715663,
    "execution_millis": 1975,
    "deepnote_cell_type": "code"
   },
   "source": "import pandas as pd\nimport numpy as np\nimport matplotlib.pyplot as plt\nimport seaborn as sb\nimport sklearn as skl\nimport time\nfrom IPython.display import display, clear_output\n\nimport sklearn\nfrom sklearn import pipeline      # Pipeline\nfrom sklearn import preprocessing # OrdinalEncoder, LabelEncoder\nfrom sklearn import impute\nfrom sklearn import compose\nfrom sklearn import model_selection # train_test_split\nfrom sklearn import metrics         # accuracy_score, balanced_accuracy_score, plot_confusion_matrix\nfrom sklearn import set_config\n\nset_config(display='diagram') # Useful for display the pipeline\n\nprint(\"Pandas  \", pd.__version__)\nprint(\"Sklearn \", skl.__version__) # Try to use 0.24",
   "execution_count": 1,
   "outputs": [
    {
     "name": "stdout",
     "text": "Pandas   1.2.4\nSklearn  0.24.2\n",
     "output_type": "stream"
    }
   ]
  },
  {
   "cell_type": "code",
   "metadata": {
    "cell_id": "00001-c6dd8781-8325-4b2b-b979-a95da52a9a6a",
    "deepnote_to_be_reexecuted": false,
    "source_hash": "7ede2159",
    "execution_start": 1620400717634,
    "execution_millis": 7,
    "deepnote_cell_type": "code"
   },
   "source": "df = pd.read_csv('heart.csv')",
   "execution_count": 2,
   "outputs": []
  },
  {
   "cell_type": "markdown",
   "source": "# Data Exploration",
   "metadata": {
    "cell_id": "00002-20ef5f7e-3c9a-41de-aac8-779c0c983d6c",
    "deepnote_cell_type": "markdown"
   }
  },
  {
   "cell_type": "code",
   "metadata": {
    "cell_id": "00003-ab36dcff-6cd3-46bd-9f95-c6ff2fd342f2",
    "deepnote_to_be_reexecuted": false,
    "source_hash": "27a0fad6",
    "execution_start": 1620400717650,
    "execution_millis": 75,
    "deepnote_cell_type": "code"
   },
   "source": "display(df)\n'''\n1. age (#)\n2. sex : 1= Male, 0= Female (Binary)\n3. (cp)chest pain type (4 values -Ordinal):Value 1: typical angina ,Value 2: atypical angina, Value 3: non-anginal pain , Value 4: asymptomatic\n4. (trestbps) resting blood pressure (#)\n5. (chol) serum cholesterol in mg/dl (#)\n6. (fbs)fasting blood sugar > 120 mg/dl(Binary)(1 = true; 0 = false)\n7. (restecg) resting electrocardiography results(values 0,1,2)\n8. (thalach) maximum heart rate achieved (#)\n9. (exang) exercise induced angina (binary) (1 = yes; 0 = no)\n10. (oldpeak) = ST depression induced by exercise relative to rest (#)\n11. (slope) of the peak exercise ST segment (Ordinal) (Value 1: up sloping , Value 2: flat , Value 3: down sloping )\n12. (ca) number of major vessels (0–3, Ordinal) colored by fluoroscopy\n13. (thal) maximum heart rate achieved — (Ordinal): 3 = normal; 6 = fixed defect; 7 = reversible defect\ntarget = 0 not suffering // 1 suffering\n'''",
   "execution_count": 3,
   "outputs": [
    {
     "data": {
      "application/vnd.deepnote.dataframe.v2+json": {
       "row_count": 303,
       "column_count": 14,
       "columns": [
        {
         "name": "age",
         "dtype": "int64",
         "stats": {
          "unique_count": 41,
          "nan_count": 0,
          "min": "29",
          "max": "77",
          "histogram": [
           {
            "bin_start": 29,
            "bin_end": 33.8,
            "count": 1
           },
           {
            "bin_start": 33.8,
            "bin_end": 38.6,
            "count": 11
           },
           {
            "bin_start": 38.6,
            "bin_end": 43.4,
            "count": 33
           },
           {
            "bin_start": 43.4,
            "bin_end": 48.2,
            "count": 38
           },
           {
            "bin_start": 48.2,
            "bin_end": 53,
            "count": 37
           },
           {
            "bin_start": 53,
            "bin_end": 57.8,
            "count": 60
           },
           {
            "bin_start": 57.8,
            "bin_end": 62.6,
            "count": 63
           },
           {
            "bin_start": 62.6,
            "bin_end": 67.4,
            "count": 43
           },
           {
            "bin_start": 67.4,
            "bin_end": 72.19999999999999,
            "count": 14
           },
           {
            "bin_start": 72.19999999999999,
            "bin_end": 77,
            "count": 3
           }
          ]
         }
        },
        {
         "name": "sex",
         "dtype": "int64",
         "stats": {
          "unique_count": 2,
          "nan_count": 0,
          "min": "0",
          "max": "1",
          "histogram": [
           {
            "bin_start": 0,
            "bin_end": 0.1,
            "count": 96
           },
           {
            "bin_start": 0.1,
            "bin_end": 0.2,
            "count": 0
           },
           {
            "bin_start": 0.2,
            "bin_end": 0.30000000000000004,
            "count": 0
           },
           {
            "bin_start": 0.30000000000000004,
            "bin_end": 0.4,
            "count": 0
           },
           {
            "bin_start": 0.4,
            "bin_end": 0.5,
            "count": 0
           },
           {
            "bin_start": 0.5,
            "bin_end": 0.6000000000000001,
            "count": 0
           },
           {
            "bin_start": 0.6000000000000001,
            "bin_end": 0.7000000000000001,
            "count": 0
           },
           {
            "bin_start": 0.7000000000000001,
            "bin_end": 0.8,
            "count": 0
           },
           {
            "bin_start": 0.8,
            "bin_end": 0.9,
            "count": 0
           },
           {
            "bin_start": 0.9,
            "bin_end": 1,
            "count": 207
           }
          ]
         }
        },
        {
         "name": "cp",
         "dtype": "int64",
         "stats": {
          "unique_count": 4,
          "nan_count": 0,
          "min": "0",
          "max": "3",
          "histogram": [
           {
            "bin_start": 0,
            "bin_end": 0.3,
            "count": 143
           },
           {
            "bin_start": 0.3,
            "bin_end": 0.6,
            "count": 0
           },
           {
            "bin_start": 0.6,
            "bin_end": 0.8999999999999999,
            "count": 0
           },
           {
            "bin_start": 0.8999999999999999,
            "bin_end": 1.2,
            "count": 50
           },
           {
            "bin_start": 1.2,
            "bin_end": 1.5,
            "count": 0
           },
           {
            "bin_start": 1.5,
            "bin_end": 1.7999999999999998,
            "count": 0
           },
           {
            "bin_start": 1.7999999999999998,
            "bin_end": 2.1,
            "count": 87
           },
           {
            "bin_start": 2.1,
            "bin_end": 2.4,
            "count": 0
           },
           {
            "bin_start": 2.4,
            "bin_end": 2.6999999999999997,
            "count": 0
           },
           {
            "bin_start": 2.6999999999999997,
            "bin_end": 3,
            "count": 23
           }
          ]
         }
        },
        {
         "name": "trestbps",
         "dtype": "int64",
         "stats": {
          "unique_count": 49,
          "nan_count": 0,
          "min": "94",
          "max": "200",
          "histogram": [
           {
            "bin_start": 94,
            "bin_end": 104.6,
            "count": 10
           },
           {
            "bin_start": 104.6,
            "bin_end": 115.2,
            "count": 42
           },
           {
            "bin_start": 115.2,
            "bin_end": 125.8,
            "count": 67
           },
           {
            "bin_start": 125.8,
            "bin_end": 136.4,
            "count": 74
           },
           {
            "bin_start": 136.4,
            "bin_end": 147,
            "count": 57
           },
           {
            "bin_start": 147,
            "bin_end": 157.6,
            "count": 27
           },
           {
            "bin_start": 157.6,
            "bin_end": 168.2,
            "count": 13
           },
           {
            "bin_start": 168.2,
            "bin_end": 178.8,
            "count": 8
           },
           {
            "bin_start": 178.8,
            "bin_end": 189.39999999999998,
            "count": 3
           },
           {
            "bin_start": 189.39999999999998,
            "bin_end": 200,
            "count": 2
           }
          ]
         }
        },
        {
         "name": "chol",
         "dtype": "int64",
         "stats": {
          "unique_count": 152,
          "nan_count": 0,
          "min": "126",
          "max": "564",
          "histogram": [
           {
            "bin_start": 126,
            "bin_end": 169.8,
            "count": 12
           },
           {
            "bin_start": 169.8,
            "bin_end": 213.6,
            "count": 73
           },
           {
            "bin_start": 213.6,
            "bin_end": 257.4,
            "count": 106
           },
           {
            "bin_start": 257.4,
            "bin_end": 301.2,
            "count": 69
           },
           {
            "bin_start": 301.2,
            "bin_end": 345,
            "count": 35
           },
           {
            "bin_start": 345,
            "bin_end": 388.79999999999995,
            "count": 3
           },
           {
            "bin_start": 388.79999999999995,
            "bin_end": 432.59999999999997,
            "count": 4
           },
           {
            "bin_start": 432.59999999999997,
            "bin_end": 476.4,
            "count": 0
           },
           {
            "bin_start": 476.4,
            "bin_end": 520.2,
            "count": 0
           },
           {
            "bin_start": 520.2,
            "bin_end": 564,
            "count": 1
           }
          ]
         }
        },
        {
         "name": "fbs",
         "dtype": "int64",
         "stats": {
          "unique_count": 2,
          "nan_count": 0,
          "min": "0",
          "max": "1",
          "histogram": [
           {
            "bin_start": 0,
            "bin_end": 0.1,
            "count": 258
           },
           {
            "bin_start": 0.1,
            "bin_end": 0.2,
            "count": 0
           },
           {
            "bin_start": 0.2,
            "bin_end": 0.30000000000000004,
            "count": 0
           },
           {
            "bin_start": 0.30000000000000004,
            "bin_end": 0.4,
            "count": 0
           },
           {
            "bin_start": 0.4,
            "bin_end": 0.5,
            "count": 0
           },
           {
            "bin_start": 0.5,
            "bin_end": 0.6000000000000001,
            "count": 0
           },
           {
            "bin_start": 0.6000000000000001,
            "bin_end": 0.7000000000000001,
            "count": 0
           },
           {
            "bin_start": 0.7000000000000001,
            "bin_end": 0.8,
            "count": 0
           },
           {
            "bin_start": 0.8,
            "bin_end": 0.9,
            "count": 0
           },
           {
            "bin_start": 0.9,
            "bin_end": 1,
            "count": 45
           }
          ]
         }
        },
        {
         "name": "restecg",
         "dtype": "int64",
         "stats": {
          "unique_count": 3,
          "nan_count": 0,
          "min": "0",
          "max": "2",
          "histogram": [
           {
            "bin_start": 0,
            "bin_end": 0.2,
            "count": 147
           },
           {
            "bin_start": 0.2,
            "bin_end": 0.4,
            "count": 0
           },
           {
            "bin_start": 0.4,
            "bin_end": 0.6000000000000001,
            "count": 0
           },
           {
            "bin_start": 0.6000000000000001,
            "bin_end": 0.8,
            "count": 0
           },
           {
            "bin_start": 0.8,
            "bin_end": 1,
            "count": 0
           },
           {
            "bin_start": 1,
            "bin_end": 1.2000000000000002,
            "count": 152
           },
           {
            "bin_start": 1.2000000000000002,
            "bin_end": 1.4000000000000001,
            "count": 0
           },
           {
            "bin_start": 1.4000000000000001,
            "bin_end": 1.6,
            "count": 0
           },
           {
            "bin_start": 1.6,
            "bin_end": 1.8,
            "count": 0
           },
           {
            "bin_start": 1.8,
            "bin_end": 2,
            "count": 4
           }
          ]
         }
        },
        {
         "name": "thalach",
         "dtype": "int64",
         "stats": {
          "unique_count": 91,
          "nan_count": 0,
          "min": "71",
          "max": "202",
          "histogram": [
           {
            "bin_start": 71,
            "bin_end": 84.1,
            "count": 1
           },
           {
            "bin_start": 84.1,
            "bin_end": 97.2,
            "count": 6
           },
           {
            "bin_start": 97.2,
            "bin_end": 110.3,
            "count": 11
           },
           {
            "bin_start": 110.3,
            "bin_end": 123.4,
            "count": 26
           },
           {
            "bin_start": 123.4,
            "bin_end": 136.5,
            "count": 35
           },
           {
            "bin_start": 136.5,
            "bin_end": 149.6,
            "count": 53
           },
           {
            "bin_start": 149.6,
            "bin_end": 162.7,
            "count": 77
           },
           {
            "bin_start": 162.7,
            "bin_end": 175.8,
            "count": 63
           },
           {
            "bin_start": 175.8,
            "bin_end": 188.89999999999998,
            "count": 26
           },
           {
            "bin_start": 188.89999999999998,
            "bin_end": 202,
            "count": 5
           }
          ]
         }
        },
        {
         "name": "exang",
         "dtype": "int64",
         "stats": {
          "unique_count": 2,
          "nan_count": 0,
          "min": "0",
          "max": "1",
          "histogram": [
           {
            "bin_start": 0,
            "bin_end": 0.1,
            "count": 204
           },
           {
            "bin_start": 0.1,
            "bin_end": 0.2,
            "count": 0
           },
           {
            "bin_start": 0.2,
            "bin_end": 0.30000000000000004,
            "count": 0
           },
           {
            "bin_start": 0.30000000000000004,
            "bin_end": 0.4,
            "count": 0
           },
           {
            "bin_start": 0.4,
            "bin_end": 0.5,
            "count": 0
           },
           {
            "bin_start": 0.5,
            "bin_end": 0.6000000000000001,
            "count": 0
           },
           {
            "bin_start": 0.6000000000000001,
            "bin_end": 0.7000000000000001,
            "count": 0
           },
           {
            "bin_start": 0.7000000000000001,
            "bin_end": 0.8,
            "count": 0
           },
           {
            "bin_start": 0.8,
            "bin_end": 0.9,
            "count": 0
           },
           {
            "bin_start": 0.9,
            "bin_end": 1,
            "count": 99
           }
          ]
         }
        },
        {
         "name": "oldpeak",
         "dtype": "float64",
         "stats": {
          "unique_count": 40,
          "nan_count": 0,
          "min": "0.0",
          "max": "6.2",
          "histogram": [
           {
            "bin_start": 0,
            "bin_end": 0.62,
            "count": 149
           },
           {
            "bin_start": 0.62,
            "bin_end": 1.24,
            "count": 50
           },
           {
            "bin_start": 1.24,
            "bin_end": 1.8599999999999999,
            "count": 40
           },
           {
            "bin_start": 1.8599999999999999,
            "bin_end": 2.48,
            "count": 24
           },
           {
            "bin_start": 2.48,
            "bin_end": 3.1,
            "count": 20
           },
           {
            "bin_start": 3.1,
            "bin_end": 3.7199999999999998,
            "count": 11
           },
           {
            "bin_start": 3.7199999999999998,
            "bin_end": 4.34,
            "count": 6
           },
           {
            "bin_start": 4.34,
            "bin_end": 4.96,
            "count": 1
           },
           {
            "bin_start": 4.96,
            "bin_end": 5.58,
            "count": 0
           },
           {
            "bin_start": 5.58,
            "bin_end": 6.2,
            "count": 2
           }
          ]
         }
        },
        {
         "name": "slope",
         "dtype": "int64",
         "stats": {
          "unique_count": 3,
          "nan_count": 0,
          "min": "0",
          "max": "2",
          "histogram": [
           {
            "bin_start": 0,
            "bin_end": 0.2,
            "count": 21
           },
           {
            "bin_start": 0.2,
            "bin_end": 0.4,
            "count": 0
           },
           {
            "bin_start": 0.4,
            "bin_end": 0.6000000000000001,
            "count": 0
           },
           {
            "bin_start": 0.6000000000000001,
            "bin_end": 0.8,
            "count": 0
           },
           {
            "bin_start": 0.8,
            "bin_end": 1,
            "count": 0
           },
           {
            "bin_start": 1,
            "bin_end": 1.2000000000000002,
            "count": 140
           },
           {
            "bin_start": 1.2000000000000002,
            "bin_end": 1.4000000000000001,
            "count": 0
           },
           {
            "bin_start": 1.4000000000000001,
            "bin_end": 1.6,
            "count": 0
           },
           {
            "bin_start": 1.6,
            "bin_end": 1.8,
            "count": 0
           },
           {
            "bin_start": 1.8,
            "bin_end": 2,
            "count": 142
           }
          ]
         }
        },
        {
         "name": "ca",
         "dtype": "int64",
         "stats": {
          "unique_count": 5,
          "nan_count": 0,
          "min": "0",
          "max": "4",
          "histogram": [
           {
            "bin_start": 0,
            "bin_end": 0.4,
            "count": 175
           },
           {
            "bin_start": 0.4,
            "bin_end": 0.8,
            "count": 0
           },
           {
            "bin_start": 0.8,
            "bin_end": 1.2000000000000002,
            "count": 65
           },
           {
            "bin_start": 1.2000000000000002,
            "bin_end": 1.6,
            "count": 0
           },
           {
            "bin_start": 1.6,
            "bin_end": 2,
            "count": 0
           },
           {
            "bin_start": 2,
            "bin_end": 2.4000000000000004,
            "count": 38
           },
           {
            "bin_start": 2.4000000000000004,
            "bin_end": 2.8000000000000003,
            "count": 0
           },
           {
            "bin_start": 2.8000000000000003,
            "bin_end": 3.2,
            "count": 20
           },
           {
            "bin_start": 3.2,
            "bin_end": 3.6,
            "count": 0
           },
           {
            "bin_start": 3.6,
            "bin_end": 4,
            "count": 5
           }
          ]
         }
        },
        {
         "name": "thal",
         "dtype": "int64",
         "stats": {
          "unique_count": 4,
          "nan_count": 0,
          "min": "0",
          "max": "3",
          "histogram": [
           {
            "bin_start": 0,
            "bin_end": 0.3,
            "count": 2
           },
           {
            "bin_start": 0.3,
            "bin_end": 0.6,
            "count": 0
           },
           {
            "bin_start": 0.6,
            "bin_end": 0.8999999999999999,
            "count": 0
           },
           {
            "bin_start": 0.8999999999999999,
            "bin_end": 1.2,
            "count": 18
           },
           {
            "bin_start": 1.2,
            "bin_end": 1.5,
            "count": 0
           },
           {
            "bin_start": 1.5,
            "bin_end": 1.7999999999999998,
            "count": 0
           },
           {
            "bin_start": 1.7999999999999998,
            "bin_end": 2.1,
            "count": 166
           },
           {
            "bin_start": 2.1,
            "bin_end": 2.4,
            "count": 0
           },
           {
            "bin_start": 2.4,
            "bin_end": 2.6999999999999997,
            "count": 0
           },
           {
            "bin_start": 2.6999999999999997,
            "bin_end": 3,
            "count": 117
           }
          ]
         }
        },
        {
         "name": "target",
         "dtype": "int64",
         "stats": {
          "unique_count": 2,
          "nan_count": 0,
          "min": "0",
          "max": "1",
          "histogram": [
           {
            "bin_start": 0,
            "bin_end": 0.1,
            "count": 138
           },
           {
            "bin_start": 0.1,
            "bin_end": 0.2,
            "count": 0
           },
           {
            "bin_start": 0.2,
            "bin_end": 0.30000000000000004,
            "count": 0
           },
           {
            "bin_start": 0.30000000000000004,
            "bin_end": 0.4,
            "count": 0
           },
           {
            "bin_start": 0.4,
            "bin_end": 0.5,
            "count": 0
           },
           {
            "bin_start": 0.5,
            "bin_end": 0.6000000000000001,
            "count": 0
           },
           {
            "bin_start": 0.6000000000000001,
            "bin_end": 0.7000000000000001,
            "count": 0
           },
           {
            "bin_start": 0.7000000000000001,
            "bin_end": 0.8,
            "count": 0
           },
           {
            "bin_start": 0.8,
            "bin_end": 0.9,
            "count": 0
           },
           {
            "bin_start": 0.9,
            "bin_end": 1,
            "count": 165
           }
          ]
         }
        },
        {
         "name": "_deepnote_index_column",
         "dtype": "int64"
        }
       ],
       "rows_top": [
        {
         "age": 63,
         "sex": 1,
         "cp": 3,
         "trestbps": 145,
         "chol": 233,
         "fbs": 1,
         "restecg": 0,
         "thalach": 150,
         "exang": 0,
         "oldpeak": 2.3,
         "slope": 0,
         "ca": 0,
         "thal": 1,
         "target": 1,
         "_deepnote_index_column": 0
        },
        {
         "age": 37,
         "sex": 1,
         "cp": 2,
         "trestbps": 130,
         "chol": 250,
         "fbs": 0,
         "restecg": 1,
         "thalach": 187,
         "exang": 0,
         "oldpeak": 3.5,
         "slope": 0,
         "ca": 0,
         "thal": 2,
         "target": 1,
         "_deepnote_index_column": 1
        },
        {
         "age": 41,
         "sex": 0,
         "cp": 1,
         "trestbps": 130,
         "chol": 204,
         "fbs": 0,
         "restecg": 0,
         "thalach": 172,
         "exang": 0,
         "oldpeak": 1.4,
         "slope": 2,
         "ca": 0,
         "thal": 2,
         "target": 1,
         "_deepnote_index_column": 2
        },
        {
         "age": 56,
         "sex": 1,
         "cp": 1,
         "trestbps": 120,
         "chol": 236,
         "fbs": 0,
         "restecg": 1,
         "thalach": 178,
         "exang": 0,
         "oldpeak": 0.8,
         "slope": 2,
         "ca": 0,
         "thal": 2,
         "target": 1,
         "_deepnote_index_column": 3
        },
        {
         "age": 57,
         "sex": 0,
         "cp": 0,
         "trestbps": 120,
         "chol": 354,
         "fbs": 0,
         "restecg": 1,
         "thalach": 163,
         "exang": 1,
         "oldpeak": 0.6,
         "slope": 2,
         "ca": 0,
         "thal": 2,
         "target": 1,
         "_deepnote_index_column": 4
        },
        {
         "age": 57,
         "sex": 1,
         "cp": 0,
         "trestbps": 140,
         "chol": 192,
         "fbs": 0,
         "restecg": 1,
         "thalach": 148,
         "exang": 0,
         "oldpeak": 0.4,
         "slope": 1,
         "ca": 0,
         "thal": 1,
         "target": 1,
         "_deepnote_index_column": 5
        },
        {
         "age": 56,
         "sex": 0,
         "cp": 1,
         "trestbps": 140,
         "chol": 294,
         "fbs": 0,
         "restecg": 0,
         "thalach": 153,
         "exang": 0,
         "oldpeak": 1.3,
         "slope": 1,
         "ca": 0,
         "thal": 2,
         "target": 1,
         "_deepnote_index_column": 6
        },
        {
         "age": 44,
         "sex": 1,
         "cp": 1,
         "trestbps": 120,
         "chol": 263,
         "fbs": 0,
         "restecg": 1,
         "thalach": 173,
         "exang": 0,
         "oldpeak": 0,
         "slope": 2,
         "ca": 0,
         "thal": 3,
         "target": 1,
         "_deepnote_index_column": 7
        },
        {
         "age": 52,
         "sex": 1,
         "cp": 2,
         "trestbps": 172,
         "chol": 199,
         "fbs": 1,
         "restecg": 1,
         "thalach": 162,
         "exang": 0,
         "oldpeak": 0.5,
         "slope": 2,
         "ca": 0,
         "thal": 3,
         "target": 1,
         "_deepnote_index_column": 8
        },
        {
         "age": 57,
         "sex": 1,
         "cp": 2,
         "trestbps": 150,
         "chol": 168,
         "fbs": 0,
         "restecg": 1,
         "thalach": 174,
         "exang": 0,
         "oldpeak": 1.6,
         "slope": 2,
         "ca": 0,
         "thal": 2,
         "target": 1,
         "_deepnote_index_column": 9
        },
        {
         "age": 54,
         "sex": 1,
         "cp": 0,
         "trestbps": 140,
         "chol": 239,
         "fbs": 0,
         "restecg": 1,
         "thalach": 160,
         "exang": 0,
         "oldpeak": 1.2,
         "slope": 2,
         "ca": 0,
         "thal": 2,
         "target": 1,
         "_deepnote_index_column": 10
        },
        {
         "age": 48,
         "sex": 0,
         "cp": 2,
         "trestbps": 130,
         "chol": 275,
         "fbs": 0,
         "restecg": 1,
         "thalach": 139,
         "exang": 0,
         "oldpeak": 0.2,
         "slope": 2,
         "ca": 0,
         "thal": 2,
         "target": 1,
         "_deepnote_index_column": 11
        },
        {
         "age": 49,
         "sex": 1,
         "cp": 1,
         "trestbps": 130,
         "chol": 266,
         "fbs": 0,
         "restecg": 1,
         "thalach": 171,
         "exang": 0,
         "oldpeak": 0.6,
         "slope": 2,
         "ca": 0,
         "thal": 2,
         "target": 1,
         "_deepnote_index_column": 12
        },
        {
         "age": 64,
         "sex": 1,
         "cp": 3,
         "trestbps": 110,
         "chol": 211,
         "fbs": 0,
         "restecg": 0,
         "thalach": 144,
         "exang": 1,
         "oldpeak": 1.8,
         "slope": 1,
         "ca": 0,
         "thal": 2,
         "target": 1,
         "_deepnote_index_column": 13
        },
        {
         "age": 58,
         "sex": 0,
         "cp": 3,
         "trestbps": 150,
         "chol": 283,
         "fbs": 1,
         "restecg": 0,
         "thalach": 162,
         "exang": 0,
         "oldpeak": 1,
         "slope": 2,
         "ca": 0,
         "thal": 2,
         "target": 1,
         "_deepnote_index_column": 14
        },
        {
         "age": 50,
         "sex": 0,
         "cp": 2,
         "trestbps": 120,
         "chol": 219,
         "fbs": 0,
         "restecg": 1,
         "thalach": 158,
         "exang": 0,
         "oldpeak": 1.6,
         "slope": 1,
         "ca": 0,
         "thal": 2,
         "target": 1,
         "_deepnote_index_column": 15
        },
        {
         "age": 58,
         "sex": 0,
         "cp": 2,
         "trestbps": 120,
         "chol": 340,
         "fbs": 0,
         "restecg": 1,
         "thalach": 172,
         "exang": 0,
         "oldpeak": 0,
         "slope": 2,
         "ca": 0,
         "thal": 2,
         "target": 1,
         "_deepnote_index_column": 16
        },
        {
         "age": 66,
         "sex": 0,
         "cp": 3,
         "trestbps": 150,
         "chol": 226,
         "fbs": 0,
         "restecg": 1,
         "thalach": 114,
         "exang": 0,
         "oldpeak": 2.6,
         "slope": 0,
         "ca": 0,
         "thal": 2,
         "target": 1,
         "_deepnote_index_column": 17
        },
        {
         "age": 43,
         "sex": 1,
         "cp": 0,
         "trestbps": 150,
         "chol": 247,
         "fbs": 0,
         "restecg": 1,
         "thalach": 171,
         "exang": 0,
         "oldpeak": 1.5,
         "slope": 2,
         "ca": 0,
         "thal": 2,
         "target": 1,
         "_deepnote_index_column": 18
        },
        {
         "age": 69,
         "sex": 0,
         "cp": 3,
         "trestbps": 140,
         "chol": 239,
         "fbs": 0,
         "restecg": 1,
         "thalach": 151,
         "exang": 0,
         "oldpeak": 1.8,
         "slope": 2,
         "ca": 2,
         "thal": 2,
         "target": 1,
         "_deepnote_index_column": 19
        },
        {
         "age": 59,
         "sex": 1,
         "cp": 0,
         "trestbps": 135,
         "chol": 234,
         "fbs": 0,
         "restecg": 1,
         "thalach": 161,
         "exang": 0,
         "oldpeak": 0.5,
         "slope": 1,
         "ca": 0,
         "thal": 3,
         "target": 1,
         "_deepnote_index_column": 20
        },
        {
         "age": 44,
         "sex": 1,
         "cp": 2,
         "trestbps": 130,
         "chol": 233,
         "fbs": 0,
         "restecg": 1,
         "thalach": 179,
         "exang": 1,
         "oldpeak": 0.4,
         "slope": 2,
         "ca": 0,
         "thal": 2,
         "target": 1,
         "_deepnote_index_column": 21
        },
        {
         "age": 42,
         "sex": 1,
         "cp": 0,
         "trestbps": 140,
         "chol": 226,
         "fbs": 0,
         "restecg": 1,
         "thalach": 178,
         "exang": 0,
         "oldpeak": 0,
         "slope": 2,
         "ca": 0,
         "thal": 2,
         "target": 1,
         "_deepnote_index_column": 22
        },
        {
         "age": 61,
         "sex": 1,
         "cp": 2,
         "trestbps": 150,
         "chol": 243,
         "fbs": 1,
         "restecg": 1,
         "thalach": 137,
         "exang": 1,
         "oldpeak": 1,
         "slope": 1,
         "ca": 0,
         "thal": 2,
         "target": 1,
         "_deepnote_index_column": 23
        },
        {
         "age": 40,
         "sex": 1,
         "cp": 3,
         "trestbps": 140,
         "chol": 199,
         "fbs": 0,
         "restecg": 1,
         "thalach": 178,
         "exang": 1,
         "oldpeak": 1.4,
         "slope": 2,
         "ca": 0,
         "thal": 3,
         "target": 1,
         "_deepnote_index_column": 24
        },
        {
         "age": 71,
         "sex": 0,
         "cp": 1,
         "trestbps": 160,
         "chol": 302,
         "fbs": 0,
         "restecg": 1,
         "thalach": 162,
         "exang": 0,
         "oldpeak": 0.4,
         "slope": 2,
         "ca": 2,
         "thal": 2,
         "target": 1,
         "_deepnote_index_column": 25
        },
        {
         "age": 59,
         "sex": 1,
         "cp": 2,
         "trestbps": 150,
         "chol": 212,
         "fbs": 1,
         "restecg": 1,
         "thalach": 157,
         "exang": 0,
         "oldpeak": 1.6,
         "slope": 2,
         "ca": 0,
         "thal": 2,
         "target": 1,
         "_deepnote_index_column": 26
        },
        {
         "age": 51,
         "sex": 1,
         "cp": 2,
         "trestbps": 110,
         "chol": 175,
         "fbs": 0,
         "restecg": 1,
         "thalach": 123,
         "exang": 0,
         "oldpeak": 0.6,
         "slope": 2,
         "ca": 0,
         "thal": 2,
         "target": 1,
         "_deepnote_index_column": 27
        },
        {
         "age": 65,
         "sex": 0,
         "cp": 2,
         "trestbps": 140,
         "chol": 417,
         "fbs": 1,
         "restecg": 0,
         "thalach": 157,
         "exang": 0,
         "oldpeak": 0.8,
         "slope": 2,
         "ca": 1,
         "thal": 2,
         "target": 1,
         "_deepnote_index_column": 28
        },
        {
         "age": 53,
         "sex": 1,
         "cp": 2,
         "trestbps": 130,
         "chol": 197,
         "fbs": 1,
         "restecg": 0,
         "thalach": 152,
         "exang": 0,
         "oldpeak": 1.2,
         "slope": 0,
         "ca": 0,
         "thal": 2,
         "target": 1,
         "_deepnote_index_column": 29
        },
        {
         "age": 41,
         "sex": 0,
         "cp": 1,
         "trestbps": 105,
         "chol": 198,
         "fbs": 0,
         "restecg": 1,
         "thalach": 168,
         "exang": 0,
         "oldpeak": 0,
         "slope": 2,
         "ca": 1,
         "thal": 2,
         "target": 1,
         "_deepnote_index_column": 30
        },
        {
         "age": 65,
         "sex": 1,
         "cp": 0,
         "trestbps": 120,
         "chol": 177,
         "fbs": 0,
         "restecg": 1,
         "thalach": 140,
         "exang": 0,
         "oldpeak": 0.4,
         "slope": 2,
         "ca": 0,
         "thal": 3,
         "target": 1,
         "_deepnote_index_column": 31
        },
        {
         "age": 44,
         "sex": 1,
         "cp": 1,
         "trestbps": 130,
         "chol": 219,
         "fbs": 0,
         "restecg": 0,
         "thalach": 188,
         "exang": 0,
         "oldpeak": 0,
         "slope": 2,
         "ca": 0,
         "thal": 2,
         "target": 1,
         "_deepnote_index_column": 32
        },
        {
         "age": 54,
         "sex": 1,
         "cp": 2,
         "trestbps": 125,
         "chol": 273,
         "fbs": 0,
         "restecg": 0,
         "thalach": 152,
         "exang": 0,
         "oldpeak": 0.5,
         "slope": 0,
         "ca": 1,
         "thal": 2,
         "target": 1,
         "_deepnote_index_column": 33
        },
        {
         "age": 51,
         "sex": 1,
         "cp": 3,
         "trestbps": 125,
         "chol": 213,
         "fbs": 0,
         "restecg": 0,
         "thalach": 125,
         "exang": 1,
         "oldpeak": 1.4,
         "slope": 2,
         "ca": 1,
         "thal": 2,
         "target": 1,
         "_deepnote_index_column": 34
        }
       ],
       "rows_bottom": [
        {
         "age": 49,
         "sex": 1,
         "cp": 2,
         "trestbps": 118,
         "chol": 149,
         "fbs": 0,
         "restecg": 0,
         "thalach": 126,
         "exang": 0,
         "oldpeak": 0.8,
         "slope": 2,
         "ca": 3,
         "thal": 2,
         "target": 0,
         "_deepnote_index_column": 267
        },
        {
         "age": 54,
         "sex": 1,
         "cp": 0,
         "trestbps": 122,
         "chol": 286,
         "fbs": 0,
         "restecg": 0,
         "thalach": 116,
         "exang": 1,
         "oldpeak": 3.2,
         "slope": 1,
         "ca": 2,
         "thal": 2,
         "target": 0,
         "_deepnote_index_column": 268
        },
        {
         "age": 56,
         "sex": 1,
         "cp": 0,
         "trestbps": 130,
         "chol": 283,
         "fbs": 1,
         "restecg": 0,
         "thalach": 103,
         "exang": 1,
         "oldpeak": 1.6,
         "slope": 0,
         "ca": 0,
         "thal": 3,
         "target": 0,
         "_deepnote_index_column": 269
        },
        {
         "age": 46,
         "sex": 1,
         "cp": 0,
         "trestbps": 120,
         "chol": 249,
         "fbs": 0,
         "restecg": 0,
         "thalach": 144,
         "exang": 0,
         "oldpeak": 0.8,
         "slope": 2,
         "ca": 0,
         "thal": 3,
         "target": 0,
         "_deepnote_index_column": 270
        },
        {
         "age": 61,
         "sex": 1,
         "cp": 3,
         "trestbps": 134,
         "chol": 234,
         "fbs": 0,
         "restecg": 1,
         "thalach": 145,
         "exang": 0,
         "oldpeak": 2.6,
         "slope": 1,
         "ca": 2,
         "thal": 2,
         "target": 0,
         "_deepnote_index_column": 271
        },
        {
         "age": 67,
         "sex": 1,
         "cp": 0,
         "trestbps": 120,
         "chol": 237,
         "fbs": 0,
         "restecg": 1,
         "thalach": 71,
         "exang": 0,
         "oldpeak": 1,
         "slope": 1,
         "ca": 0,
         "thal": 2,
         "target": 0,
         "_deepnote_index_column": 272
        },
        {
         "age": 58,
         "sex": 1,
         "cp": 0,
         "trestbps": 100,
         "chol": 234,
         "fbs": 0,
         "restecg": 1,
         "thalach": 156,
         "exang": 0,
         "oldpeak": 0.1,
         "slope": 2,
         "ca": 1,
         "thal": 3,
         "target": 0,
         "_deepnote_index_column": 273
        },
        {
         "age": 47,
         "sex": 1,
         "cp": 0,
         "trestbps": 110,
         "chol": 275,
         "fbs": 0,
         "restecg": 0,
         "thalach": 118,
         "exang": 1,
         "oldpeak": 1,
         "slope": 1,
         "ca": 1,
         "thal": 2,
         "target": 0,
         "_deepnote_index_column": 274
        },
        {
         "age": 52,
         "sex": 1,
         "cp": 0,
         "trestbps": 125,
         "chol": 212,
         "fbs": 0,
         "restecg": 1,
         "thalach": 168,
         "exang": 0,
         "oldpeak": 1,
         "slope": 2,
         "ca": 2,
         "thal": 3,
         "target": 0,
         "_deepnote_index_column": 275
        },
        {
         "age": 58,
         "sex": 1,
         "cp": 0,
         "trestbps": 146,
         "chol": 218,
         "fbs": 0,
         "restecg": 1,
         "thalach": 105,
         "exang": 0,
         "oldpeak": 2,
         "slope": 1,
         "ca": 1,
         "thal": 3,
         "target": 0,
         "_deepnote_index_column": 276
        },
        {
         "age": 57,
         "sex": 1,
         "cp": 1,
         "trestbps": 124,
         "chol": 261,
         "fbs": 0,
         "restecg": 1,
         "thalach": 141,
         "exang": 0,
         "oldpeak": 0.3,
         "slope": 2,
         "ca": 0,
         "thal": 3,
         "target": 0,
         "_deepnote_index_column": 277
        },
        {
         "age": 58,
         "sex": 0,
         "cp": 1,
         "trestbps": 136,
         "chol": 319,
         "fbs": 1,
         "restecg": 0,
         "thalach": 152,
         "exang": 0,
         "oldpeak": 0,
         "slope": 2,
         "ca": 2,
         "thal": 2,
         "target": 0,
         "_deepnote_index_column": 278
        },
        {
         "age": 61,
         "sex": 1,
         "cp": 0,
         "trestbps": 138,
         "chol": 166,
         "fbs": 0,
         "restecg": 0,
         "thalach": 125,
         "exang": 1,
         "oldpeak": 3.6,
         "slope": 1,
         "ca": 1,
         "thal": 2,
         "target": 0,
         "_deepnote_index_column": 279
        },
        {
         "age": 42,
         "sex": 1,
         "cp": 0,
         "trestbps": 136,
         "chol": 315,
         "fbs": 0,
         "restecg": 1,
         "thalach": 125,
         "exang": 1,
         "oldpeak": 1.8,
         "slope": 1,
         "ca": 0,
         "thal": 1,
         "target": 0,
         "_deepnote_index_column": 280
        },
        {
         "age": 52,
         "sex": 1,
         "cp": 0,
         "trestbps": 128,
         "chol": 204,
         "fbs": 1,
         "restecg": 1,
         "thalach": 156,
         "exang": 1,
         "oldpeak": 1,
         "slope": 1,
         "ca": 0,
         "thal": 0,
         "target": 0,
         "_deepnote_index_column": 281
        },
        {
         "age": 59,
         "sex": 1,
         "cp": 2,
         "trestbps": 126,
         "chol": 218,
         "fbs": 1,
         "restecg": 1,
         "thalach": 134,
         "exang": 0,
         "oldpeak": 2.2,
         "slope": 1,
         "ca": 1,
         "thal": 1,
         "target": 0,
         "_deepnote_index_column": 282
        },
        {
         "age": 40,
         "sex": 1,
         "cp": 0,
         "trestbps": 152,
         "chol": 223,
         "fbs": 0,
         "restecg": 1,
         "thalach": 181,
         "exang": 0,
         "oldpeak": 0,
         "slope": 2,
         "ca": 0,
         "thal": 3,
         "target": 0,
         "_deepnote_index_column": 283
        },
        {
         "age": 61,
         "sex": 1,
         "cp": 0,
         "trestbps": 140,
         "chol": 207,
         "fbs": 0,
         "restecg": 0,
         "thalach": 138,
         "exang": 1,
         "oldpeak": 1.9,
         "slope": 2,
         "ca": 1,
         "thal": 3,
         "target": 0,
         "_deepnote_index_column": 284
        },
        {
         "age": 46,
         "sex": 1,
         "cp": 0,
         "trestbps": 140,
         "chol": 311,
         "fbs": 0,
         "restecg": 1,
         "thalach": 120,
         "exang": 1,
         "oldpeak": 1.8,
         "slope": 1,
         "ca": 2,
         "thal": 3,
         "target": 0,
         "_deepnote_index_column": 285
        },
        {
         "age": 59,
         "sex": 1,
         "cp": 3,
         "trestbps": 134,
         "chol": 204,
         "fbs": 0,
         "restecg": 1,
         "thalach": 162,
         "exang": 0,
         "oldpeak": 0.8,
         "slope": 2,
         "ca": 2,
         "thal": 2,
         "target": 0,
         "_deepnote_index_column": 286
        },
        {
         "age": 57,
         "sex": 1,
         "cp": 1,
         "trestbps": 154,
         "chol": 232,
         "fbs": 0,
         "restecg": 0,
         "thalach": 164,
         "exang": 0,
         "oldpeak": 0,
         "slope": 2,
         "ca": 1,
         "thal": 2,
         "target": 0,
         "_deepnote_index_column": 287
        },
        {
         "age": 57,
         "sex": 1,
         "cp": 0,
         "trestbps": 110,
         "chol": 335,
         "fbs": 0,
         "restecg": 1,
         "thalach": 143,
         "exang": 1,
         "oldpeak": 3,
         "slope": 1,
         "ca": 1,
         "thal": 3,
         "target": 0,
         "_deepnote_index_column": 288
        },
        {
         "age": 55,
         "sex": 0,
         "cp": 0,
         "trestbps": 128,
         "chol": 205,
         "fbs": 0,
         "restecg": 2,
         "thalach": 130,
         "exang": 1,
         "oldpeak": 2,
         "slope": 1,
         "ca": 1,
         "thal": 3,
         "target": 0,
         "_deepnote_index_column": 289
        },
        {
         "age": 61,
         "sex": 1,
         "cp": 0,
         "trestbps": 148,
         "chol": 203,
         "fbs": 0,
         "restecg": 1,
         "thalach": 161,
         "exang": 0,
         "oldpeak": 0,
         "slope": 2,
         "ca": 1,
         "thal": 3,
         "target": 0,
         "_deepnote_index_column": 290
        },
        {
         "age": 58,
         "sex": 1,
         "cp": 0,
         "trestbps": 114,
         "chol": 318,
         "fbs": 0,
         "restecg": 2,
         "thalach": 140,
         "exang": 0,
         "oldpeak": 4.4,
         "slope": 0,
         "ca": 3,
         "thal": 1,
         "target": 0,
         "_deepnote_index_column": 291
        },
        {
         "age": 58,
         "sex": 0,
         "cp": 0,
         "trestbps": 170,
         "chol": 225,
         "fbs": 1,
         "restecg": 0,
         "thalach": 146,
         "exang": 1,
         "oldpeak": 2.8,
         "slope": 1,
         "ca": 2,
         "thal": 1,
         "target": 0,
         "_deepnote_index_column": 292
        },
        {
         "age": 67,
         "sex": 1,
         "cp": 2,
         "trestbps": 152,
         "chol": 212,
         "fbs": 0,
         "restecg": 0,
         "thalach": 150,
         "exang": 0,
         "oldpeak": 0.8,
         "slope": 1,
         "ca": 0,
         "thal": 3,
         "target": 0,
         "_deepnote_index_column": 293
        },
        {
         "age": 44,
         "sex": 1,
         "cp": 0,
         "trestbps": 120,
         "chol": 169,
         "fbs": 0,
         "restecg": 1,
         "thalach": 144,
         "exang": 1,
         "oldpeak": 2.8,
         "slope": 0,
         "ca": 0,
         "thal": 1,
         "target": 0,
         "_deepnote_index_column": 294
        },
        {
         "age": 63,
         "sex": 1,
         "cp": 0,
         "trestbps": 140,
         "chol": 187,
         "fbs": 0,
         "restecg": 0,
         "thalach": 144,
         "exang": 1,
         "oldpeak": 4,
         "slope": 2,
         "ca": 2,
         "thal": 3,
         "target": 0,
         "_deepnote_index_column": 295
        },
        {
         "age": 63,
         "sex": 0,
         "cp": 0,
         "trestbps": 124,
         "chol": 197,
         "fbs": 0,
         "restecg": 1,
         "thalach": 136,
         "exang": 1,
         "oldpeak": 0,
         "slope": 1,
         "ca": 0,
         "thal": 2,
         "target": 0,
         "_deepnote_index_column": 296
        },
        {
         "age": 59,
         "sex": 1,
         "cp": 0,
         "trestbps": 164,
         "chol": 176,
         "fbs": 1,
         "restecg": 0,
         "thalach": 90,
         "exang": 0,
         "oldpeak": 1,
         "slope": 1,
         "ca": 2,
         "thal": 1,
         "target": 0,
         "_deepnote_index_column": 297
        },
        {
         "age": 57,
         "sex": 0,
         "cp": 0,
         "trestbps": 140,
         "chol": 241,
         "fbs": 0,
         "restecg": 1,
         "thalach": 123,
         "exang": 1,
         "oldpeak": 0.2,
         "slope": 1,
         "ca": 0,
         "thal": 3,
         "target": 0,
         "_deepnote_index_column": 298
        },
        {
         "age": 45,
         "sex": 1,
         "cp": 3,
         "trestbps": 110,
         "chol": 264,
         "fbs": 0,
         "restecg": 1,
         "thalach": 132,
         "exang": 0,
         "oldpeak": 1.2,
         "slope": 1,
         "ca": 0,
         "thal": 3,
         "target": 0,
         "_deepnote_index_column": 299
        },
        {
         "age": 68,
         "sex": 1,
         "cp": 0,
         "trestbps": 144,
         "chol": 193,
         "fbs": 1,
         "restecg": 1,
         "thalach": 141,
         "exang": 0,
         "oldpeak": 3.4,
         "slope": 1,
         "ca": 2,
         "thal": 3,
         "target": 0,
         "_deepnote_index_column": 300
        },
        {
         "age": 57,
         "sex": 1,
         "cp": 0,
         "trestbps": 130,
         "chol": 131,
         "fbs": 0,
         "restecg": 1,
         "thalach": 115,
         "exang": 1,
         "oldpeak": 1.2,
         "slope": 1,
         "ca": 1,
         "thal": 3,
         "target": 0,
         "_deepnote_index_column": 301
        },
        {
         "age": 57,
         "sex": 0,
         "cp": 1,
         "trestbps": 130,
         "chol": 236,
         "fbs": 0,
         "restecg": 0,
         "thalach": 174,
         "exang": 0,
         "oldpeak": 0,
         "slope": 1,
         "ca": 1,
         "thal": 2,
         "target": 0,
         "_deepnote_index_column": 302
        }
       ]
      },
      "text/plain": "     age  sex  cp  trestbps  chol  fbs  restecg  thalach  exang  oldpeak  \\\n0     63    1   3       145   233    1        0      150      0      2.3   \n1     37    1   2       130   250    0        1      187      0      3.5   \n2     41    0   1       130   204    0        0      172      0      1.4   \n3     56    1   1       120   236    0        1      178      0      0.8   \n4     57    0   0       120   354    0        1      163      1      0.6   \n..   ...  ...  ..       ...   ...  ...      ...      ...    ...      ...   \n298   57    0   0       140   241    0        1      123      1      0.2   \n299   45    1   3       110   264    0        1      132      0      1.2   \n300   68    1   0       144   193    1        1      141      0      3.4   \n301   57    1   0       130   131    0        1      115      1      1.2   \n302   57    0   1       130   236    0        0      174      0      0.0   \n\n     slope  ca  thal  target  \n0        0   0     1       1  \n1        0   0     2       1  \n2        2   0     2       1  \n3        2   0     2       1  \n4        2   0     2       1  \n..     ...  ..   ...     ...  \n298      1   0     3       0  \n299      1   0     3       0  \n300      1   2     3       0  \n301      1   1     3       0  \n302      1   1     2       0  \n\n[303 rows x 14 columns]",
      "text/html": "<div>\n<style scoped>\n    .dataframe tbody tr th:only-of-type {\n        vertical-align: middle;\n    }\n\n    .dataframe tbody tr th {\n        vertical-align: top;\n    }\n\n    .dataframe thead th {\n        text-align: right;\n    }\n</style>\n<table border=\"1\" class=\"dataframe\">\n  <thead>\n    <tr style=\"text-align: right;\">\n      <th></th>\n      <th>age</th>\n      <th>sex</th>\n      <th>cp</th>\n      <th>trestbps</th>\n      <th>chol</th>\n      <th>fbs</th>\n      <th>restecg</th>\n      <th>thalach</th>\n      <th>exang</th>\n      <th>oldpeak</th>\n      <th>slope</th>\n      <th>ca</th>\n      <th>thal</th>\n      <th>target</th>\n    </tr>\n  </thead>\n  <tbody>\n    <tr>\n      <th>0</th>\n      <td>63</td>\n      <td>1</td>\n      <td>3</td>\n      <td>145</td>\n      <td>233</td>\n      <td>1</td>\n      <td>0</td>\n      <td>150</td>\n      <td>0</td>\n      <td>2.3</td>\n      <td>0</td>\n      <td>0</td>\n      <td>1</td>\n      <td>1</td>\n    </tr>\n    <tr>\n      <th>1</th>\n      <td>37</td>\n      <td>1</td>\n      <td>2</td>\n      <td>130</td>\n      <td>250</td>\n      <td>0</td>\n      <td>1</td>\n      <td>187</td>\n      <td>0</td>\n      <td>3.5</td>\n      <td>0</td>\n      <td>0</td>\n      <td>2</td>\n      <td>1</td>\n    </tr>\n    <tr>\n      <th>2</th>\n      <td>41</td>\n      <td>0</td>\n      <td>1</td>\n      <td>130</td>\n      <td>204</td>\n      <td>0</td>\n      <td>0</td>\n      <td>172</td>\n      <td>0</td>\n      <td>1.4</td>\n      <td>2</td>\n      <td>0</td>\n      <td>2</td>\n      <td>1</td>\n    </tr>\n    <tr>\n      <th>3</th>\n      <td>56</td>\n      <td>1</td>\n      <td>1</td>\n      <td>120</td>\n      <td>236</td>\n      <td>0</td>\n      <td>1</td>\n      <td>178</td>\n      <td>0</td>\n      <td>0.8</td>\n      <td>2</td>\n      <td>0</td>\n      <td>2</td>\n      <td>1</td>\n    </tr>\n    <tr>\n      <th>4</th>\n      <td>57</td>\n      <td>0</td>\n      <td>0</td>\n      <td>120</td>\n      <td>354</td>\n      <td>0</td>\n      <td>1</td>\n      <td>163</td>\n      <td>1</td>\n      <td>0.6</td>\n      <td>2</td>\n      <td>0</td>\n      <td>2</td>\n      <td>1</td>\n    </tr>\n    <tr>\n      <th>...</th>\n      <td>...</td>\n      <td>...</td>\n      <td>...</td>\n      <td>...</td>\n      <td>...</td>\n      <td>...</td>\n      <td>...</td>\n      <td>...</td>\n      <td>...</td>\n      <td>...</td>\n      <td>...</td>\n      <td>...</td>\n      <td>...</td>\n      <td>...</td>\n    </tr>\n    <tr>\n      <th>298</th>\n      <td>57</td>\n      <td>0</td>\n      <td>0</td>\n      <td>140</td>\n      <td>241</td>\n      <td>0</td>\n      <td>1</td>\n      <td>123</td>\n      <td>1</td>\n      <td>0.2</td>\n      <td>1</td>\n      <td>0</td>\n      <td>3</td>\n      <td>0</td>\n    </tr>\n    <tr>\n      <th>299</th>\n      <td>45</td>\n      <td>1</td>\n      <td>3</td>\n      <td>110</td>\n      <td>264</td>\n      <td>0</td>\n      <td>1</td>\n      <td>132</td>\n      <td>0</td>\n      <td>1.2</td>\n      <td>1</td>\n      <td>0</td>\n      <td>3</td>\n      <td>0</td>\n    </tr>\n    <tr>\n      <th>300</th>\n      <td>68</td>\n      <td>1</td>\n      <td>0</td>\n      <td>144</td>\n      <td>193</td>\n      <td>1</td>\n      <td>1</td>\n      <td>141</td>\n      <td>0</td>\n      <td>3.4</td>\n      <td>1</td>\n      <td>2</td>\n      <td>3</td>\n      <td>0</td>\n    </tr>\n    <tr>\n      <th>301</th>\n      <td>57</td>\n      <td>1</td>\n      <td>0</td>\n      <td>130</td>\n      <td>131</td>\n      <td>0</td>\n      <td>1</td>\n      <td>115</td>\n      <td>1</td>\n      <td>1.2</td>\n      <td>1</td>\n      <td>1</td>\n      <td>3</td>\n      <td>0</td>\n    </tr>\n    <tr>\n      <th>302</th>\n      <td>57</td>\n      <td>0</td>\n      <td>1</td>\n      <td>130</td>\n      <td>236</td>\n      <td>0</td>\n      <td>0</td>\n      <td>174</td>\n      <td>0</td>\n      <td>0.0</td>\n      <td>1</td>\n      <td>1</td>\n      <td>2</td>\n      <td>0</td>\n    </tr>\n  </tbody>\n</table>\n<p>303 rows × 14 columns</p>\n</div>"
     },
     "metadata": {},
     "output_type": "display_data"
    },
    {
     "output_type": "execute_result",
     "execution_count": 3,
     "data": {
      "text/plain": "'\\n1. age (#)\\n2. sex : 1= Male, 0= Female (Binary)\\n3. (cp)chest pain type (4 values -Ordinal):Value 1: typical angina ,Value 2: atypical angina, Value 3: non-anginal pain , Value 4: asymptomatic\\n4. (trestbps) resting blood pressure (#)\\n5. (chol) serum cholesterol in mg/dl (#)\\n6. (fbs)fasting blood sugar > 120 mg/dl(Binary)(1 = true; 0 = false)\\n7. (restecg) resting electrocardiography results(values 0,1,2)\\n8. (thalach) maximum heart rate achieved (#)\\n9. (exang) exercise induced angina (binary) (1 = yes; 0 = no)\\n10. (oldpeak) = ST depression induced by exercise relative to rest (#)\\n11. (slope) of the peak exercise ST segment (Ordinal) (Value 1: up sloping , Value 2: flat , Value 3: down sloping )\\n12. (ca) number of major vessels (0–3, Ordinal) colored by fluoroscopy\\n13. (thal) maximum heart rate achieved — (Ordinal): 3 = normal; 6 = fixed defect; 7 = reversible defect\\ntarget = 0 not suffering // 1 suffering\\n'"
     },
     "metadata": {}
    }
   ]
  },
  {
   "cell_type": "code",
   "metadata": {
    "cell_id": "00004-5d6ca672-dcd0-4f90-9d4a-6aa87e9919b1",
    "deepnote_to_be_reexecuted": false,
    "source_hash": "25d43fa0",
    "execution_start": 1620400717715,
    "execution_millis": 183840,
    "deepnote_cell_type": "code"
   },
   "source": "df.columns",
   "execution_count": 4,
   "outputs": [
    {
     "output_type": "execute_result",
     "execution_count": 4,
     "data": {
      "text/plain": "Index(['age', 'sex', 'cp', 'trestbps', 'chol', 'fbs', 'restecg', 'thalach',\n       'exang', 'oldpeak', 'slope', 'ca', 'thal', 'target'],\n      dtype='object')"
     },
     "metadata": {}
    }
   ]
  },
  {
   "cell_type": "code",
   "metadata": {
    "scrolled": false,
    "cell_id": "00005-3867faba-38a5-4a15-8b3b-0a7a1f62efec",
    "deepnote_to_be_reexecuted": false,
    "source_hash": "f3dd26da",
    "execution_start": 1620400717722,
    "execution_millis": 50,
    "deepnote_cell_type": "code"
   },
   "source": "df.isnull().sum()",
   "execution_count": 5,
   "outputs": []
  },
  {
   "cell_type": "code",
   "metadata": {
    "cell_id": "00006-815626eb-eeac-4dc2-ad63-cecab8c8aaca",
    "deepnote_to_be_reexecuted": false,
    "source_hash": "da2e4188",
    "execution_start": 1620400717770,
    "execution_millis": 7,
    "deepnote_cell_type": "code"
   },
   "source": "df.nunique(axis=0)",
   "execution_count": 6,
   "outputs": [
    {
     "output_type": "execute_result",
     "execution_count": 6,
     "data": {
      "text/plain": "age          41\nsex           2\ncp            4\ntrestbps     49\nchol        152\nfbs           2\nrestecg       3\nthalach      91\nexang         2\noldpeak      40\nslope         3\nca            5\nthal          4\ntarget        2\ndtype: int64"
     },
     "metadata": {}
    }
   ]
  },
  {
   "cell_type": "code",
   "metadata": {
    "scrolled": true,
    "cell_id": "00007-4ed7b9bd-1dd0-4367-a6e2-30256298bd4f",
    "deepnote_to_be_reexecuted": false,
    "source_hash": "b3cf3970",
    "execution_start": 1620400717771,
    "execution_millis": 253,
    "deepnote_cell_type": "code"
   },
   "source": "df.target.plot.hist();",
   "execution_count": 7,
   "outputs": [
    {
     "data": {
      "text/plain": "<Figure size 432x288 with 1 Axes>",
      "image/png": "[encoded data removed]"
     },
     "metadata": {
      "needs_background": "light",
      "image/png": {
       "width": 389,
       "height": 248
      }
     },
     "output_type": "display_data"
    }
   ]
  },
  {
   "cell_type": "code",
   "metadata": {
    "cell_id": "00008-22f59b3a-0311-4c1f-95c0-1612bd879632",
    "deepnote_to_be_reexecuted": false,
    "source_hash": "b623e53d",
    "execution_start": 1620400718009,
    "execution_millis": 4,
    "deepnote_cell_type": "code"
   },
   "source": "",
   "execution_count": 7,
   "outputs": []
  },
  {
   "cell_type": "code",
   "metadata": {
    "scrolled": true,
    "cell_id": "00009-b06a867d-d39b-4192-930b-d7a97fb5aaec",
    "deepnote_to_be_reexecuted": false,
    "source_hash": "c07f6429",
    "execution_start": 1620400718020,
    "execution_millis": 3145,
    "deepnote_cell_type": "code"
   },
   "source": "corr = df.corr()\nplt.subplots(figsize=(15,10))\nsb.heatmap(corr, xticklabels=corr.columns, yticklabels=corr.columns, annot=True, cmap=sb.diverging_palette(220, 20, as_cmap=True))\nsb.heatmap(corr, xticklabels=corr.columns,\n            yticklabels=corr.columns, \n            annot=True,\n            cmap=sb.diverging_palette(220, 20, as_cmap=True))",
   "execution_count": 8,
   "outputs": [
    {
     "output_type": "execute_result",
     "execution_count": 8,
     "data": {
      "text/plain": "<AxesSubplot:>"
     },
     "metadata": {}
    },
    {
     "data": {
      "text/plain": "<Figure size 1080x720 with 3 Axes>",
      "image/png": "[encoded data removed]"
     },
     "metadata": {
      "needs_background": "light",
      "image/png": {
       "width": 832,
       "height": 578
      }
     },
     "output_type": "display_data"
    }
   ]
  },
  {
   "cell_type": "code",
   "metadata": {
    "scrolled": true,
    "cell_id": "00010-f9a0ef03-754c-4aa4-a193-7f947e215f1c",
    "deepnote_to_be_reexecuted": false,
    "source_hash": "98182cdf",
    "execution_start": 1620400721167,
    "execution_millis": 489,
    "deepnote_cell_type": "code"
   },
   "source": "sb.catplot(x=\"target\", y=\"oldpeak\", hue=\"slope\", kind=\"bar\", data=df);\n\nplt.title('ST depression (induced by exercise relative to rest) vs. Heart Disease',size=25)\nplt.xlabel('Heart Disease',size=20)\nplt.ylabel('ST depression',size=20)",
   "execution_count": 9,
   "outputs": [
    {
     "output_type": "execute_result",
     "execution_count": 9,
     "data": {
      "text/plain": "Text(10.778541666666662, 0.5, 'ST depression')"
     },
     "metadata": {}
    },
    {
     "data": {
      "text/plain": "<Figure size 402.375x360 with 1 Axes>",
      "image/png": "[encoded data removed]"
     },
     "metadata": {
      "needs_background": "light",
      "image/png": {
       "width": 887,
       "height": 400
      }
     },
     "output_type": "display_data"
    }
   ]
  },
  {
   "cell_type": "markdown",
   "source": "# Having a Disease & not",
   "metadata": {
    "cell_id": "00011-766b823e-db73-4ffe-b743-0fa2b62f2d16",
    "deepnote_cell_type": "markdown"
   }
  },
  {
   "cell_type": "code",
   "metadata": {
    "cell_id": "00012-d3327598-2b38-47f2-a903-b4861fd4ffad",
    "deepnote_to_be_reexecuted": false,
    "source_hash": "cf6897e2",
    "execution_start": 1620400721668,
    "execution_millis": 81,
    "deepnote_cell_type": "code"
   },
   "source": "# Disease\npos_data = df[df['target']==1]\npos_data.describe()",
   "execution_count": 10,
   "outputs": [
    {
     "output_type": "execute_result",
     "execution_count": 10,
     "data": {
      "application/vnd.deepnote.dataframe.v2+json": {
       "row_count": 8,
       "column_count": 14,
       "columns": [
        {
         "name": "age",
         "dtype": "float64",
         "stats": {
          "unique_count": 8,
          "nan_count": 0,
          "min": "9.550650751946774",
          "max": "165.0",
          "histogram": [
           {
            "bin_start": 9.550650751946774,
            "bin_end": 25.095585676752098,
            "count": 1
           },
           {
            "bin_start": 25.095585676752098,
            "bin_end": 40.64052060155742,
            "count": 1
           },
           {
            "bin_start": 40.64052060155742,
            "bin_end": 56.185455526362745,
            "count": 3
           },
           {
            "bin_start": 56.185455526362745,
            "bin_end": 71.73039045116806,
            "count": 1
           },
           {
            "bin_start": 71.73039045116806,
            "bin_end": 87.2753253759734,
            "count": 1
           },
           {
            "bin_start": 87.2753253759734,
            "bin_end": 102.82026030077871,
            "count": 0
           },
           {
            "bin_start": 102.82026030077871,
            "bin_end": 118.36519522558405,
            "count": 0
           },
           {
            "bin_start": 118.36519522558405,
            "bin_end": 133.91013015038936,
            "count": 0
           },
           {
            "bin_start": 133.91013015038936,
            "bin_end": 149.45506507519468,
            "count": 0
           },
           {
            "bin_start": 149.45506507519468,
            "bin_end": 165,
            "count": 1
           }
          ]
         }
        },
        {
         "name": "sex",
         "dtype": "float64",
         "stats": {
          "unique_count": 5,
          "nan_count": 0,
          "min": "0.0",
          "max": "165.0",
          "histogram": [
           {
            "bin_start": 0,
            "bin_end": 16.5,
            "count": 7
           },
           {
            "bin_start": 16.5,
            "bin_end": 33,
            "count": 0
           },
           {
            "bin_start": 33,
            "bin_end": 49.5,
            "count": 0
           },
           {
            "bin_start": 49.5,
            "bin_end": 66,
            "count": 0
           },
           {
            "bin_start": 66,
            "bin_end": 82.5,
            "count": 0
           },
           {
            "bin_start": 82.5,
            "bin_end": 99,
            "count": 0
           },
           {
            "bin_start": 99,
            "bin_end": 115.5,
            "count": 0
           },
           {
            "bin_start": 115.5,
            "bin_end": 132,
            "count": 0
           },
           {
            "bin_start": 132,
            "bin_end": 148.5,
            "count": 0
           },
           {
            "bin_start": 148.5,
            "bin_end": 165,
            "count": 1
           }
          ]
         }
        },
        {
         "name": "cp",
         "dtype": "float64",
         "stats": {
          "unique_count": 7,
          "nan_count": 0,
          "min": "0.0",
          "max": "165.0",
          "histogram": [
           {
            "bin_start": 0,
            "bin_end": 16.5,
            "count": 7
           },
           {
            "bin_start": 16.5,
            "bin_end": 33,
            "count": 0
           },
           {
            "bin_start": 33,
            "bin_end": 49.5,
            "count": 0
           },
           {
            "bin_start": 49.5,
            "bin_end": 66,
            "count": 0
           },
           {
            "bin_start": 66,
            "bin_end": 82.5,
            "count": 0
           },
           {
            "bin_start": 82.5,
            "bin_end": 99,
            "count": 0
           },
           {
            "bin_start": 99,
            "bin_end": 115.5,
            "count": 0
           },
           {
            "bin_start": 115.5,
            "bin_end": 132,
            "count": 0
           },
           {
            "bin_start": 132,
            "bin_end": 148.5,
            "count": 0
           },
           {
            "bin_start": 148.5,
            "bin_end": 165,
            "count": 1
           }
          ]
         }
        },
        {
         "name": "trestbps",
         "dtype": "float64",
         "stats": {
          "unique_count": 8,
          "nan_count": 0,
          "min": "16.169613266874865",
          "max": "180.0",
          "histogram": [
           {
            "bin_start": 16.169613266874865,
            "bin_end": 32.552651940187374,
            "count": 1
           },
           {
            "bin_start": 32.552651940187374,
            "bin_end": 48.93569061349989,
            "count": 0
           },
           {
            "bin_start": 48.93569061349989,
            "bin_end": 65.3187292868124,
            "count": 0
           },
           {
            "bin_start": 65.3187292868124,
            "bin_end": 81.70176796012491,
            "count": 0
           },
           {
            "bin_start": 81.70176796012491,
            "bin_end": 98.08480663343742,
            "count": 1
           },
           {
            "bin_start": 98.08480663343742,
            "bin_end": 114.46784530674994,
            "count": 0
           },
           {
            "bin_start": 114.46784530674994,
            "bin_end": 130.85088398006246,
            "count": 3
           },
           {
            "bin_start": 130.85088398006246,
            "bin_end": 147.23392265337498,
            "count": 1
           },
           {
            "bin_start": 147.23392265337498,
            "bin_end": 163.6169613266875,
            "count": 0
           },
           {
            "bin_start": 163.6169613266875,
            "bin_end": 180,
            "count": 2
           }
          ]
         }
        },
        {
         "name": "chol",
         "dtype": "float64",
         "stats": {
          "unique_count": 8,
          "nan_count": 0,
          "min": "53.55287155453833",
          "max": "564.0",
          "histogram": [
           {
            "bin_start": 53.55287155453833,
            "bin_end": 104.5975843990845,
            "count": 1
           },
           {
            "bin_start": 104.5975843990845,
            "bin_end": 155.64229724363065,
            "count": 1
           },
           {
            "bin_start": 155.64229724363065,
            "bin_end": 206.68701008817686,
            "count": 1
           },
           {
            "bin_start": 206.68701008817686,
            "bin_end": 257.731722932723,
            "count": 3
           },
           {
            "bin_start": 257.731722932723,
            "bin_end": 308.77643577726917,
            "count": 1
           },
           {
            "bin_start": 308.77643577726917,
            "bin_end": 359.8211486218154,
            "count": 0
           },
           {
            "bin_start": 359.8211486218154,
            "bin_end": 410.86586146636154,
            "count": 0
           },
           {
            "bin_start": 410.86586146636154,
            "bin_end": 461.9105743109077,
            "count": 0
           },
           {
            "bin_start": 461.9105743109077,
            "bin_end": 512.9552871554538,
            "count": 0
           },
           {
            "bin_start": 512.9552871554538,
            "bin_end": 564,
            "count": 1
           }
          ]
         }
        },
        {
         "name": "fbs",
         "dtype": "float64",
         "stats": {
          "unique_count": 5,
          "nan_count": 0,
          "min": "0.0",
          "max": "165.0",
          "histogram": [
           {
            "bin_start": 0,
            "bin_end": 16.5,
            "count": 7
           },
           {
            "bin_start": 16.5,
            "bin_end": 33,
            "count": 0
           },
           {
            "bin_start": 33,
            "bin_end": 49.5,
            "count": 0
           },
           {
            "bin_start": 49.5,
            "bin_end": 66,
            "count": 0
           },
           {
            "bin_start": 66,
            "bin_end": 82.5,
            "count": 0
           },
           {
            "bin_start": 82.5,
            "bin_end": 99,
            "count": 0
           },
           {
            "bin_start": 99,
            "bin_end": 115.5,
            "count": 0
           },
           {
            "bin_start": 115.5,
            "bin_end": 132,
            "count": 0
           },
           {
            "bin_start": 132,
            "bin_end": 148.5,
            "count": 0
           },
           {
            "bin_start": 148.5,
            "bin_end": 165,
            "count": 1
           }
          ]
         }
        },
        {
         "name": "restecg",
         "dtype": "float64",
         "stats": {
          "unique_count": 6,
          "nan_count": 0,
          "min": "0.0",
          "max": "165.0",
          "histogram": [
           {
            "bin_start": 0,
            "bin_end": 16.5,
            "count": 7
           },
           {
            "bin_start": 16.5,
            "bin_end": 33,
            "count": 0
           },
           {
            "bin_start": 33,
            "bin_end": 49.5,
            "count": 0
           },
           {
            "bin_start": 49.5,
            "bin_end": 66,
            "count": 0
           },
           {
            "bin_start": 66,
            "bin_end": 82.5,
            "count": 0
           },
           {
            "bin_start": 82.5,
            "bin_end": 99,
            "count": 0
           },
           {
            "bin_start": 99,
            "bin_end": 115.5,
            "count": 0
           },
           {
            "bin_start": 115.5,
            "bin_end": 132,
            "count": 0
           },
           {
            "bin_start": 132,
            "bin_end": 148.5,
            "count": 0
           },
           {
            "bin_start": 148.5,
            "bin_end": 165,
            "count": 1
           }
          ]
         }
        },
        {
         "name": "thalach",
         "dtype": "float64",
         "stats": {
          "unique_count": 8,
          "nan_count": 0,
          "min": "19.174275619393168",
          "max": "202.0",
          "histogram": [
           {
            "bin_start": 19.174275619393168,
            "bin_end": 37.456848057453854,
            "count": 1
           },
           {
            "bin_start": 37.456848057453854,
            "bin_end": 55.73942049551454,
            "count": 0
           },
           {
            "bin_start": 55.73942049551454,
            "bin_end": 74.02199293357522,
            "count": 0
           },
           {
            "bin_start": 74.02199293357522,
            "bin_end": 92.3045653716359,
            "count": 0
           },
           {
            "bin_start": 92.3045653716359,
            "bin_end": 110.58713780969659,
            "count": 1
           },
           {
            "bin_start": 110.58713780969659,
            "bin_end": 128.86971024775727,
            "count": 0
           },
           {
            "bin_start": 128.86971024775727,
            "bin_end": 147.15228268581794,
            "count": 0
           },
           {
            "bin_start": 147.15228268581794,
            "bin_end": 165.43485512387863,
            "count": 4
           },
           {
            "bin_start": 165.43485512387863,
            "bin_end": 183.71742756193933,
            "count": 1
           },
           {
            "bin_start": 183.71742756193933,
            "bin_end": 202,
            "count": 1
           }
          ]
         }
        },
        {
         "name": "exang",
         "dtype": "float64",
         "stats": {
          "unique_count": 5,
          "nan_count": 0,
          "min": "0.0",
          "max": "165.0",
          "histogram": [
           {
            "bin_start": 0,
            "bin_end": 16.5,
            "count": 7
           },
           {
            "bin_start": 16.5,
            "bin_end": 33,
            "count": 0
           },
           {
            "bin_start": 33,
            "bin_end": 49.5,
            "count": 0
           },
           {
            "bin_start": 49.5,
            "bin_end": 66,
            "count": 0
           },
           {
            "bin_start": 66,
            "bin_end": 82.5,
            "count": 0
           },
           {
            "bin_start": 82.5,
            "bin_end": 99,
            "count": 0
           },
           {
            "bin_start": 99,
            "bin_end": 115.5,
            "count": 0
           },
           {
            "bin_start": 115.5,
            "bin_end": 132,
            "count": 0
           },
           {
            "bin_start": 132,
            "bin_end": 148.5,
            "count": 0
           },
           {
            "bin_start": 148.5,
            "bin_end": 165,
            "count": 1
           }
          ]
         }
        },
        {
         "name": "oldpeak",
         "dtype": "float64",
         "stats": {
          "unique_count": 7,
          "nan_count": 0,
          "min": "0.0",
          "max": "165.0",
          "histogram": [
           {
            "bin_start": 0,
            "bin_end": 16.5,
            "count": 7
           },
           {
            "bin_start": 16.5,
            "bin_end": 33,
            "count": 0
           },
           {
            "bin_start": 33,
            "bin_end": 49.5,
            "count": 0
           },
           {
            "bin_start": 49.5,
            "bin_end": 66,
            "count": 0
           },
           {
            "bin_start": 66,
            "bin_end": 82.5,
            "count": 0
           },
           {
            "bin_start": 82.5,
            "bin_end": 99,
            "count": 0
           },
           {
            "bin_start": 99,
            "bin_end": 115.5,
            "count": 0
           },
           {
            "bin_start": 115.5,
            "bin_end": 132,
            "count": 0
           },
           {
            "bin_start": 132,
            "bin_end": 148.5,
            "count": 0
           },
           {
            "bin_start": 148.5,
            "bin_end": 165,
            "count": 1
           }
          ]
         }
        },
        {
         "name": "slope",
         "dtype": "float64",
         "stats": {
          "unique_count": 6,
          "nan_count": 0,
          "min": "0.0",
          "max": "165.0",
          "histogram": [
           {
            "bin_start": 0,
            "bin_end": 16.5,
            "count": 7
           },
           {
            "bin_start": 16.5,
            "bin_end": 33,
            "count": 0
           },
           {
            "bin_start": 33,
            "bin_end": 49.5,
            "count": 0
           },
           {
            "bin_start": 49.5,
            "bin_end": 66,
            "count": 0
           },
           {
            "bin_start": 66,
            "bin_end": 82.5,
            "count": 0
           },
           {
            "bin_start": 82.5,
            "bin_end": 99,
            "count": 0
           },
           {
            "bin_start": 99,
            "bin_end": 115.5,
            "count": 0
           },
           {
            "bin_start": 115.5,
            "bin_end": 132,
            "count": 0
           },
           {
            "bin_start": 132,
            "bin_end": 148.5,
            "count": 0
           },
           {
            "bin_start": 148.5,
            "bin_end": 165,
            "count": 1
           }
          ]
         }
        },
        {
         "name": "ca",
         "dtype": "float64",
         "stats": {
          "unique_count": 5,
          "nan_count": 0,
          "min": "0.0",
          "max": "165.0",
          "histogram": [
           {
            "bin_start": 0,
            "bin_end": 16.5,
            "count": 7
           },
           {
            "bin_start": 16.5,
            "bin_end": 33,
            "count": 0
           },
           {
            "bin_start": 33,
            "bin_end": 49.5,
            "count": 0
           },
           {
            "bin_start": 49.5,
            "bin_end": 66,
            "count": 0
           },
           {
            "bin_start": 66,
            "bin_end": 82.5,
            "count": 0
           },
           {
            "bin_start": 82.5,
            "bin_end": 99,
            "count": 0
           },
           {
            "bin_start": 99,
            "bin_end": 115.5,
            "count": 0
           },
           {
            "bin_start": 115.5,
            "bin_end": 132,
            "count": 0
           },
           {
            "bin_start": 132,
            "bin_end": 148.5,
            "count": 0
           },
           {
            "bin_start": 148.5,
            "bin_end": 165,
            "count": 1
           }
          ]
         }
        },
        {
         "name": "thal",
         "dtype": "float64",
         "stats": {
          "unique_count": 6,
          "nan_count": 0,
          "min": "0.0",
          "max": "165.0",
          "histogram": [
           {
            "bin_start": 0,
            "bin_end": 16.5,
            "count": 7
           },
           {
            "bin_start": 16.5,
            "bin_end": 33,
            "count": 0
           },
           {
            "bin_start": 33,
            "bin_end": 49.5,
            "count": 0
           },
           {
            "bin_start": 49.5,
            "bin_end": 66,
            "count": 0
           },
           {
            "bin_start": 66,
            "bin_end": 82.5,
            "count": 0
           },
           {
            "bin_start": 82.5,
            "bin_end": 99,
            "count": 0
           },
           {
            "bin_start": 99,
            "bin_end": 115.5,
            "count": 0
           },
           {
            "bin_start": 115.5,
            "bin_end": 132,
            "count": 0
           },
           {
            "bin_start": 132,
            "bin_end": 148.5,
            "count": 0
           },
           {
            "bin_start": 148.5,
            "bin_end": 165,
            "count": 1
           }
          ]
         }
        },
        {
         "name": "target",
         "dtype": "float64",
         "stats": {
          "unique_count": 3,
          "nan_count": 0,
          "min": "0.0",
          "max": "165.0",
          "histogram": [
           {
            "bin_start": 0,
            "bin_end": 16.5,
            "count": 7
           },
           {
            "bin_start": 16.5,
            "bin_end": 33,
            "count": 0
           },
           {
            "bin_start": 33,
            "bin_end": 49.5,
            "count": 0
           },
           {
            "bin_start": 49.5,
            "bin_end": 66,
            "count": 0
           },
           {
            "bin_start": 66,
            "bin_end": 82.5,
            "count": 0
           },
           {
            "bin_start": 82.5,
            "bin_end": 99,
            "count": 0
           },
           {
            "bin_start": 99,
            "bin_end": 115.5,
            "count": 0
           },
           {
            "bin_start": 115.5,
            "bin_end": 132,
            "count": 0
           },
           {
            "bin_start": 132,
            "bin_end": 148.5,
            "count": 0
           },
           {
            "bin_start": 148.5,
            "bin_end": 165,
            "count": 1
           }
          ]
         }
        },
        {
         "name": "_deepnote_index_column",
         "dtype": "object"
        }
       ],
       "rows_top": [
        {
         "age": 165,
         "sex": 165,
         "cp": 165,
         "trestbps": 165,
         "chol": 165,
         "fbs": 165,
         "restecg": 165,
         "thalach": 165,
         "exang": 165,
         "oldpeak": 165,
         "slope": 165,
         "ca": 165,
         "thal": 165,
         "target": 165,
         "_deepnote_index_column": "count"
        },
        {
         "age": 52.4969696969697,
         "sex": 0.5636363636363636,
         "cp": 1.3757575757575757,
         "trestbps": 129.3030303030303,
         "chol": 242.23030303030302,
         "fbs": 0.1393939393939394,
         "restecg": 0.593939393939394,
         "thalach": 158.46666666666667,
         "exang": 0.1393939393939394,
         "oldpeak": 0.583030303030303,
         "slope": 1.593939393939394,
         "ca": 0.36363636363636365,
         "thal": 2.121212121212121,
         "target": 1,
         "_deepnote_index_column": "mean"
        },
        {
         "age": 9.550650751946774,
         "sex": 0.49744357555882157,
         "cp": 0.9522215049717543,
         "trestbps": 16.169613266874865,
         "chol": 53.55287155453833,
         "fbs": 0.34741150297891615,
         "restecg": 0.5048178818796776,
         "thalach": 19.174275619393168,
         "exang": 0.34741150297891615,
         "oldpeak": 0.7806832719018298,
         "slope": 0.5936346262434834,
         "ca": 0.8488938935886287,
         "thal": 0.46575245686060807,
         "target": 0,
         "_deepnote_index_column": "std"
        },
        {
         "age": 29,
         "sex": 0,
         "cp": 0,
         "trestbps": 94,
         "chol": 126,
         "fbs": 0,
         "restecg": 0,
         "thalach": 96,
         "exang": 0,
         "oldpeak": 0,
         "slope": 0,
         "ca": 0,
         "thal": 0,
         "target": 1,
         "_deepnote_index_column": "min"
        },
        {
         "age": 44,
         "sex": 0,
         "cp": 1,
         "trestbps": 120,
         "chol": 208,
         "fbs": 0,
         "restecg": 0,
         "thalach": 149,
         "exang": 0,
         "oldpeak": 0,
         "slope": 1,
         "ca": 0,
         "thal": 2,
         "target": 1,
         "_deepnote_index_column": "25%"
        },
        {
         "age": 52,
         "sex": 1,
         "cp": 2,
         "trestbps": 130,
         "chol": 234,
         "fbs": 0,
         "restecg": 1,
         "thalach": 161,
         "exang": 0,
         "oldpeak": 0.2,
         "slope": 2,
         "ca": 0,
         "thal": 2,
         "target": 1,
         "_deepnote_index_column": "50%"
        },
        {
         "age": 59,
         "sex": 1,
         "cp": 2,
         "trestbps": 140,
         "chol": 267,
         "fbs": 0,
         "restecg": 1,
         "thalach": 172,
         "exang": 0,
         "oldpeak": 1,
         "slope": 2,
         "ca": 0,
         "thal": 2,
         "target": 1,
         "_deepnote_index_column": "75%"
        },
        {
         "age": 76,
         "sex": 1,
         "cp": 3,
         "trestbps": 180,
         "chol": 564,
         "fbs": 1,
         "restecg": 2,
         "thalach": 202,
         "exang": 1,
         "oldpeak": 4.2,
         "slope": 2,
         "ca": 4,
         "thal": 3,
         "target": 1,
         "_deepnote_index_column": "max"
        }
       ],
       "rows_bottom": null
      },
      "text/plain": "              age         sex          cp    trestbps        chol         fbs  \\\ncount  165.000000  165.000000  165.000000  165.000000  165.000000  165.000000   \nmean    52.496970    0.563636    1.375758  129.303030  242.230303    0.139394   \nstd      9.550651    0.497444    0.952222   16.169613   53.552872    0.347412   \nmin     29.000000    0.000000    0.000000   94.000000  126.000000    0.000000   \n25%     44.000000    0.000000    1.000000  120.000000  208.000000    0.000000   \n50%     52.000000    1.000000    2.000000  130.000000  234.000000    0.000000   \n75%     59.000000    1.000000    2.000000  140.000000  267.000000    0.000000   \nmax     76.000000    1.000000    3.000000  180.000000  564.000000    1.000000   \n\n          restecg     thalach       exang     oldpeak       slope          ca  \\\ncount  165.000000  165.000000  165.000000  165.000000  165.000000  165.000000   \nmean     0.593939  158.466667    0.139394    0.583030    1.593939    0.363636   \nstd      0.504818   19.174276    0.347412    0.780683    0.593635    0.848894   \nmin      0.000000   96.000000    0.000000    0.000000    0.000000    0.000000   \n25%      0.000000  149.000000    0.000000    0.000000    1.000000    0.000000   \n50%      1.000000  161.000000    0.000000    0.200000    2.000000    0.000000   \n75%      1.000000  172.000000    0.000000    1.000000    2.000000    0.000000   \nmax      2.000000  202.000000    1.000000    4.200000    2.000000    4.000000   \n\n             thal  target  \ncount  165.000000   165.0  \nmean     2.121212     1.0  \nstd      0.465752     0.0  \nmin      0.000000     1.0  \n25%      2.000000     1.0  \n50%      2.000000     1.0  \n75%      2.000000     1.0  \nmax      3.000000     1.0  ",
      "text/html": "<div>\n<style scoped>\n    .dataframe tbody tr th:only-of-type {\n        vertical-align: middle;\n    }\n\n    .dataframe tbody tr th {\n        vertical-align: top;\n    }\n\n    .dataframe thead th {\n        text-align: right;\n    }\n</style>\n<table border=\"1\" class=\"dataframe\">\n  <thead>\n    <tr style=\"text-align: right;\">\n      <th></th>\n      <th>age</th>\n      <th>sex</th>\n      <th>cp</th>\n      <th>trestbps</th>\n      <th>chol</th>\n      <th>fbs</th>\n      <th>restecg</th>\n      <th>thalach</th>\n      <th>exang</th>\n      <th>oldpeak</th>\n      <th>slope</th>\n      <th>ca</th>\n      <th>thal</th>\n      <th>target</th>\n    </tr>\n  </thead>\n  <tbody>\n    <tr>\n      <th>count</th>\n      <td>165.000000</td>\n      <td>165.000000</td>\n      <td>165.000000</td>\n      <td>165.000000</td>\n      <td>165.000000</td>\n      <td>165.000000</td>\n      <td>165.000000</td>\n      <td>165.000000</td>\n      <td>165.000000</td>\n      <td>165.000000</td>\n      <td>165.000000</td>\n      <td>165.000000</td>\n      <td>165.000000</td>\n      <td>165.0</td>\n    </tr>\n    <tr>\n      <th>mean</th>\n      <td>52.496970</td>\n      <td>0.563636</td>\n      <td>1.375758</td>\n      <td>129.303030</td>\n      <td>242.230303</td>\n      <td>0.139394</td>\n      <td>0.593939</td>\n      <td>158.466667</td>\n      <td>0.139394</td>\n      <td>0.583030</td>\n      <td>1.593939</td>\n      <td>0.363636</td>\n      <td>2.121212</td>\n      <td>1.0</td>\n    </tr>\n    <tr>\n      <th>std</th>\n      <td>9.550651</td>\n      <td>0.497444</td>\n      <td>0.952222</td>\n      <td>16.169613</td>\n      <td>53.552872</td>\n      <td>0.347412</td>\n      <td>0.504818</td>\n      <td>19.174276</td>\n      <td>0.347412</td>\n      <td>0.780683</td>\n      <td>0.593635</td>\n      <td>0.848894</td>\n      <td>0.465752</td>\n      <td>0.0</td>\n    </tr>\n    <tr>\n      <th>min</th>\n      <td>29.000000</td>\n      <td>0.000000</td>\n      <td>0.000000</td>\n      <td>94.000000</td>\n      <td>126.000000</td>\n      <td>0.000000</td>\n      <td>0.000000</td>\n      <td>96.000000</td>\n      <td>0.000000</td>\n      <td>0.000000</td>\n      <td>0.000000</td>\n      <td>0.000000</td>\n      <td>0.000000</td>\n      <td>1.0</td>\n    </tr>\n    <tr>\n      <th>25%</th>\n      <td>44.000000</td>\n      <td>0.000000</td>\n      <td>1.000000</td>\n      <td>120.000000</td>\n      <td>208.000000</td>\n      <td>0.000000</td>\n      <td>0.000000</td>\n      <td>149.000000</td>\n      <td>0.000000</td>\n      <td>0.000000</td>\n      <td>1.000000</td>\n      <td>0.000000</td>\n      <td>2.000000</td>\n      <td>1.0</td>\n    </tr>\n    <tr>\n      <th>50%</th>\n      <td>52.000000</td>\n      <td>1.000000</td>\n      <td>2.000000</td>\n      <td>130.000000</td>\n      <td>234.000000</td>\n      <td>0.000000</td>\n      <td>1.000000</td>\n      <td>161.000000</td>\n      <td>0.000000</td>\n      <td>0.200000</td>\n      <td>2.000000</td>\n      <td>0.000000</td>\n      <td>2.000000</td>\n      <td>1.0</td>\n    </tr>\n    <tr>\n      <th>75%</th>\n      <td>59.000000</td>\n      <td>1.000000</td>\n      <td>2.000000</td>\n      <td>140.000000</td>\n      <td>267.000000</td>\n      <td>0.000000</td>\n      <td>1.000000</td>\n      <td>172.000000</td>\n      <td>0.000000</td>\n      <td>1.000000</td>\n      <td>2.000000</td>\n      <td>0.000000</td>\n      <td>2.000000</td>\n      <td>1.0</td>\n    </tr>\n    <tr>\n      <th>max</th>\n      <td>76.000000</td>\n      <td>1.000000</td>\n      <td>3.000000</td>\n      <td>180.000000</td>\n      <td>564.000000</td>\n      <td>1.000000</td>\n      <td>2.000000</td>\n      <td>202.000000</td>\n      <td>1.000000</td>\n      <td>4.200000</td>\n      <td>2.000000</td>\n      <td>4.000000</td>\n      <td>3.000000</td>\n      <td>1.0</td>\n    </tr>\n  </tbody>\n</table>\n</div>"
     },
     "metadata": {}
    }
   ]
  },
  {
   "cell_type": "code",
   "metadata": {
    "cell_id": "00013-8523ddc3-0fdc-4ab9-a207-a5d2c52f0896",
    "deepnote_to_be_reexecuted": false,
    "source_hash": "f3efc751",
    "execution_start": 1620400721741,
    "execution_millis": 102,
    "deepnote_cell_type": "code"
   },
   "source": "# Not\nneg_data = df[df['target']==0]\nneg_data.describe()",
   "execution_count": 11,
   "outputs": [
    {
     "output_type": "execute_result",
     "execution_count": 11,
     "data": {
      "application/vnd.deepnote.dataframe.v2+json": {
       "row_count": 8,
       "column_count": 14,
       "columns": [
        {
         "name": "age",
         "dtype": "float64",
         "stats": {
          "unique_count": 8,
          "nan_count": 0,
          "min": "7.96208153750117",
          "max": "138.0",
          "histogram": [
           {
            "bin_start": 7.96208153750117,
            "bin_end": 20.965873383751052,
            "count": 1
           },
           {
            "bin_start": 20.965873383751052,
            "bin_end": 33.969665230000935,
            "count": 0
           },
           {
            "bin_start": 33.969665230000935,
            "bin_end": 46.97345707625082,
            "count": 1
           },
           {
            "bin_start": 46.97345707625082,
            "bin_end": 59.9772489225007,
            "count": 3
           },
           {
            "bin_start": 59.9772489225007,
            "bin_end": 72.98104076875057,
            "count": 1
           },
           {
            "bin_start": 72.98104076875057,
            "bin_end": 85.98483261500047,
            "count": 1
           },
           {
            "bin_start": 85.98483261500047,
            "bin_end": 98.98862446125034,
            "count": 0
           },
           {
            "bin_start": 98.98862446125034,
            "bin_end": 111.99241630750024,
            "count": 0
           },
           {
            "bin_start": 111.99241630750024,
            "bin_end": 124.9962081537501,
            "count": 0
           },
           {
            "bin_start": 124.9962081537501,
            "bin_end": 138,
            "count": 1
           }
          ]
         }
        },
        {
         "name": "sex",
         "dtype": "float64",
         "stats": {
          "unique_count": 5,
          "nan_count": 0,
          "min": "0.0",
          "max": "138.0",
          "histogram": [
           {
            "bin_start": 0,
            "bin_end": 13.8,
            "count": 7
           },
           {
            "bin_start": 13.8,
            "bin_end": 27.6,
            "count": 0
           },
           {
            "bin_start": 27.6,
            "bin_end": 41.400000000000006,
            "count": 0
           },
           {
            "bin_start": 41.400000000000006,
            "bin_end": 55.2,
            "count": 0
           },
           {
            "bin_start": 55.2,
            "bin_end": 69,
            "count": 0
           },
           {
            "bin_start": 69,
            "bin_end": 82.80000000000001,
            "count": 0
           },
           {
            "bin_start": 82.80000000000001,
            "bin_end": 96.60000000000001,
            "count": 0
           },
           {
            "bin_start": 96.60000000000001,
            "bin_end": 110.4,
            "count": 0
           },
           {
            "bin_start": 110.4,
            "bin_end": 124.2,
            "count": 0
           },
           {
            "bin_start": 124.2,
            "bin_end": 138,
            "count": 1
           }
          ]
         }
        },
        {
         "name": "cp",
         "dtype": "float64",
         "stats": {
          "unique_count": 5,
          "nan_count": 0,
          "min": "0.0",
          "max": "138.0",
          "histogram": [
           {
            "bin_start": 0,
            "bin_end": 13.8,
            "count": 7
           },
           {
            "bin_start": 13.8,
            "bin_end": 27.6,
            "count": 0
           },
           {
            "bin_start": 27.6,
            "bin_end": 41.400000000000006,
            "count": 0
           },
           {
            "bin_start": 41.400000000000006,
            "bin_end": 55.2,
            "count": 0
           },
           {
            "bin_start": 55.2,
            "bin_end": 69,
            "count": 0
           },
           {
            "bin_start": 69,
            "bin_end": 82.80000000000001,
            "count": 0
           },
           {
            "bin_start": 82.80000000000001,
            "bin_end": 96.60000000000001,
            "count": 0
           },
           {
            "bin_start": 96.60000000000001,
            "bin_end": 110.4,
            "count": 0
           },
           {
            "bin_start": 110.4,
            "bin_end": 124.2,
            "count": 0
           },
           {
            "bin_start": 124.2,
            "bin_end": 138,
            "count": 1
           }
          ]
         }
        },
        {
         "name": "trestbps",
         "dtype": "float64",
         "stats": {
          "unique_count": 8,
          "nan_count": 0,
          "min": "18.72994396158135",
          "max": "200.0",
          "histogram": [
           {
            "bin_start": 18.72994396158135,
            "bin_end": 36.856949565423214,
            "count": 1
           },
           {
            "bin_start": 36.856949565423214,
            "bin_end": 54.98395516926508,
            "count": 0
           },
           {
            "bin_start": 54.98395516926508,
            "bin_end": 73.11096077310694,
            "count": 0
           },
           {
            "bin_start": 73.11096077310694,
            "bin_end": 91.2379663769488,
            "count": 0
           },
           {
            "bin_start": 91.2379663769488,
            "bin_end": 109.36497198079067,
            "count": 1
           },
           {
            "bin_start": 109.36497198079067,
            "bin_end": 127.49197758463254,
            "count": 1
           },
           {
            "bin_start": 127.49197758463254,
            "bin_end": 145.6189831884744,
            "count": 4
           },
           {
            "bin_start": 145.6189831884744,
            "bin_end": 163.74598879231627,
            "count": 0
           },
           {
            "bin_start": 163.74598879231627,
            "bin_end": 181.87299439615813,
            "count": 0
           },
           {
            "bin_start": 181.87299439615813,
            "bin_end": 200,
            "count": 1
           }
          ]
         }
        },
        {
         "name": "chol",
         "dtype": "float64",
         "stats": {
          "unique_count": 8,
          "nan_count": 0,
          "min": "49.45461360407159",
          "max": "409.0",
          "histogram": [
           {
            "bin_start": 49.45461360407159,
            "bin_end": 85.40915224366444,
            "count": 1
           },
           {
            "bin_start": 85.40915224366444,
            "bin_end": 121.36369088325728,
            "count": 0
           },
           {
            "bin_start": 121.36369088325728,
            "bin_end": 157.31822952285012,
            "count": 2
           },
           {
            "bin_start": 157.31822952285012,
            "bin_end": 193.27276816244296,
            "count": 0
           },
           {
            "bin_start": 193.27276816244296,
            "bin_end": 229.2273068020358,
            "count": 1
           },
           {
            "bin_start": 229.2273068020358,
            "bin_end": 265.18184544162864,
            "count": 2
           },
           {
            "bin_start": 265.18184544162864,
            "bin_end": 301.1363840812215,
            "count": 1
           },
           {
            "bin_start": 301.1363840812215,
            "bin_end": 337.0909227208143,
            "count": 0
           },
           {
            "bin_start": 337.0909227208143,
            "bin_end": 373.04546136040716,
            "count": 0
           },
           {
            "bin_start": 373.04546136040716,
            "bin_end": 409,
            "count": 1
           }
          ]
         }
        },
        {
         "name": "fbs",
         "dtype": "float64",
         "stats": {
          "unique_count": 5,
          "nan_count": 0,
          "min": "0.0",
          "max": "138.0",
          "histogram": [
           {
            "bin_start": 0,
            "bin_end": 13.8,
            "count": 7
           },
           {
            "bin_start": 13.8,
            "bin_end": 27.6,
            "count": 0
           },
           {
            "bin_start": 27.6,
            "bin_end": 41.400000000000006,
            "count": 0
           },
           {
            "bin_start": 41.400000000000006,
            "bin_end": 55.2,
            "count": 0
           },
           {
            "bin_start": 55.2,
            "bin_end": 69,
            "count": 0
           },
           {
            "bin_start": 69,
            "bin_end": 82.80000000000001,
            "count": 0
           },
           {
            "bin_start": 82.80000000000001,
            "bin_end": 96.60000000000001,
            "count": 0
           },
           {
            "bin_start": 96.60000000000001,
            "bin_end": 110.4,
            "count": 0
           },
           {
            "bin_start": 110.4,
            "bin_end": 124.2,
            "count": 0
           },
           {
            "bin_start": 124.2,
            "bin_end": 138,
            "count": 1
           }
          ]
         }
        },
        {
         "name": "restecg",
         "dtype": "float64",
         "stats": {
          "unique_count": 6,
          "nan_count": 0,
          "min": "0.0",
          "max": "138.0",
          "histogram": [
           {
            "bin_start": 0,
            "bin_end": 13.8,
            "count": 7
           },
           {
            "bin_start": 13.8,
            "bin_end": 27.6,
            "count": 0
           },
           {
            "bin_start": 27.6,
            "bin_end": 41.400000000000006,
            "count": 0
           },
           {
            "bin_start": 41.400000000000006,
            "bin_end": 55.2,
            "count": 0
           },
           {
            "bin_start": 55.2,
            "bin_end": 69,
            "count": 0
           },
           {
            "bin_start": 69,
            "bin_end": 82.80000000000001,
            "count": 0
           },
           {
            "bin_start": 82.80000000000001,
            "bin_end": 96.60000000000001,
            "count": 0
           },
           {
            "bin_start": 96.60000000000001,
            "bin_end": 110.4,
            "count": 0
           },
           {
            "bin_start": 110.4,
            "bin_end": 124.2,
            "count": 0
           },
           {
            "bin_start": 124.2,
            "bin_end": 138,
            "count": 1
           }
          ]
         }
        },
        {
         "name": "thalach",
         "dtype": "float64",
         "stats": {
          "unique_count": 8,
          "nan_count": 0,
          "min": "22.598782298785906",
          "max": "195.0",
          "histogram": [
           {
            "bin_start": 22.598782298785906,
            "bin_end": 39.83890406890731,
            "count": 1
           },
           {
            "bin_start": 39.83890406890731,
            "bin_end": 57.07902583902872,
            "count": 0
           },
           {
            "bin_start": 57.07902583902872,
            "bin_end": 74.31914760915014,
            "count": 1
           },
           {
            "bin_start": 74.31914760915014,
            "bin_end": 91.55926937927154,
            "count": 0
           },
           {
            "bin_start": 91.55926937927154,
            "bin_end": 108.79939114939295,
            "count": 0
           },
           {
            "bin_start": 108.79939114939295,
            "bin_end": 126.03951291951437,
            "count": 1
           },
           {
            "bin_start": 126.03951291951437,
            "bin_end": 143.27963468963577,
            "count": 3
           },
           {
            "bin_start": 143.27963468963577,
            "bin_end": 160.51975645975716,
            "count": 1
           },
           {
            "bin_start": 160.51975645975716,
            "bin_end": 177.7598782298786,
            "count": 0
           },
           {
            "bin_start": 177.7598782298786,
            "bin_end": 195,
            "count": 1
           }
          ]
         }
        },
        {
         "name": "exang",
         "dtype": "float64",
         "stats": {
          "unique_count": 5,
          "nan_count": 0,
          "min": "0.0",
          "max": "138.0",
          "histogram": [
           {
            "bin_start": 0,
            "bin_end": 13.8,
            "count": 7
           },
           {
            "bin_start": 13.8,
            "bin_end": 27.6,
            "count": 0
           },
           {
            "bin_start": 27.6,
            "bin_end": 41.400000000000006,
            "count": 0
           },
           {
            "bin_start": 41.400000000000006,
            "bin_end": 55.2,
            "count": 0
           },
           {
            "bin_start": 55.2,
            "bin_end": 69,
            "count": 0
           },
           {
            "bin_start": 69,
            "bin_end": 82.80000000000001,
            "count": 0
           },
           {
            "bin_start": 82.80000000000001,
            "bin_end": 96.60000000000001,
            "count": 0
           },
           {
            "bin_start": 96.60000000000001,
            "bin_end": 110.4,
            "count": 0
           },
           {
            "bin_start": 110.4,
            "bin_end": 124.2,
            "count": 0
           },
           {
            "bin_start": 124.2,
            "bin_end": 138,
            "count": 1
           }
          ]
         }
        },
        {
         "name": "oldpeak",
         "dtype": "float64",
         "stats": {
          "unique_count": 8,
          "nan_count": 0,
          "min": "0.0",
          "max": "138.0",
          "histogram": [
           {
            "bin_start": 0,
            "bin_end": 13.8,
            "count": 7
           },
           {
            "bin_start": 13.8,
            "bin_end": 27.6,
            "count": 0
           },
           {
            "bin_start": 27.6,
            "bin_end": 41.400000000000006,
            "count": 0
           },
           {
            "bin_start": 41.400000000000006,
            "bin_end": 55.2,
            "count": 0
           },
           {
            "bin_start": 55.2,
            "bin_end": 69,
            "count": 0
           },
           {
            "bin_start": 69,
            "bin_end": 82.80000000000001,
            "count": 0
           },
           {
            "bin_start": 82.80000000000001,
            "bin_end": 96.60000000000001,
            "count": 0
           },
           {
            "bin_start": 96.60000000000001,
            "bin_end": 110.4,
            "count": 0
           },
           {
            "bin_start": 110.4,
            "bin_end": 124.2,
            "count": 0
           },
           {
            "bin_start": 124.2,
            "bin_end": 138,
            "count": 1
           }
          ]
         }
        },
        {
         "name": "slope",
         "dtype": "float64",
         "stats": {
          "unique_count": 7,
          "nan_count": 0,
          "min": "0.0",
          "max": "138.0",
          "histogram": [
           {
            "bin_start": 0,
            "bin_end": 13.8,
            "count": 7
           },
           {
            "bin_start": 13.8,
            "bin_end": 27.6,
            "count": 0
           },
           {
            "bin_start": 27.6,
            "bin_end": 41.400000000000006,
            "count": 0
           },
           {
            "bin_start": 41.400000000000006,
            "bin_end": 55.2,
            "count": 0
           },
           {
            "bin_start": 55.2,
            "bin_end": 69,
            "count": 0
           },
           {
            "bin_start": 69,
            "bin_end": 82.80000000000001,
            "count": 0
           },
           {
            "bin_start": 82.80000000000001,
            "bin_end": 96.60000000000001,
            "count": 0
           },
           {
            "bin_start": 96.60000000000001,
            "bin_end": 110.4,
            "count": 0
           },
           {
            "bin_start": 110.4,
            "bin_end": 124.2,
            "count": 0
           },
           {
            "bin_start": 124.2,
            "bin_end": 138,
            "count": 1
           }
          ]
         }
        },
        {
         "name": "ca",
         "dtype": "float64",
         "stats": {
          "unique_count": 7,
          "nan_count": 0,
          "min": "0.0",
          "max": "138.0",
          "histogram": [
           {
            "bin_start": 0,
            "bin_end": 13.8,
            "count": 7
           },
           {
            "bin_start": 13.8,
            "bin_end": 27.6,
            "count": 0
           },
           {
            "bin_start": 27.6,
            "bin_end": 41.400000000000006,
            "count": 0
           },
           {
            "bin_start": 41.400000000000006,
            "bin_end": 55.2,
            "count": 0
           },
           {
            "bin_start": 55.2,
            "bin_end": 69,
            "count": 0
           },
           {
            "bin_start": 69,
            "bin_end": 82.80000000000001,
            "count": 0
           },
           {
            "bin_start": 82.80000000000001,
            "bin_end": 96.60000000000001,
            "count": 0
           },
           {
            "bin_start": 96.60000000000001,
            "bin_end": 110.4,
            "count": 0
           },
           {
            "bin_start": 110.4,
            "bin_end": 124.2,
            "count": 0
           },
           {
            "bin_start": 124.2,
            "bin_end": 138,
            "count": 1
           }
          ]
         }
        },
        {
         "name": "thal",
         "dtype": "float64",
         "stats": {
          "unique_count": 6,
          "nan_count": 0,
          "min": "0.0",
          "max": "138.0",
          "histogram": [
           {
            "bin_start": 0,
            "bin_end": 13.8,
            "count": 7
           },
           {
            "bin_start": 13.8,
            "bin_end": 27.6,
            "count": 0
           },
           {
            "bin_start": 27.6,
            "bin_end": 41.400000000000006,
            "count": 0
           },
           {
            "bin_start": 41.400000000000006,
            "bin_end": 55.2,
            "count": 0
           },
           {
            "bin_start": 55.2,
            "bin_end": 69,
            "count": 0
           },
           {
            "bin_start": 69,
            "bin_end": 82.80000000000001,
            "count": 0
           },
           {
            "bin_start": 82.80000000000001,
            "bin_end": 96.60000000000001,
            "count": 0
           },
           {
            "bin_start": 96.60000000000001,
            "bin_end": 110.4,
            "count": 0
           },
           {
            "bin_start": 110.4,
            "bin_end": 124.2,
            "count": 0
           },
           {
            "bin_start": 124.2,
            "bin_end": 138,
            "count": 1
           }
          ]
         }
        },
        {
         "name": "target",
         "dtype": "float64",
         "stats": {
          "unique_count": 2,
          "nan_count": 0,
          "min": "0.0",
          "max": "138.0",
          "histogram": [
           {
            "bin_start": 0,
            "bin_end": 13.8,
            "count": 7
           },
           {
            "bin_start": 13.8,
            "bin_end": 27.6,
            "count": 0
           },
           {
            "bin_start": 27.6,
            "bin_end": 41.400000000000006,
            "count": 0
           },
           {
            "bin_start": 41.400000000000006,
            "bin_end": 55.2,
            "count": 0
           },
           {
            "bin_start": 55.2,
            "bin_end": 69,
            "count": 0
           },
           {
            "bin_start": 69,
            "bin_end": 82.80000000000001,
            "count": 0
           },
           {
            "bin_start": 82.80000000000001,
            "bin_end": 96.60000000000001,
            "count": 0
           },
           {
            "bin_start": 96.60000000000001,
            "bin_end": 110.4,
            "count": 0
           },
           {
            "bin_start": 110.4,
            "bin_end": 124.2,
            "count": 0
           },
           {
            "bin_start": 124.2,
            "bin_end": 138,
            "count": 1
           }
          ]
         }
        },
        {
         "name": "_deepnote_index_column",
         "dtype": "object"
        }
       ],
       "rows_top": [
        {
         "age": 138,
         "sex": 138,
         "cp": 138,
         "trestbps": 138,
         "chol": 138,
         "fbs": 138,
         "restecg": 138,
         "thalach": 138,
         "exang": 138,
         "oldpeak": 138,
         "slope": 138,
         "ca": 138,
         "thal": 138,
         "target": 138,
         "_deepnote_index_column": "count"
        },
        {
         "age": 56.60144927536232,
         "sex": 0.8260869565217391,
         "cp": 0.4782608695652174,
         "trestbps": 134.3985507246377,
         "chol": 251.08695652173913,
         "fbs": 0.15942028985507245,
         "restecg": 0.4492753623188406,
         "thalach": 139.1014492753623,
         "exang": 0.5507246376811594,
         "oldpeak": 1.5855072463768116,
         "slope": 1.1666666666666667,
         "ca": 1.1666666666666667,
         "thal": 2.5434782608695654,
         "target": 0,
         "_deepnote_index_column": "mean"
        },
        {
         "age": 7.96208153750117,
         "sex": 0.38041551386121214,
         "cp": 0.9059204401375942,
         "trestbps": 18.72994396158135,
         "chol": 49.45461360407159,
         "fbs": 0.3674011473702368,
         "restecg": 0.5413212245494148,
         "thalach": 22.598782298785906,
         "exang": 0.4992324585899055,
         "oldpeak": 1.300339693105365,
         "slope": 0.5613244677999094,
         "ca": 1.0434595276713312,
         "thal": 0.6847618288848198,
         "target": 0,
         "_deepnote_index_column": "std"
        },
        {
         "age": 35,
         "sex": 0,
         "cp": 0,
         "trestbps": 100,
         "chol": 131,
         "fbs": 0,
         "restecg": 0,
         "thalach": 71,
         "exang": 0,
         "oldpeak": 0,
         "slope": 0,
         "ca": 0,
         "thal": 0,
         "target": 0,
         "_deepnote_index_column": "min"
        },
        {
         "age": 52,
         "sex": 1,
         "cp": 0,
         "trestbps": 120,
         "chol": 217.25,
         "fbs": 0,
         "restecg": 0,
         "thalach": 125,
         "exang": 0,
         "oldpeak": 0.6,
         "slope": 1,
         "ca": 0,
         "thal": 2,
         "target": 0,
         "_deepnote_index_column": "25%"
        },
        {
         "age": 58,
         "sex": 1,
         "cp": 0,
         "trestbps": 130,
         "chol": 249,
         "fbs": 0,
         "restecg": 0,
         "thalach": 142,
         "exang": 1,
         "oldpeak": 1.4,
         "slope": 1,
         "ca": 1,
         "thal": 3,
         "target": 0,
         "_deepnote_index_column": "50%"
        },
        {
         "age": 62,
         "sex": 1,
         "cp": 0,
         "trestbps": 144.75,
         "chol": 283,
         "fbs": 0,
         "restecg": 1,
         "thalach": 156,
         "exang": 1,
         "oldpeak": 2.5,
         "slope": 1.75,
         "ca": 2,
         "thal": 3,
         "target": 0,
         "_deepnote_index_column": "75%"
        },
        {
         "age": 77,
         "sex": 1,
         "cp": 3,
         "trestbps": 200,
         "chol": 409,
         "fbs": 1,
         "restecg": 2,
         "thalach": 195,
         "exang": 1,
         "oldpeak": 6.2,
         "slope": 2,
         "ca": 4,
         "thal": 3,
         "target": 0,
         "_deepnote_index_column": "max"
        }
       ],
       "rows_bottom": null
      },
      "text/plain": "              age         sex          cp    trestbps        chol         fbs  \\\ncount  138.000000  138.000000  138.000000  138.000000  138.000000  138.000000   \nmean    56.601449    0.826087    0.478261  134.398551  251.086957    0.159420   \nstd      7.962082    0.380416    0.905920   18.729944   49.454614    0.367401   \nmin     35.000000    0.000000    0.000000  100.000000  131.000000    0.000000   \n25%     52.000000    1.000000    0.000000  120.000000  217.250000    0.000000   \n50%     58.000000    1.000000    0.000000  130.000000  249.000000    0.000000   \n75%     62.000000    1.000000    0.000000  144.750000  283.000000    0.000000   \nmax     77.000000    1.000000    3.000000  200.000000  409.000000    1.000000   \n\n          restecg     thalach       exang     oldpeak       slope          ca  \\\ncount  138.000000  138.000000  138.000000  138.000000  138.000000  138.000000   \nmean     0.449275  139.101449    0.550725    1.585507    1.166667    1.166667   \nstd      0.541321   22.598782    0.499232    1.300340    0.561324    1.043460   \nmin      0.000000   71.000000    0.000000    0.000000    0.000000    0.000000   \n25%      0.000000  125.000000    0.000000    0.600000    1.000000    0.000000   \n50%      0.000000  142.000000    1.000000    1.400000    1.000000    1.000000   \n75%      1.000000  156.000000    1.000000    2.500000    1.750000    2.000000   \nmax      2.000000  195.000000    1.000000    6.200000    2.000000    4.000000   \n\n             thal  target  \ncount  138.000000   138.0  \nmean     2.543478     0.0  \nstd      0.684762     0.0  \nmin      0.000000     0.0  \n25%      2.000000     0.0  \n50%      3.000000     0.0  \n75%      3.000000     0.0  \nmax      3.000000     0.0  ",
      "text/html": "<div>\n<style scoped>\n    .dataframe tbody tr th:only-of-type {\n        vertical-align: middle;\n    }\n\n    .dataframe tbody tr th {\n        vertical-align: top;\n    }\n\n    .dataframe thead th {\n        text-align: right;\n    }\n</style>\n<table border=\"1\" class=\"dataframe\">\n  <thead>\n    <tr style=\"text-align: right;\">\n      <th></th>\n      <th>age</th>\n      <th>sex</th>\n      <th>cp</th>\n      <th>trestbps</th>\n      <th>chol</th>\n      <th>fbs</th>\n      <th>restecg</th>\n      <th>thalach</th>\n      <th>exang</th>\n      <th>oldpeak</th>\n      <th>slope</th>\n      <th>ca</th>\n      <th>thal</th>\n      <th>target</th>\n    </tr>\n  </thead>\n  <tbody>\n    <tr>\n      <th>count</th>\n      <td>138.000000</td>\n      <td>138.000000</td>\n      <td>138.000000</td>\n      <td>138.000000</td>\n      <td>138.000000</td>\n      <td>138.000000</td>\n      <td>138.000000</td>\n      <td>138.000000</td>\n      <td>138.000000</td>\n      <td>138.000000</td>\n      <td>138.000000</td>\n      <td>138.000000</td>\n      <td>138.000000</td>\n      <td>138.0</td>\n    </tr>\n    <tr>\n      <th>mean</th>\n      <td>56.601449</td>\n      <td>0.826087</td>\n      <td>0.478261</td>\n      <td>134.398551</td>\n      <td>251.086957</td>\n      <td>0.159420</td>\n      <td>0.449275</td>\n      <td>139.101449</td>\n      <td>0.550725</td>\n      <td>1.585507</td>\n      <td>1.166667</td>\n      <td>1.166667</td>\n      <td>2.543478</td>\n      <td>0.0</td>\n    </tr>\n    <tr>\n      <th>std</th>\n      <td>7.962082</td>\n      <td>0.380416</td>\n      <td>0.905920</td>\n      <td>18.729944</td>\n      <td>49.454614</td>\n      <td>0.367401</td>\n      <td>0.541321</td>\n      <td>22.598782</td>\n      <td>0.499232</td>\n      <td>1.300340</td>\n      <td>0.561324</td>\n      <td>1.043460</td>\n      <td>0.684762</td>\n      <td>0.0</td>\n    </tr>\n    <tr>\n      <th>min</th>\n      <td>35.000000</td>\n      <td>0.000000</td>\n      <td>0.000000</td>\n      <td>100.000000</td>\n      <td>131.000000</td>\n      <td>0.000000</td>\n      <td>0.000000</td>\n      <td>71.000000</td>\n      <td>0.000000</td>\n      <td>0.000000</td>\n      <td>0.000000</td>\n      <td>0.000000</td>\n      <td>0.000000</td>\n      <td>0.0</td>\n    </tr>\n    <tr>\n      <th>25%</th>\n      <td>52.000000</td>\n      <td>1.000000</td>\n      <td>0.000000</td>\n      <td>120.000000</td>\n      <td>217.250000</td>\n      <td>0.000000</td>\n      <td>0.000000</td>\n      <td>125.000000</td>\n      <td>0.000000</td>\n      <td>0.600000</td>\n      <td>1.000000</td>\n      <td>0.000000</td>\n      <td>2.000000</td>\n      <td>0.0</td>\n    </tr>\n    <tr>\n      <th>50%</th>\n      <td>58.000000</td>\n      <td>1.000000</td>\n      <td>0.000000</td>\n      <td>130.000000</td>\n      <td>249.000000</td>\n      <td>0.000000</td>\n      <td>0.000000</td>\n      <td>142.000000</td>\n      <td>1.000000</td>\n      <td>1.400000</td>\n      <td>1.000000</td>\n      <td>1.000000</td>\n      <td>3.000000</td>\n      <td>0.0</td>\n    </tr>\n    <tr>\n      <th>75%</th>\n      <td>62.000000</td>\n      <td>1.000000</td>\n      <td>0.000000</td>\n      <td>144.750000</td>\n      <td>283.000000</td>\n      <td>0.000000</td>\n      <td>1.000000</td>\n      <td>156.000000</td>\n      <td>1.000000</td>\n      <td>2.500000</td>\n      <td>1.750000</td>\n      <td>2.000000</td>\n      <td>3.000000</td>\n      <td>0.0</td>\n    </tr>\n    <tr>\n      <th>max</th>\n      <td>77.000000</td>\n      <td>1.000000</td>\n      <td>3.000000</td>\n      <td>200.000000</td>\n      <td>409.000000</td>\n      <td>1.000000</td>\n      <td>2.000000</td>\n      <td>195.000000</td>\n      <td>1.000000</td>\n      <td>6.200000</td>\n      <td>2.000000</td>\n      <td>4.000000</td>\n      <td>3.000000</td>\n      <td>0.0</td>\n    </tr>\n  </tbody>\n</table>\n</div>"
     },
     "metadata": {}
    }
   ]
  },
  {
   "cell_type": "code",
   "metadata": {
    "cell_id": "00014-9d0a9643-7199-49da-b032-880d9e78100b",
    "deepnote_to_be_reexecuted": false,
    "source_hash": "3b5d8617",
    "execution_start": 1620400721831,
    "execution_millis": 3,
    "deepnote_cell_type": "code"
   },
   "source": "print(\"(Positive Patients ST depression): \" + str(pos_data['oldpeak'].mean()))\nprint(\"(Negative Patients ST depression): \" + str(neg_data['oldpeak'].mean()))",
   "execution_count": 12,
   "outputs": [
    {
     "name": "stdout",
     "text": "(Positive Patients ST depression): 0.583030303030303\n(Negative Patients ST depression): 1.5855072463768116\n",
     "output_type": "stream"
    }
   ]
  },
  {
   "cell_type": "code",
   "metadata": {
    "cell_id": "00015-d63a31fc-6b86-4eda-8b3b-113c8c5230a3",
    "deepnote_to_be_reexecuted": false,
    "source_hash": "1fa0120f",
    "execution_start": 1620400721882,
    "execution_millis": 2,
    "deepnote_cell_type": "code"
   },
   "source": "print(\"(Positive Patients thalach): \" + str(pos_data['thalach'].mean()))\nprint(\"(Negative Patients thalach): \" + str(neg_data['thalach'].mean()))",
   "execution_count": 13,
   "outputs": [
    {
     "name": "stdout",
     "text": "(Positive Patients thalach): 158.46666666666667\n(Negative Patients thalach): 139.1014492753623\n",
     "output_type": "stream"
    }
   ]
  },
  {
   "cell_type": "markdown",
   "source": "# Creating new columns",
   "metadata": {
    "cell_id": "00016-10fe9570-ac9a-41ce-bcbe-eb684f7edf43",
    "deepnote_cell_type": "markdown"
   }
  },
  {
   "cell_type": "code",
   "metadata": {
    "scrolled": false,
    "cell_id": "00017-380525dc-ab3b-48ed-88ce-eb4ce40c3006",
    "deepnote_to_be_reexecuted": false,
    "source_hash": "c07f6429",
    "execution_start": 1620400721883,
    "execution_millis": 3332,
    "deepnote_cell_type": "code"
   },
   "source": "corr = df.corr()\nplt.subplots(figsize=(15,10))\nsb.heatmap(corr, xticklabels=corr.columns, yticklabels=corr.columns, annot=True, cmap=sb.diverging_palette(220, 20, as_cmap=True))\nsb.heatmap(corr, xticklabels=corr.columns,\n            yticklabels=corr.columns, \n            annot=True,\n            cmap=sb.diverging_palette(220, 20, as_cmap=True))",
   "execution_count": 14,
   "outputs": [
    {
     "output_type": "execute_result",
     "execution_count": 14,
     "data": {
      "text/plain": "<AxesSubplot:>"
     },
     "metadata": {}
    },
    {
     "data": {
      "text/plain": "<Figure size 1080x720 with 3 Axes>",
      "image/png": "[encoded data removed]"
     },
     "metadata": {
      "needs_background": "light",
      "image/png": {
       "width": 832,
       "height": 578
      }
     },
     "output_type": "display_data"
    }
   ]
  },
  {
   "cell_type": "code",
   "metadata": {
    "cell_id": "00018-75bdf5aa-3ca6-4e17-bdc1-e9d6a06e27ce",
    "deepnote_to_be_reexecuted": false,
    "source_hash": "898c08e8",
    "execution_start": 1620400725221,
    "execution_millis": 3,
    "deepnote_cell_type": "code"
   },
   "source": "df['slope*oldpeak'] = df['slope'] * df['oldpeak']\ndf['slope*thalach'] = df['slope'] * df['thalach']\ndf['oldpeak*thalach'] = df['oldpeak'] * df['thalach']\ndf['exang*oldpeak'] = df['exang'] * df['oldpeak']\ndf['exang*cp'] = df['exang'] * df['cp']\ndf['fbs*chol'] = df['fbs'] * df['chol']",
   "execution_count": 15,
   "outputs": []
  },
  {
   "cell_type": "markdown",
   "source": "# Nice Report for the data",
   "metadata": {
    "cell_id": "00019-816282ab-e1ff-4342-9465-9927b61be13d",
    "deepnote_cell_type": "markdown"
   }
  },
  {
   "cell_type": "code",
   "metadata": {
    "scrolled": true,
    "cell_id": "00020-ebeb3bb6-18a0-485b-9bd3-77eb4cbf8045",
    "deepnote_to_be_reexecuted": false,
    "source_hash": "52ed647a",
    "execution_start": 1620400725228,
    "execution_millis": 4,
    "deepnote_cell_type": "code"
   },
   "source": "#import sys\n#!{sys.executable} -m pip install pandas-profiling\n#from pandas_profiling import ProfileReport\n",
   "execution_count": 16,
   "outputs": []
  },
  {
   "cell_type": "code",
   "metadata": {
    "cell_id": "00021-32c93ea3-3593-41d5-b39c-387ce575b6cc",
    "deepnote_to_be_reexecuted": false,
    "source_hash": "f804c160",
    "execution_start": 1620400725273,
    "execution_millis": 49,
    "deepnote_cell_type": "code"
   },
   "source": "df",
   "execution_count": 17,
   "outputs": [
    {
     "output_type": "execute_result",
     "execution_count": 17,
     "data": {
      "application/vnd.deepnote.dataframe.v2+json": {
       "row_count": 303,
       "column_count": 20,
       "columns": [
        {
         "name": "age",
         "dtype": "int64",
         "stats": {
          "unique_count": 41,
          "nan_count": 0,
          "min": "29",
          "max": "77",
          "histogram": [
           {
            "bin_start": 29,
            "bin_end": 33.8,
            "count": 1
           },
           {
            "bin_start": 33.8,
            "bin_end": 38.6,
            "count": 11
           },
           {
            "bin_start": 38.6,
            "bin_end": 43.4,
            "count": 33
           },
           {
            "bin_start": 43.4,
            "bin_end": 48.2,
            "count": 38
           },
           {
            "bin_start": 48.2,
            "bin_end": 53,
            "count": 37
           },
           {
            "bin_start": 53,
            "bin_end": 57.8,
            "count": 60
           },
           {
            "bin_start": 57.8,
            "bin_end": 62.6,
            "count": 63
           },
           {
            "bin_start": 62.6,
            "bin_end": 67.4,
            "count": 43
           },
           {
            "bin_start": 67.4,
            "bin_end": 72.19999999999999,
            "count": 14
           },
           {
            "bin_start": 72.19999999999999,
            "bin_end": 77,
            "count": 3
           }
          ]
         }
        },
        {
         "name": "sex",
         "dtype": "int64",
         "stats": {
          "unique_count": 2,
          "nan_count": 0,
          "min": "0",
          "max": "1",
          "histogram": [
           {
            "bin_start": 0,
            "bin_end": 0.1,
            "count": 96
           },
           {
            "bin_start": 0.1,
            "bin_end": 0.2,
            "count": 0
           },
           {
            "bin_start": 0.2,
            "bin_end": 0.30000000000000004,
            "count": 0
           },
           {
            "bin_start": 0.30000000000000004,
            "bin_end": 0.4,
            "count": 0
           },
           {
            "bin_start": 0.4,
            "bin_end": 0.5,
            "count": 0
           },
           {
            "bin_start": 0.5,
            "bin_end": 0.6000000000000001,
            "count": 0
           },
           {
            "bin_start": 0.6000000000000001,
            "bin_end": 0.7000000000000001,
            "count": 0
           },
           {
            "bin_start": 0.7000000000000001,
            "bin_end": 0.8,
            "count": 0
           },
           {
            "bin_start": 0.8,
            "bin_end": 0.9,
            "count": 0
           },
           {
            "bin_start": 0.9,
            "bin_end": 1,
            "count": 207
           }
          ]
         }
        },
        {
         "name": "cp",
         "dtype": "int64",
         "stats": {
          "unique_count": 4,
          "nan_count": 0,
          "min": "0",
          "max": "3",
          "histogram": [
           {
            "bin_start": 0,
            "bin_end": 0.3,
            "count": 143
           },
           {
            "bin_start": 0.3,
            "bin_end": 0.6,
            "count": 0
           },
           {
            "bin_start": 0.6,
            "bin_end": 0.8999999999999999,
            "count": 0
           },
           {
            "bin_start": 0.8999999999999999,
            "bin_end": 1.2,
            "count": 50
           },
           {
            "bin_start": 1.2,
            "bin_end": 1.5,
            "count": 0
           },
           {
            "bin_start": 1.5,
            "bin_end": 1.7999999999999998,
            "count": 0
           },
           {
            "bin_start": 1.7999999999999998,
            "bin_end": 2.1,
            "count": 87
           },
           {
            "bin_start": 2.1,
            "bin_end": 2.4,
            "count": 0
           },
           {
            "bin_start": 2.4,
            "bin_end": 2.6999999999999997,
            "count": 0
           },
           {
            "bin_start": 2.6999999999999997,
            "bin_end": 3,
            "count": 23
           }
          ]
         }
        },
        {
         "name": "trestbps",
         "dtype": "int64",
         "stats": {
          "unique_count": 49,
          "nan_count": 0,
          "min": "94",
          "max": "200",
          "histogram": [
           {
            "bin_start": 94,
            "bin_end": 104.6,
            "count": 10
           },
           {
            "bin_start": 104.6,
            "bin_end": 115.2,
            "count": 42
           },
           {
            "bin_start": 115.2,
            "bin_end": 125.8,
            "count": 67
           },
           {
            "bin_start": 125.8,
            "bin_end": 136.4,
            "count": 74
           },
           {
            "bin_start": 136.4,
            "bin_end": 147,
            "count": 57
           },
           {
            "bin_start": 147,
            "bin_end": 157.6,
            "count": 27
           },
           {
            "bin_start": 157.6,
            "bin_end": 168.2,
            "count": 13
           },
           {
            "bin_start": 168.2,
            "bin_end": 178.8,
            "count": 8
           },
           {
            "bin_start": 178.8,
            "bin_end": 189.39999999999998,
            "count": 3
           },
           {
            "bin_start": 189.39999999999998,
            "bin_end": 200,
            "count": 2
           }
          ]
         }
        },
        {
         "name": "chol",
         "dtype": "int64",
         "stats": {
          "unique_count": 152,
          "nan_count": 0,
          "min": "126",
          "max": "564",
          "histogram": [
           {
            "bin_start": 126,
            "bin_end": 169.8,
            "count": 12
           },
           {
            "bin_start": 169.8,
            "bin_end": 213.6,
            "count": 73
           },
           {
            "bin_start": 213.6,
            "bin_end": 257.4,
            "count": 106
           },
           {
            "bin_start": 257.4,
            "bin_end": 301.2,
            "count": 69
           },
           {
            "bin_start": 301.2,
            "bin_end": 345,
            "count": 35
           },
           {
            "bin_start": 345,
            "bin_end": 388.79999999999995,
            "count": 3
           },
           {
            "bin_start": 388.79999999999995,
            "bin_end": 432.59999999999997,
            "count": 4
           },
           {
            "bin_start": 432.59999999999997,
            "bin_end": 476.4,
            "count": 0
           },
           {
            "bin_start": 476.4,
            "bin_end": 520.2,
            "count": 0
           },
           {
            "bin_start": 520.2,
            "bin_end": 564,
            "count": 1
           }
          ]
         }
        },
        {
         "name": "fbs",
         "dtype": "int64",
         "stats": {
          "unique_count": 2,
          "nan_count": 0,
          "min": "0",
          "max": "1",
          "histogram": [
           {
            "bin_start": 0,
            "bin_end": 0.1,
            "count": 258
           },
           {
            "bin_start": 0.1,
            "bin_end": 0.2,
            "count": 0
           },
           {
            "bin_start": 0.2,
            "bin_end": 0.30000000000000004,
            "count": 0
           },
           {
            "bin_start": 0.30000000000000004,
            "bin_end": 0.4,
            "count": 0
           },
           {
            "bin_start": 0.4,
            "bin_end": 0.5,
            "count": 0
           },
           {
            "bin_start": 0.5,
            "bin_end": 0.6000000000000001,
            "count": 0
           },
           {
            "bin_start": 0.6000000000000001,
            "bin_end": 0.7000000000000001,
            "count": 0
           },
           {
            "bin_start": 0.7000000000000001,
            "bin_end": 0.8,
            "count": 0
           },
           {
            "bin_start": 0.8,
            "bin_end": 0.9,
            "count": 0
           },
           {
            "bin_start": 0.9,
            "bin_end": 1,
            "count": 45
           }
          ]
         }
        },
        {
         "name": "restecg",
         "dtype": "int64",
         "stats": {
          "unique_count": 3,
          "nan_count": 0,
          "min": "0",
          "max": "2",
          "histogram": [
           {
            "bin_start": 0,
            "bin_end": 0.2,
            "count": 147
           },
           {
            "bin_start": 0.2,
            "bin_end": 0.4,
            "count": 0
           },
           {
            "bin_start": 0.4,
            "bin_end": 0.6000000000000001,
            "count": 0
           },
           {
            "bin_start": 0.6000000000000001,
            "bin_end": 0.8,
            "count": 0
           },
           {
            "bin_start": 0.8,
            "bin_end": 1,
            "count": 0
           },
           {
            "bin_start": 1,
            "bin_end": 1.2000000000000002,
            "count": 152
           },
           {
            "bin_start": 1.2000000000000002,
            "bin_end": 1.4000000000000001,
            "count": 0
           },
           {
            "bin_start": 1.4000000000000001,
            "bin_end": 1.6,
            "count": 0
           },
           {
            "bin_start": 1.6,
            "bin_end": 1.8,
            "count": 0
           },
           {
            "bin_start": 1.8,
            "bin_end": 2,
            "count": 4
           }
          ]
         }
        },
        {
         "name": "thalach",
         "dtype": "int64",
         "stats": {
          "unique_count": 91,
          "nan_count": 0,
          "min": "71",
          "max": "202",
          "histogram": [
           {
            "bin_start": 71,
            "bin_end": 84.1,
            "count": 1
           },
           {
            "bin_start": 84.1,
            "bin_end": 97.2,
            "count": 6
           },
           {
            "bin_start": 97.2,
            "bin_end": 110.3,
            "count": 11
           },
           {
            "bin_start": 110.3,
            "bin_end": 123.4,
            "count": 26
           },
           {
            "bin_start": 123.4,
            "bin_end": 136.5,
            "count": 35
           },
           {
            "bin_start": 136.5,
            "bin_end": 149.6,
            "count": 53
           },
           {
            "bin_start": 149.6,
            "bin_end": 162.7,
            "count": 77
           },
           {
            "bin_start": 162.7,
            "bin_end": 175.8,
            "count": 63
           },
           {
            "bin_start": 175.8,
            "bin_end": 188.89999999999998,
            "count": 26
           },
           {
            "bin_start": 188.89999999999998,
            "bin_end": 202,
            "count": 5
           }
          ]
         }
        },
        {
         "name": "exang",
         "dtype": "int64",
         "stats": {
          "unique_count": 2,
          "nan_count": 0,
          "min": "0",
          "max": "1",
          "histogram": [
           {
            "bin_start": 0,
            "bin_end": 0.1,
            "count": 204
           },
           {
            "bin_start": 0.1,
            "bin_end": 0.2,
            "count": 0
           },
           {
            "bin_start": 0.2,
            "bin_end": 0.30000000000000004,
            "count": 0
           },
           {
            "bin_start": 0.30000000000000004,
            "bin_end": 0.4,
            "count": 0
           },
           {
            "bin_start": 0.4,
            "bin_end": 0.5,
            "count": 0
           },
           {
            "bin_start": 0.5,
            "bin_end": 0.6000000000000001,
            "count": 0
           },
           {
            "bin_start": 0.6000000000000001,
            "bin_end": 0.7000000000000001,
            "count": 0
           },
           {
            "bin_start": 0.7000000000000001,
            "bin_end": 0.8,
            "count": 0
           },
           {
            "bin_start": 0.8,
            "bin_end": 0.9,
            "count": 0
           },
           {
            "bin_start": 0.9,
            "bin_end": 1,
            "count": 99
           }
          ]
         }
        },
        {
         "name": "oldpeak",
         "dtype": "float64",
         "stats": {
          "unique_count": 40,
          "nan_count": 0,
          "min": "0.0",
          "max": "6.2",
          "histogram": [
           {
            "bin_start": 0,
            "bin_end": 0.62,
            "count": 149
           },
           {
            "bin_start": 0.62,
            "bin_end": 1.24,
            "count": 50
           },
           {
            "bin_start": 1.24,
            "bin_end": 1.8599999999999999,
            "count": 40
           },
           {
            "bin_start": 1.8599999999999999,
            "bin_end": 2.48,
            "count": 24
           },
           {
            "bin_start": 2.48,
            "bin_end": 3.1,
            "count": 20
           },
           {
            "bin_start": 3.1,
            "bin_end": 3.7199999999999998,
            "count": 11
           },
           {
            "bin_start": 3.7199999999999998,
            "bin_end": 4.34,
            "count": 6
           },
           {
            "bin_start": 4.34,
            "bin_end": 4.96,
            "count": 1
           },
           {
            "bin_start": 4.96,
            "bin_end": 5.58,
            "count": 0
           },
           {
            "bin_start": 5.58,
            "bin_end": 6.2,
            "count": 2
           }
          ]
         }
        },
        {
         "name": "slope",
         "dtype": "int64",
         "stats": {
          "unique_count": 3,
          "nan_count": 0,
          "min": "0",
          "max": "2",
          "histogram": [
           {
            "bin_start": 0,
            "bin_end": 0.2,
            "count": 21
           },
           {
            "bin_start": 0.2,
            "bin_end": 0.4,
            "count": 0
           },
           {
            "bin_start": 0.4,
            "bin_end": 0.6000000000000001,
            "count": 0
           },
           {
            "bin_start": 0.6000000000000001,
            "bin_end": 0.8,
            "count": 0
           },
           {
            "bin_start": 0.8,
            "bin_end": 1,
            "count": 0
           },
           {
            "bin_start": 1,
            "bin_end": 1.2000000000000002,
            "count": 140
           },
           {
            "bin_start": 1.2000000000000002,
            "bin_end": 1.4000000000000001,
            "count": 0
           },
           {
            "bin_start": 1.4000000000000001,
            "bin_end": 1.6,
            "count": 0
           },
           {
            "bin_start": 1.6,
            "bin_end": 1.8,
            "count": 0
           },
           {
            "bin_start": 1.8,
            "bin_end": 2,
            "count": 142
           }
          ]
         }
        },
        {
         "name": "ca",
         "dtype": "int64",
         "stats": {
          "unique_count": 5,
          "nan_count": 0,
          "min": "0",
          "max": "4",
          "histogram": [
           {
            "bin_start": 0,
            "bin_end": 0.4,
            "count": 175
           },
           {
            "bin_start": 0.4,
            "bin_end": 0.8,
            "count": 0
           },
           {
            "bin_start": 0.8,
            "bin_end": 1.2000000000000002,
            "count": 65
           },
           {
            "bin_start": 1.2000000000000002,
            "bin_end": 1.6,
            "count": 0
           },
           {
            "bin_start": 1.6,
            "bin_end": 2,
            "count": 0
           },
           {
            "bin_start": 2,
            "bin_end": 2.4000000000000004,
            "count": 38
           },
           {
            "bin_start": 2.4000000000000004,
            "bin_end": 2.8000000000000003,
            "count": 0
           },
           {
            "bin_start": 2.8000000000000003,
            "bin_end": 3.2,
            "count": 20
           },
           {
            "bin_start": 3.2,
            "bin_end": 3.6,
            "count": 0
           },
           {
            "bin_start": 3.6,
            "bin_end": 4,
            "count": 5
           }
          ]
         }
        },
        {
         "name": "thal",
         "dtype": "int64",
         "stats": {
          "unique_count": 4,
          "nan_count": 0,
          "min": "0",
          "max": "3",
          "histogram": [
           {
            "bin_start": 0,
            "bin_end": 0.3,
            "count": 2
           },
           {
            "bin_start": 0.3,
            "bin_end": 0.6,
            "count": 0
           },
           {
            "bin_start": 0.6,
            "bin_end": 0.8999999999999999,
            "count": 0
           },
           {
            "bin_start": 0.8999999999999999,
            "bin_end": 1.2,
            "count": 18
           },
           {
            "bin_start": 1.2,
            "bin_end": 1.5,
            "count": 0
           },
           {
            "bin_start": 1.5,
            "bin_end": 1.7999999999999998,
            "count": 0
           },
           {
            "bin_start": 1.7999999999999998,
            "bin_end": 2.1,
            "count": 166
           },
           {
            "bin_start": 2.1,
            "bin_end": 2.4,
            "count": 0
           },
           {
            "bin_start": 2.4,
            "bin_end": 2.6999999999999997,
            "count": 0
           },
           {
            "bin_start": 2.6999999999999997,
            "bin_end": 3,
            "count": 117
           }
          ]
         }
        },
        {
         "name": "target",
         "dtype": "int64",
         "stats": {
          "unique_count": 2,
          "nan_count": 0,
          "min": "0",
          "max": "1",
          "histogram": [
           {
            "bin_start": 0,
            "bin_end": 0.1,
            "count": 138
           },
           {
            "bin_start": 0.1,
            "bin_end": 0.2,
            "count": 0
           },
           {
            "bin_start": 0.2,
            "bin_end": 0.30000000000000004,
            "count": 0
           },
           {
            "bin_start": 0.30000000000000004,
            "bin_end": 0.4,
            "count": 0
           },
           {
            "bin_start": 0.4,
            "bin_end": 0.5,
            "count": 0
           },
           {
            "bin_start": 0.5,
            "bin_end": 0.6000000000000001,
            "count": 0
           },
           {
            "bin_start": 0.6000000000000001,
            "bin_end": 0.7000000000000001,
            "count": 0
           },
           {
            "bin_start": 0.7000000000000001,
            "bin_end": 0.8,
            "count": 0
           },
           {
            "bin_start": 0.8,
            "bin_end": 0.9,
            "count": 0
           },
           {
            "bin_start": 0.9,
            "bin_end": 1,
            "count": 165
           }
          ]
         }
        },
        {
         "name": "slope*oldpeak",
         "dtype": "float64",
         "stats": {
          "unique_count": 36,
          "nan_count": 0,
          "min": "0.0",
          "max": "8.0",
          "histogram": [
           {
            "bin_start": 0,
            "bin_end": 0.8,
            "count": 158
           },
           {
            "bin_start": 0.8,
            "bin_end": 1.6,
            "count": 50
           },
           {
            "bin_start": 1.6,
            "bin_end": 2.4000000000000004,
            "count": 50
           },
           {
            "bin_start": 2.4000000000000004,
            "bin_end": 3.2,
            "count": 25
           },
           {
            "bin_start": 3.2,
            "bin_end": 4,
            "count": 15
           },
           {
            "bin_start": 4,
            "bin_end": 4.800000000000001,
            "count": 3
           },
           {
            "bin_start": 4.800000000000001,
            "bin_end": 5.6000000000000005,
            "count": 0
           },
           {
            "bin_start": 5.6000000000000005,
            "bin_end": 6.4,
            "count": 0
           },
           {
            "bin_start": 6.4,
            "bin_end": 7.2,
            "count": 1
           },
           {
            "bin_start": 7.2,
            "bin_end": 8,
            "count": 1
           }
          ]
         }
        },
        {
         "name": "slope*thalach",
         "dtype": "int64",
         "stats": {
          "unique_count": 132,
          "nan_count": 0,
          "min": "0",
          "max": "404",
          "histogram": [
           {
            "bin_start": 0,
            "bin_end": 40.4,
            "count": 21
           },
           {
            "bin_start": 40.4,
            "bin_end": 80.8,
            "count": 1
           },
           {
            "bin_start": 80.8,
            "bin_end": 121.19999999999999,
            "count": 28
           },
           {
            "bin_start": 121.19999999999999,
            "bin_end": 161.6,
            "count": 88
           },
           {
            "bin_start": 161.6,
            "bin_end": 202,
            "count": 24
           },
           {
            "bin_start": 202,
            "bin_end": 242.39999999999998,
            "count": 4
           },
           {
            "bin_start": 242.39999999999998,
            "bin_end": 282.8,
            "count": 14
           },
           {
            "bin_start": 282.8,
            "bin_end": 323.2,
            "count": 45
           },
           {
            "bin_start": 323.2,
            "bin_end": 363.59999999999997,
            "count": 66
           },
           {
            "bin_start": 363.59999999999997,
            "bin_end": 404,
            "count": 12
           }
          ]
         }
        },
        {
         "name": "oldpeak*thalach",
         "dtype": "float64",
         "stats": {
          "unique_count": 189,
          "nan_count": 0,
          "min": "0.0",
          "max": "899.0",
          "histogram": [
           {
            "bin_start": 0,
            "bin_end": 89.9,
            "count": 142
           },
           {
            "bin_start": 89.9,
            "bin_end": 179.8,
            "count": 57
           },
           {
            "bin_start": 179.8,
            "bin_end": 269.70000000000005,
            "count": 47
           },
           {
            "bin_start": 269.70000000000005,
            "bin_end": 359.6,
            "count": 24
           },
           {
            "bin_start": 359.6,
            "bin_end": 449.5,
            "count": 14
           },
           {
            "bin_start": 449.5,
            "bin_end": 539.4000000000001,
            "count": 9
           },
           {
            "bin_start": 539.4000000000001,
            "bin_end": 629.3000000000001,
            "count": 7
           },
           {
            "bin_start": 629.3000000000001,
            "bin_end": 719.2,
            "count": 2
           },
           {
            "bin_start": 719.2,
            "bin_end": 809.1,
            "count": 0
           },
           {
            "bin_start": 809.1,
            "bin_end": 899,
            "count": 1
           }
          ]
         }
        },
        {
         "name": "exang*oldpeak",
         "dtype": "float64",
         "stats": {
          "unique_count": 31,
          "nan_count": 0,
          "min": "0.0",
          "max": "5.6",
          "histogram": [
           {
            "bin_start": 0,
            "bin_end": 0.5599999999999999,
            "count": 230
           },
           {
            "bin_start": 0.5599999999999999,
            "bin_end": 1.1199999999999999,
            "count": 13
           },
           {
            "bin_start": 1.1199999999999999,
            "bin_end": 1.6799999999999997,
            "count": 19
           },
           {
            "bin_start": 1.6799999999999997,
            "bin_end": 2.2399999999999998,
            "count": 16
           },
           {
            "bin_start": 2.2399999999999998,
            "bin_end": 2.8,
            "count": 4
           },
           {
            "bin_start": 2.8,
            "bin_end": 3.3599999999999994,
            "count": 12
           },
           {
            "bin_start": 3.3599999999999994,
            "bin_end": 3.9199999999999995,
            "count": 5
           },
           {
            "bin_start": 3.9199999999999995,
            "bin_end": 4.4799999999999995,
            "count": 3
           },
           {
            "bin_start": 4.4799999999999995,
            "bin_end": 5.039999999999999,
            "count": 0
           },
           {
            "bin_start": 5.039999999999999,
            "bin_end": 5.6,
            "count": 1
           }
          ]
         }
        },
        {
         "name": "exang*cp",
         "dtype": "int64",
         "stats": {
          "unique_count": 4,
          "nan_count": 0,
          "min": "0",
          "max": "3",
          "histogram": [
           {
            "bin_start": 0,
            "bin_end": 0.3,
            "count": 284
           },
           {
            "bin_start": 0.3,
            "bin_end": 0.6,
            "count": 0
           },
           {
            "bin_start": 0.6,
            "bin_end": 0.8999999999999999,
            "count": 0
           },
           {
            "bin_start": 0.8999999999999999,
            "bin_end": 1.2,
            "count": 4
           },
           {
            "bin_start": 1.2,
            "bin_end": 1.5,
            "count": 0
           },
           {
            "bin_start": 1.5,
            "bin_end": 1.7999999999999998,
            "count": 0
           },
           {
            "bin_start": 1.7999999999999998,
            "bin_end": 2.1,
            "count": 11
           },
           {
            "bin_start": 2.1,
            "bin_end": 2.4,
            "count": 0
           },
           {
            "bin_start": 2.4,
            "bin_end": 2.6999999999999997,
            "count": 0
           },
           {
            "bin_start": 2.6999999999999997,
            "bin_end": 3,
            "count": 4
           }
          ]
         }
        },
        {
         "name": "fbs*chol",
         "dtype": "int64",
         "stats": {
          "unique_count": 41,
          "nan_count": 0,
          "min": "0",
          "max": "417",
          "histogram": [
           {
            "bin_start": 0,
            "bin_end": 41.7,
            "count": 258
           },
           {
            "bin_start": 41.7,
            "bin_end": 83.4,
            "count": 0
           },
           {
            "bin_start": 83.4,
            "bin_end": 125.10000000000001,
            "count": 0
           },
           {
            "bin_start": 125.10000000000001,
            "bin_end": 166.8,
            "count": 1
           },
           {
            "bin_start": 166.8,
            "bin_end": 208.5,
            "count": 10
           },
           {
            "bin_start": 208.5,
            "bin_end": 250.20000000000002,
            "count": 15
           },
           {
            "bin_start": 250.20000000000002,
            "bin_end": 291.90000000000003,
            "count": 12
           },
           {
            "bin_start": 291.90000000000003,
            "bin_end": 333.6,
            "count": 5
           },
           {
            "bin_start": 333.6,
            "bin_end": 375.3,
            "count": 1
           },
           {
            "bin_start": 375.3,
            "bin_end": 417,
            "count": 1
           }
          ]
         }
        },
        {
         "name": "_deepnote_index_column",
         "dtype": "int64"
        }
       ],
       "rows_top": [
        {
         "age": 63,
         "sex": 1,
         "cp": 3,
         "trestbps": 145,
         "chol": 233,
         "fbs": 1,
         "restecg": 0,
         "thalach": 150,
         "exang": 0,
         "oldpeak": 2.3,
         "slope": 0,
         "ca": 0,
         "thal": 1,
         "target": 1,
         "slope*oldpeak": 0,
         "slope*thalach": 0,
         "oldpeak*thalach": 345,
         "exang*oldpeak": 0,
         "exang*cp": 0,
         "fbs*chol": 233,
         "_deepnote_index_column": 0
        },
        {
         "age": 37,
         "sex": 1,
         "cp": 2,
         "trestbps": 130,
         "chol": 250,
         "fbs": 0,
         "restecg": 1,
         "thalach": 187,
         "exang": 0,
         "oldpeak": 3.5,
         "slope": 0,
         "ca": 0,
         "thal": 2,
         "target": 1,
         "slope*oldpeak": 0,
         "slope*thalach": 0,
         "oldpeak*thalach": 654.5,
         "exang*oldpeak": 0,
         "exang*cp": 0,
         "fbs*chol": 0,
         "_deepnote_index_column": 1
        },
        {
         "age": 41,
         "sex": 0,
         "cp": 1,
         "trestbps": 130,
         "chol": 204,
         "fbs": 0,
         "restecg": 0,
         "thalach": 172,
         "exang": 0,
         "oldpeak": 1.4,
         "slope": 2,
         "ca": 0,
         "thal": 2,
         "target": 1,
         "slope*oldpeak": 2.8,
         "slope*thalach": 344,
         "oldpeak*thalach": 240.79999999999998,
         "exang*oldpeak": 0,
         "exang*cp": 0,
         "fbs*chol": 0,
         "_deepnote_index_column": 2
        },
        {
         "age": 56,
         "sex": 1,
         "cp": 1,
         "trestbps": 120,
         "chol": 236,
         "fbs": 0,
         "restecg": 1,
         "thalach": 178,
         "exang": 0,
         "oldpeak": 0.8,
         "slope": 2,
         "ca": 0,
         "thal": 2,
         "target": 1,
         "slope*oldpeak": 1.6,
         "slope*thalach": 356,
         "oldpeak*thalach": 142.4,
         "exang*oldpeak": 0,
         "exang*cp": 0,
         "fbs*chol": 0,
         "_deepnote_index_column": 3
        },
        {
         "age": 57,
         "sex": 0,
         "cp": 0,
         "trestbps": 120,
         "chol": 354,
         "fbs": 0,
         "restecg": 1,
         "thalach": 163,
         "exang": 1,
         "oldpeak": 0.6,
         "slope": 2,
         "ca": 0,
         "thal": 2,
         "target": 1,
         "slope*oldpeak": 1.2,
         "slope*thalach": 326,
         "oldpeak*thalach": 97.8,
         "exang*oldpeak": 0.6,
         "exang*cp": 0,
         "fbs*chol": 0,
         "_deepnote_index_column": 4
        },
        {
         "age": 57,
         "sex": 1,
         "cp": 0,
         "trestbps": 140,
         "chol": 192,
         "fbs": 0,
         "restecg": 1,
         "thalach": 148,
         "exang": 0,
         "oldpeak": 0.4,
         "slope": 1,
         "ca": 0,
         "thal": 1,
         "target": 1,
         "slope*oldpeak": 0.4,
         "slope*thalach": 148,
         "oldpeak*thalach": 59.2,
         "exang*oldpeak": 0,
         "exang*cp": 0,
         "fbs*chol": 0,
         "_deepnote_index_column": 5
        },
        {
         "age": 56,
         "sex": 0,
         "cp": 1,
         "trestbps": 140,
         "chol": 294,
         "fbs": 0,
         "restecg": 0,
         "thalach": 153,
         "exang": 0,
         "oldpeak": 1.3,
         "slope": 1,
         "ca": 0,
         "thal": 2,
         "target": 1,
         "slope*oldpeak": 1.3,
         "slope*thalach": 153,
         "oldpeak*thalach": 198.9,
         "exang*oldpeak": 0,
         "exang*cp": 0,
         "fbs*chol": 0,
         "_deepnote_index_column": 6
        },
        {
         "age": 44,
         "sex": 1,
         "cp": 1,
         "trestbps": 120,
         "chol": 263,
         "fbs": 0,
         "restecg": 1,
         "thalach": 173,
         "exang": 0,
         "oldpeak": 0,
         "slope": 2,
         "ca": 0,
         "thal": 3,
         "target": 1,
         "slope*oldpeak": 0,
         "slope*thalach": 346,
         "oldpeak*thalach": 0,
         "exang*oldpeak": 0,
         "exang*cp": 0,
         "fbs*chol": 0,
         "_deepnote_index_column": 7
        },
        {
         "age": 52,
         "sex": 1,
         "cp": 2,
         "trestbps": 172,
         "chol": 199,
         "fbs": 1,
         "restecg": 1,
         "thalach": 162,
         "exang": 0,
         "oldpeak": 0.5,
         "slope": 2,
         "ca": 0,
         "thal": 3,
         "target": 1,
         "slope*oldpeak": 1,
         "slope*thalach": 324,
         "oldpeak*thalach": 81,
         "exang*oldpeak": 0,
         "exang*cp": 0,
         "fbs*chol": 199,
         "_deepnote_index_column": 8
        },
        {
         "age": 57,
         "sex": 1,
         "cp": 2,
         "trestbps": 150,
         "chol": 168,
         "fbs": 0,
         "restecg": 1,
         "thalach": 174,
         "exang": 0,
         "oldpeak": 1.6,
         "slope": 2,
         "ca": 0,
         "thal": 2,
         "target": 1,
         "slope*oldpeak": 3.2,
         "slope*thalach": 348,
         "oldpeak*thalach": 278.40000000000003,
         "exang*oldpeak": 0,
         "exang*cp": 0,
         "fbs*chol": 0,
         "_deepnote_index_column": 9
        },
        {
         "age": 54,
         "sex": 1,
         "cp": 0,
         "trestbps": 140,
         "chol": 239,
         "fbs": 0,
         "restecg": 1,
         "thalach": 160,
         "exang": 0,
         "oldpeak": 1.2,
         "slope": 2,
         "ca": 0,
         "thal": 2,
         "target": 1,
         "slope*oldpeak": 2.4,
         "slope*thalach": 320,
         "oldpeak*thalach": 192,
         "exang*oldpeak": 0,
         "exang*cp": 0,
         "fbs*chol": 0,
         "_deepnote_index_column": 10
        },
        {
         "age": 48,
         "sex": 0,
         "cp": 2,
         "trestbps": 130,
         "chol": 275,
         "fbs": 0,
         "restecg": 1,
         "thalach": 139,
         "exang": 0,
         "oldpeak": 0.2,
         "slope": 2,
         "ca": 0,
         "thal": 2,
         "target": 1,
         "slope*oldpeak": 0.4,
         "slope*thalach": 278,
         "oldpeak*thalach": 27.8,
         "exang*oldpeak": 0,
         "exang*cp": 0,
         "fbs*chol": 0,
         "_deepnote_index_column": 11
        },
        {
         "age": 49,
         "sex": 1,
         "cp": 1,
         "trestbps": 130,
         "chol": 266,
         "fbs": 0,
         "restecg": 1,
         "thalach": 171,
         "exang": 0,
         "oldpeak": 0.6,
         "slope": 2,
         "ca": 0,
         "thal": 2,
         "target": 1,
         "slope*oldpeak": 1.2,
         "slope*thalach": 342,
         "oldpeak*thalach": 102.6,
         "exang*oldpeak": 0,
         "exang*cp": 0,
         "fbs*chol": 0,
         "_deepnote_index_column": 12
        },
        {
         "age": 64,
         "sex": 1,
         "cp": 3,
         "trestbps": 110,
         "chol": 211,
         "fbs": 0,
         "restecg": 0,
         "thalach": 144,
         "exang": 1,
         "oldpeak": 1.8,
         "slope": 1,
         "ca": 0,
         "thal": 2,
         "target": 1,
         "slope*oldpeak": 1.8,
         "slope*thalach": 144,
         "oldpeak*thalach": 259.2,
         "exang*oldpeak": 1.8,
         "exang*cp": 3,
         "fbs*chol": 0,
         "_deepnote_index_column": 13
        },
        {
         "age": 58,
         "sex": 0,
         "cp": 3,
         "trestbps": 150,
         "chol": 283,
         "fbs": 1,
         "restecg": 0,
         "thalach": 162,
         "exang": 0,
         "oldpeak": 1,
         "slope": 2,
         "ca": 0,
         "thal": 2,
         "target": 1,
         "slope*oldpeak": 2,
         "slope*thalach": 324,
         "oldpeak*thalach": 162,
         "exang*oldpeak": 0,
         "exang*cp": 0,
         "fbs*chol": 283,
         "_deepnote_index_column": 14
        },
        {
         "age": 50,
         "sex": 0,
         "cp": 2,
         "trestbps": 120,
         "chol": 219,
         "fbs": 0,
         "restecg": 1,
         "thalach": 158,
         "exang": 0,
         "oldpeak": 1.6,
         "slope": 1,
         "ca": 0,
         "thal": 2,
         "target": 1,
         "slope*oldpeak": 1.6,
         "slope*thalach": 158,
         "oldpeak*thalach": 252.8,
         "exang*oldpeak": 0,
         "exang*cp": 0,
         "fbs*chol": 0,
         "_deepnote_index_column": 15
        },
        {
         "age": 58,
         "sex": 0,
         "cp": 2,
         "trestbps": 120,
         "chol": 340,
         "fbs": 0,
         "restecg": 1,
         "thalach": 172,
         "exang": 0,
         "oldpeak": 0,
         "slope": 2,
         "ca": 0,
         "thal": 2,
         "target": 1,
         "slope*oldpeak": 0,
         "slope*thalach": 344,
         "oldpeak*thalach": 0,
         "exang*oldpeak": 0,
         "exang*cp": 0,
         "fbs*chol": 0,
         "_deepnote_index_column": 16
        },
        {
         "age": 66,
         "sex": 0,
         "cp": 3,
         "trestbps": 150,
         "chol": 226,
         "fbs": 0,
         "restecg": 1,
         "thalach": 114,
         "exang": 0,
         "oldpeak": 2.6,
         "slope": 0,
         "ca": 0,
         "thal": 2,
         "target": 1,
         "slope*oldpeak": 0,
         "slope*thalach": 0,
         "oldpeak*thalach": 296.40000000000003,
         "exang*oldpeak": 0,
         "exang*cp": 0,
         "fbs*chol": 0,
         "_deepnote_index_column": 17
        },
        {
         "age": 43,
         "sex": 1,
         "cp": 0,
         "trestbps": 150,
         "chol": 247,
         "fbs": 0,
         "restecg": 1,
         "thalach": 171,
         "exang": 0,
         "oldpeak": 1.5,
         "slope": 2,
         "ca": 0,
         "thal": 2,
         "target": 1,
         "slope*oldpeak": 3,
         "slope*thalach": 342,
         "oldpeak*thalach": 256.5,
         "exang*oldpeak": 0,
         "exang*cp": 0,
         "fbs*chol": 0,
         "_deepnote_index_column": 18
        },
        {
         "age": 69,
         "sex": 0,
         "cp": 3,
         "trestbps": 140,
         "chol": 239,
         "fbs": 0,
         "restecg": 1,
         "thalach": 151,
         "exang": 0,
         "oldpeak": 1.8,
         "slope": 2,
         "ca": 2,
         "thal": 2,
         "target": 1,
         "slope*oldpeak": 3.6,
         "slope*thalach": 302,
         "oldpeak*thalach": 271.8,
         "exang*oldpeak": 0,
         "exang*cp": 0,
         "fbs*chol": 0,
         "_deepnote_index_column": 19
        },
        {
         "age": 59,
         "sex": 1,
         "cp": 0,
         "trestbps": 135,
         "chol": 234,
         "fbs": 0,
         "restecg": 1,
         "thalach": 161,
         "exang": 0,
         "oldpeak": 0.5,
         "slope": 1,
         "ca": 0,
         "thal": 3,
         "target": 1,
         "slope*oldpeak": 0.5,
         "slope*thalach": 161,
         "oldpeak*thalach": 80.5,
         "exang*oldpeak": 0,
         "exang*cp": 0,
         "fbs*chol": 0,
         "_deepnote_index_column": 20
        },
        {
         "age": 44,
         "sex": 1,
         "cp": 2,
         "trestbps": 130,
         "chol": 233,
         "fbs": 0,
         "restecg": 1,
         "thalach": 179,
         "exang": 1,
         "oldpeak": 0.4,
         "slope": 2,
         "ca": 0,
         "thal": 2,
         "target": 1,
         "slope*oldpeak": 0.8,
         "slope*thalach": 358,
         "oldpeak*thalach": 71.60000000000001,
         "exang*oldpeak": 0.4,
         "exang*cp": 2,
         "fbs*chol": 0,
         "_deepnote_index_column": 21
        },
        {
         "age": 42,
         "sex": 1,
         "cp": 0,
         "trestbps": 140,
         "chol": 226,
         "fbs": 0,
         "restecg": 1,
         "thalach": 178,
         "exang": 0,
         "oldpeak": 0,
         "slope": 2,
         "ca": 0,
         "thal": 2,
         "target": 1,
         "slope*oldpeak": 0,
         "slope*thalach": 356,
         "oldpeak*thalach": 0,
         "exang*oldpeak": 0,
         "exang*cp": 0,
         "fbs*chol": 0,
         "_deepnote_index_column": 22
        },
        {
         "age": 61,
         "sex": 1,
         "cp": 2,
         "trestbps": 150,
         "chol": 243,
         "fbs": 1,
         "restecg": 1,
         "thalach": 137,
         "exang": 1,
         "oldpeak": 1,
         "slope": 1,
         "ca": 0,
         "thal": 2,
         "target": 1,
         "slope*oldpeak": 1,
         "slope*thalach": 137,
         "oldpeak*thalach": 137,
         "exang*oldpeak": 1,
         "exang*cp": 2,
         "fbs*chol": 243,
         "_deepnote_index_column": 23
        },
        {
         "age": 40,
         "sex": 1,
         "cp": 3,
         "trestbps": 140,
         "chol": 199,
         "fbs": 0,
         "restecg": 1,
         "thalach": 178,
         "exang": 1,
         "oldpeak": 1.4,
         "slope": 2,
         "ca": 0,
         "thal": 3,
         "target": 1,
         "slope*oldpeak": 2.8,
         "slope*thalach": 356,
         "oldpeak*thalach": 249.2,
         "exang*oldpeak": 1.4,
         "exang*cp": 3,
         "fbs*chol": 0,
         "_deepnote_index_column": 24
        }
       ],
       "rows_bottom": [
        {
         "age": 58,
         "sex": 0,
         "cp": 1,
         "trestbps": 136,
         "chol": 319,
         "fbs": 1,
         "restecg": 0,
         "thalach": 152,
         "exang": 0,
         "oldpeak": 0,
         "slope": 2,
         "ca": 2,
         "thal": 2,
         "target": 0,
         "slope*oldpeak": 0,
         "slope*thalach": 304,
         "oldpeak*thalach": 0,
         "exang*oldpeak": 0,
         "exang*cp": 0,
         "fbs*chol": 319,
         "_deepnote_index_column": 278
        },
        {
         "age": 61,
         "sex": 1,
         "cp": 0,
         "trestbps": 138,
         "chol": 166,
         "fbs": 0,
         "restecg": 0,
         "thalach": 125,
         "exang": 1,
         "oldpeak": 3.6,
         "slope": 1,
         "ca": 1,
         "thal": 2,
         "target": 0,
         "slope*oldpeak": 3.6,
         "slope*thalach": 125,
         "oldpeak*thalach": 450,
         "exang*oldpeak": 3.6,
         "exang*cp": 0,
         "fbs*chol": 0,
         "_deepnote_index_column": 279
        },
        {
         "age": 42,
         "sex": 1,
         "cp": 0,
         "trestbps": 136,
         "chol": 315,
         "fbs": 0,
         "restecg": 1,
         "thalach": 125,
         "exang": 1,
         "oldpeak": 1.8,
         "slope": 1,
         "ca": 0,
         "thal": 1,
         "target": 0,
         "slope*oldpeak": 1.8,
         "slope*thalach": 125,
         "oldpeak*thalach": 225,
         "exang*oldpeak": 1.8,
         "exang*cp": 0,
         "fbs*chol": 0,
         "_deepnote_index_column": 280
        },
        {
         "age": 52,
         "sex": 1,
         "cp": 0,
         "trestbps": 128,
         "chol": 204,
         "fbs": 1,
         "restecg": 1,
         "thalach": 156,
         "exang": 1,
         "oldpeak": 1,
         "slope": 1,
         "ca": 0,
         "thal": 0,
         "target": 0,
         "slope*oldpeak": 1,
         "slope*thalach": 156,
         "oldpeak*thalach": 156,
         "exang*oldpeak": 1,
         "exang*cp": 0,
         "fbs*chol": 204,
         "_deepnote_index_column": 281
        },
        {
         "age": 59,
         "sex": 1,
         "cp": 2,
         "trestbps": 126,
         "chol": 218,
         "fbs": 1,
         "restecg": 1,
         "thalach": 134,
         "exang": 0,
         "oldpeak": 2.2,
         "slope": 1,
         "ca": 1,
         "thal": 1,
         "target": 0,
         "slope*oldpeak": 2.2,
         "slope*thalach": 134,
         "oldpeak*thalach": 294.8,
         "exang*oldpeak": 0,
         "exang*cp": 0,
         "fbs*chol": 218,
         "_deepnote_index_column": 282
        },
        {
         "age": 40,
         "sex": 1,
         "cp": 0,
         "trestbps": 152,
         "chol": 223,
         "fbs": 0,
         "restecg": 1,
         "thalach": 181,
         "exang": 0,
         "oldpeak": 0,
         "slope": 2,
         "ca": 0,
         "thal": 3,
         "target": 0,
         "slope*oldpeak": 0,
         "slope*thalach": 362,
         "oldpeak*thalach": 0,
         "exang*oldpeak": 0,
         "exang*cp": 0,
         "fbs*chol": 0,
         "_deepnote_index_column": 283
        },
        {
         "age": 61,
         "sex": 1,
         "cp": 0,
         "trestbps": 140,
         "chol": 207,
         "fbs": 0,
         "restecg": 0,
         "thalach": 138,
         "exang": 1,
         "oldpeak": 1.9,
         "slope": 2,
         "ca": 1,
         "thal": 3,
         "target": 0,
         "slope*oldpeak": 3.8,
         "slope*thalach": 276,
         "oldpeak*thalach": 262.2,
         "exang*oldpeak": 1.9,
         "exang*cp": 0,
         "fbs*chol": 0,
         "_deepnote_index_column": 284
        },
        {
         "age": 46,
         "sex": 1,
         "cp": 0,
         "trestbps": 140,
         "chol": 311,
         "fbs": 0,
         "restecg": 1,
         "thalach": 120,
         "exang": 1,
         "oldpeak": 1.8,
         "slope": 1,
         "ca": 2,
         "thal": 3,
         "target": 0,
         "slope*oldpeak": 1.8,
         "slope*thalach": 120,
         "oldpeak*thalach": 216,
         "exang*oldpeak": 1.8,
         "exang*cp": 0,
         "fbs*chol": 0,
         "_deepnote_index_column": 285
        },
        {
         "age": 59,
         "sex": 1,
         "cp": 3,
         "trestbps": 134,
         "chol": 204,
         "fbs": 0,
         "restecg": 1,
         "thalach": 162,
         "exang": 0,
         "oldpeak": 0.8,
         "slope": 2,
         "ca": 2,
         "thal": 2,
         "target": 0,
         "slope*oldpeak": 1.6,
         "slope*thalach": 324,
         "oldpeak*thalach": 129.6,
         "exang*oldpeak": 0,
         "exang*cp": 0,
         "fbs*chol": 0,
         "_deepnote_index_column": 286
        },
        {
         "age": 57,
         "sex": 1,
         "cp": 1,
         "trestbps": 154,
         "chol": 232,
         "fbs": 0,
         "restecg": 0,
         "thalach": 164,
         "exang": 0,
         "oldpeak": 0,
         "slope": 2,
         "ca": 1,
         "thal": 2,
         "target": 0,
         "slope*oldpeak": 0,
         "slope*thalach": 328,
         "oldpeak*thalach": 0,
         "exang*oldpeak": 0,
         "exang*cp": 0,
         "fbs*chol": 0,
         "_deepnote_index_column": 287
        },
        {
         "age": 57,
         "sex": 1,
         "cp": 0,
         "trestbps": 110,
         "chol": 335,
         "fbs": 0,
         "restecg": 1,
         "thalach": 143,
         "exang": 1,
         "oldpeak": 3,
         "slope": 1,
         "ca": 1,
         "thal": 3,
         "target": 0,
         "slope*oldpeak": 3,
         "slope*thalach": 143,
         "oldpeak*thalach": 429,
         "exang*oldpeak": 3,
         "exang*cp": 0,
         "fbs*chol": 0,
         "_deepnote_index_column": 288
        },
        {
         "age": 55,
         "sex": 0,
         "cp": 0,
         "trestbps": 128,
         "chol": 205,
         "fbs": 0,
         "restecg": 2,
         "thalach": 130,
         "exang": 1,
         "oldpeak": 2,
         "slope": 1,
         "ca": 1,
         "thal": 3,
         "target": 0,
         "slope*oldpeak": 2,
         "slope*thalach": 130,
         "oldpeak*thalach": 260,
         "exang*oldpeak": 2,
         "exang*cp": 0,
         "fbs*chol": 0,
         "_deepnote_index_column": 289
        },
        {
         "age": 61,
         "sex": 1,
         "cp": 0,
         "trestbps": 148,
         "chol": 203,
         "fbs": 0,
         "restecg": 1,
         "thalach": 161,
         "exang": 0,
         "oldpeak": 0,
         "slope": 2,
         "ca": 1,
         "thal": 3,
         "target": 0,
         "slope*oldpeak": 0,
         "slope*thalach": 322,
         "oldpeak*thalach": 0,
         "exang*oldpeak": 0,
         "exang*cp": 0,
         "fbs*chol": 0,
         "_deepnote_index_column": 290
        },
        {
         "age": 58,
         "sex": 1,
         "cp": 0,
         "trestbps": 114,
         "chol": 318,
         "fbs": 0,
         "restecg": 2,
         "thalach": 140,
         "exang": 0,
         "oldpeak": 4.4,
         "slope": 0,
         "ca": 3,
         "thal": 1,
         "target": 0,
         "slope*oldpeak": 0,
         "slope*thalach": 0,
         "oldpeak*thalach": 616,
         "exang*oldpeak": 0,
         "exang*cp": 0,
         "fbs*chol": 0,
         "_deepnote_index_column": 291
        },
        {
         "age": 58,
         "sex": 0,
         "cp": 0,
         "trestbps": 170,
         "chol": 225,
         "fbs": 1,
         "restecg": 0,
         "thalach": 146,
         "exang": 1,
         "oldpeak": 2.8,
         "slope": 1,
         "ca": 2,
         "thal": 1,
         "target": 0,
         "slope*oldpeak": 2.8,
         "slope*thalach": 146,
         "oldpeak*thalach": 408.79999999999995,
         "exang*oldpeak": 2.8,
         "exang*cp": 0,
         "fbs*chol": 225,
         "_deepnote_index_column": 292
        },
        {
         "age": 67,
         "sex": 1,
         "cp": 2,
         "trestbps": 152,
         "chol": 212,
         "fbs": 0,
         "restecg": 0,
         "thalach": 150,
         "exang": 0,
         "oldpeak": 0.8,
         "slope": 1,
         "ca": 0,
         "thal": 3,
         "target": 0,
         "slope*oldpeak": 0.8,
         "slope*thalach": 150,
         "oldpeak*thalach": 120,
         "exang*oldpeak": 0,
         "exang*cp": 0,
         "fbs*chol": 0,
         "_deepnote_index_column": 293
        },
        {
         "age": 44,
         "sex": 1,
         "cp": 0,
         "trestbps": 120,
         "chol": 169,
         "fbs": 0,
         "restecg": 1,
         "thalach": 144,
         "exang": 1,
         "oldpeak": 2.8,
         "slope": 0,
         "ca": 0,
         "thal": 1,
         "target": 0,
         "slope*oldpeak": 0,
         "slope*thalach": 0,
         "oldpeak*thalach": 403.2,
         "exang*oldpeak": 2.8,
         "exang*cp": 0,
         "fbs*chol": 0,
         "_deepnote_index_column": 294
        },
        {
         "age": 63,
         "sex": 1,
         "cp": 0,
         "trestbps": 140,
         "chol": 187,
         "fbs": 0,
         "restecg": 0,
         "thalach": 144,
         "exang": 1,
         "oldpeak": 4,
         "slope": 2,
         "ca": 2,
         "thal": 3,
         "target": 0,
         "slope*oldpeak": 8,
         "slope*thalach": 288,
         "oldpeak*thalach": 576,
         "exang*oldpeak": 4,
         "exang*cp": 0,
         "fbs*chol": 0,
         "_deepnote_index_column": 295
        },
        {
         "age": 63,
         "sex": 0,
         "cp": 0,
         "trestbps": 124,
         "chol": 197,
         "fbs": 0,
         "restecg": 1,
         "thalach": 136,
         "exang": 1,
         "oldpeak": 0,
         "slope": 1,
         "ca": 0,
         "thal": 2,
         "target": 0,
         "slope*oldpeak": 0,
         "slope*thalach": 136,
         "oldpeak*thalach": 0,
         "exang*oldpeak": 0,
         "exang*cp": 0,
         "fbs*chol": 0,
         "_deepnote_index_column": 296
        },
        {
         "age": 59,
         "sex": 1,
         "cp": 0,
         "trestbps": 164,
         "chol": 176,
         "fbs": 1,
         "restecg": 0,
         "thalach": 90,
         "exang": 0,
         "oldpeak": 1,
         "slope": 1,
         "ca": 2,
         "thal": 1,
         "target": 0,
         "slope*oldpeak": 1,
         "slope*thalach": 90,
         "oldpeak*thalach": 90,
         "exang*oldpeak": 0,
         "exang*cp": 0,
         "fbs*chol": 176,
         "_deepnote_index_column": 297
        },
        {
         "age": 57,
         "sex": 0,
         "cp": 0,
         "trestbps": 140,
         "chol": 241,
         "fbs": 0,
         "restecg": 1,
         "thalach": 123,
         "exang": 1,
         "oldpeak": 0.2,
         "slope": 1,
         "ca": 0,
         "thal": 3,
         "target": 0,
         "slope*oldpeak": 0.2,
         "slope*thalach": 123,
         "oldpeak*thalach": 24.6,
         "exang*oldpeak": 0.2,
         "exang*cp": 0,
         "fbs*chol": 0,
         "_deepnote_index_column": 298
        },
        {
         "age": 45,
         "sex": 1,
         "cp": 3,
         "trestbps": 110,
         "chol": 264,
         "fbs": 0,
         "restecg": 1,
         "thalach": 132,
         "exang": 0,
         "oldpeak": 1.2,
         "slope": 1,
         "ca": 0,
         "thal": 3,
         "target": 0,
         "slope*oldpeak": 1.2,
         "slope*thalach": 132,
         "oldpeak*thalach": 158.4,
         "exang*oldpeak": 0,
         "exang*cp": 0,
         "fbs*chol": 0,
         "_deepnote_index_column": 299
        },
        {
         "age": 68,
         "sex": 1,
         "cp": 0,
         "trestbps": 144,
         "chol": 193,
         "fbs": 1,
         "restecg": 1,
         "thalach": 141,
         "exang": 0,
         "oldpeak": 3.4,
         "slope": 1,
         "ca": 2,
         "thal": 3,
         "target": 0,
         "slope*oldpeak": 3.4,
         "slope*thalach": 141,
         "oldpeak*thalach": 479.4,
         "exang*oldpeak": 0,
         "exang*cp": 0,
         "fbs*chol": 193,
         "_deepnote_index_column": 300
        },
        {
         "age": 57,
         "sex": 1,
         "cp": 0,
         "trestbps": 130,
         "chol": 131,
         "fbs": 0,
         "restecg": 1,
         "thalach": 115,
         "exang": 1,
         "oldpeak": 1.2,
         "slope": 1,
         "ca": 1,
         "thal": 3,
         "target": 0,
         "slope*oldpeak": 1.2,
         "slope*thalach": 115,
         "oldpeak*thalach": 138,
         "exang*oldpeak": 1.2,
         "exang*cp": 0,
         "fbs*chol": 0,
         "_deepnote_index_column": 301
        },
        {
         "age": 57,
         "sex": 0,
         "cp": 1,
         "trestbps": 130,
         "chol": 236,
         "fbs": 0,
         "restecg": 0,
         "thalach": 174,
         "exang": 0,
         "oldpeak": 0,
         "slope": 1,
         "ca": 1,
         "thal": 2,
         "target": 0,
         "slope*oldpeak": 0,
         "slope*thalach": 174,
         "oldpeak*thalach": 0,
         "exang*oldpeak": 0,
         "exang*cp": 0,
         "fbs*chol": 0,
         "_deepnote_index_column": 302
        }
       ]
      },
      "text/plain": "     age  sex  cp  trestbps  chol  fbs  restecg  thalach  exang  oldpeak  \\\n0     63    1   3       145   233    1        0      150      0      2.3   \n1     37    1   2       130   250    0        1      187      0      3.5   \n2     41    0   1       130   204    0        0      172      0      1.4   \n3     56    1   1       120   236    0        1      178      0      0.8   \n4     57    0   0       120   354    0        1      163      1      0.6   \n..   ...  ...  ..       ...   ...  ...      ...      ...    ...      ...   \n298   57    0   0       140   241    0        1      123      1      0.2   \n299   45    1   3       110   264    0        1      132      0      1.2   \n300   68    1   0       144   193    1        1      141      0      3.4   \n301   57    1   0       130   131    0        1      115      1      1.2   \n302   57    0   1       130   236    0        0      174      0      0.0   \n\n     slope  ca  thal  target  slope*oldpeak  slope*thalach  oldpeak*thalach  \\\n0        0   0     1       1            0.0              0            345.0   \n1        0   0     2       1            0.0              0            654.5   \n2        2   0     2       1            2.8            344            240.8   \n3        2   0     2       1            1.6            356            142.4   \n4        2   0     2       1            1.2            326             97.8   \n..     ...  ..   ...     ...            ...            ...              ...   \n298      1   0     3       0            0.2            123             24.6   \n299      1   0     3       0            1.2            132            158.4   \n300      1   2     3       0            3.4            141            479.4   \n301      1   1     3       0            1.2            115            138.0   \n302      1   1     2       0            0.0            174              0.0   \n\n     exang*oldpeak  exang*cp  fbs*chol  \n0              0.0         0       233  \n1              0.0         0         0  \n2              0.0         0         0  \n3              0.0         0         0  \n4              0.6         0         0  \n..             ...       ...       ...  \n298            0.2         0         0  \n299            0.0         0         0  \n300            0.0         0       193  \n301            1.2         0         0  \n302            0.0         0         0  \n\n[303 rows x 20 columns]",
      "text/html": "<div>\n<style scoped>\n    .dataframe tbody tr th:only-of-type {\n        vertical-align: middle;\n    }\n\n    .dataframe tbody tr th {\n        vertical-align: top;\n    }\n\n    .dataframe thead th {\n        text-align: right;\n    }\n</style>\n<table border=\"1\" class=\"dataframe\">\n  <thead>\n    <tr style=\"text-align: right;\">\n      <th></th>\n      <th>age</th>\n      <th>sex</th>\n      <th>cp</th>\n      <th>trestbps</th>\n      <th>chol</th>\n      <th>fbs</th>\n      <th>restecg</th>\n      <th>thalach</th>\n      <th>exang</th>\n      <th>oldpeak</th>\n      <th>slope</th>\n      <th>ca</th>\n      <th>thal</th>\n      <th>target</th>\n      <th>slope*oldpeak</th>\n      <th>slope*thalach</th>\n      <th>oldpeak*thalach</th>\n      <th>exang*oldpeak</th>\n      <th>exang*cp</th>\n      <th>fbs*chol</th>\n    </tr>\n  </thead>\n  <tbody>\n    <tr>\n      <th>0</th>\n      <td>63</td>\n      <td>1</td>\n      <td>3</td>\n      <td>145</td>\n      <td>233</td>\n      <td>1</td>\n      <td>0</td>\n      <td>150</td>\n      <td>0</td>\n      <td>2.3</td>\n      <td>0</td>\n      <td>0</td>\n      <td>1</td>\n      <td>1</td>\n      <td>0.0</td>\n      <td>0</td>\n      <td>345.0</td>\n      <td>0.0</td>\n      <td>0</td>\n      <td>233</td>\n    </tr>\n    <tr>\n      <th>1</th>\n      <td>37</td>\n      <td>1</td>\n      <td>2</td>\n      <td>130</td>\n      <td>250</td>\n      <td>0</td>\n      <td>1</td>\n      <td>187</td>\n      <td>0</td>\n      <td>3.5</td>\n      <td>0</td>\n      <td>0</td>\n      <td>2</td>\n      <td>1</td>\n      <td>0.0</td>\n      <td>0</td>\n      <td>654.5</td>\n      <td>0.0</td>\n      <td>0</td>\n      <td>0</td>\n    </tr>\n    <tr>\n      <th>2</th>\n      <td>41</td>\n      <td>0</td>\n      <td>1</td>\n      <td>130</td>\n      <td>204</td>\n      <td>0</td>\n      <td>0</td>\n      <td>172</td>\n      <td>0</td>\n      <td>1.4</td>\n      <td>2</td>\n      <td>0</td>\n      <td>2</td>\n      <td>1</td>\n      <td>2.8</td>\n      <td>344</td>\n      <td>240.8</td>\n      <td>0.0</td>\n      <td>0</td>\n      <td>0</td>\n    </tr>\n    <tr>\n      <th>3</th>\n      <td>56</td>\n      <td>1</td>\n      <td>1</td>\n      <td>120</td>\n      <td>236</td>\n      <td>0</td>\n      <td>1</td>\n      <td>178</td>\n      <td>0</td>\n      <td>0.8</td>\n      <td>2</td>\n      <td>0</td>\n      <td>2</td>\n      <td>1</td>\n      <td>1.6</td>\n      <td>356</td>\n      <td>142.4</td>\n      <td>0.0</td>\n      <td>0</td>\n      <td>0</td>\n    </tr>\n    <tr>\n      <th>4</th>\n      <td>57</td>\n      <td>0</td>\n      <td>0</td>\n      <td>120</td>\n      <td>354</td>\n      <td>0</td>\n      <td>1</td>\n      <td>163</td>\n      <td>1</td>\n      <td>0.6</td>\n      <td>2</td>\n      <td>0</td>\n      <td>2</td>\n      <td>1</td>\n      <td>1.2</td>\n      <td>326</td>\n      <td>97.8</td>\n      <td>0.6</td>\n      <td>0</td>\n      <td>0</td>\n    </tr>\n    <tr>\n      <th>...</th>\n      <td>...</td>\n      <td>...</td>\n      <td>...</td>\n      <td>...</td>\n      <td>...</td>\n      <td>...</td>\n      <td>...</td>\n      <td>...</td>\n      <td>...</td>\n      <td>...</td>\n      <td>...</td>\n      <td>...</td>\n      <td>...</td>\n      <td>...</td>\n      <td>...</td>\n      <td>...</td>\n      <td>...</td>\n      <td>...</td>\n      <td>...</td>\n      <td>...</td>\n    </tr>\n    <tr>\n      <th>298</th>\n      <td>57</td>\n      <td>0</td>\n      <td>0</td>\n      <td>140</td>\n      <td>241</td>\n      <td>0</td>\n      <td>1</td>\n      <td>123</td>\n      <td>1</td>\n      <td>0.2</td>\n      <td>1</td>\n      <td>0</td>\n      <td>3</td>\n      <td>0</td>\n      <td>0.2</td>\n      <td>123</td>\n      <td>24.6</td>\n      <td>0.2</td>\n      <td>0</td>\n      <td>0</td>\n    </tr>\n    <tr>\n      <th>299</th>\n      <td>45</td>\n      <td>1</td>\n      <td>3</td>\n      <td>110</td>\n      <td>264</td>\n      <td>0</td>\n      <td>1</td>\n      <td>132</td>\n      <td>0</td>\n      <td>1.2</td>\n      <td>1</td>\n      <td>0</td>\n      <td>3</td>\n      <td>0</td>\n      <td>1.2</td>\n      <td>132</td>\n      <td>158.4</td>\n      <td>0.0</td>\n      <td>0</td>\n      <td>0</td>\n    </tr>\n    <tr>\n      <th>300</th>\n      <td>68</td>\n      <td>1</td>\n      <td>0</td>\n      <td>144</td>\n      <td>193</td>\n      <td>1</td>\n      <td>1</td>\n      <td>141</td>\n      <td>0</td>\n      <td>3.4</td>\n      <td>1</td>\n      <td>2</td>\n      <td>3</td>\n      <td>0</td>\n      <td>3.4</td>\n      <td>141</td>\n      <td>479.4</td>\n      <td>0.0</td>\n      <td>0</td>\n      <td>193</td>\n    </tr>\n    <tr>\n      <th>301</th>\n      <td>57</td>\n      <td>1</td>\n      <td>0</td>\n      <td>130</td>\n      <td>131</td>\n      <td>0</td>\n      <td>1</td>\n      <td>115</td>\n      <td>1</td>\n      <td>1.2</td>\n      <td>1</td>\n      <td>1</td>\n      <td>3</td>\n      <td>0</td>\n      <td>1.2</td>\n      <td>115</td>\n      <td>138.0</td>\n      <td>1.2</td>\n      <td>0</td>\n      <td>0</td>\n    </tr>\n    <tr>\n      <th>302</th>\n      <td>57</td>\n      <td>0</td>\n      <td>1</td>\n      <td>130</td>\n      <td>236</td>\n      <td>0</td>\n      <td>0</td>\n      <td>174</td>\n      <td>0</td>\n      <td>0.0</td>\n      <td>1</td>\n      <td>1</td>\n      <td>2</td>\n      <td>0</td>\n      <td>0.0</td>\n      <td>174</td>\n      <td>0.0</td>\n      <td>0.0</td>\n      <td>0</td>\n      <td>0</td>\n    </tr>\n  </tbody>\n</table>\n<p>303 rows × 20 columns</p>\n</div>"
     },
     "metadata": {}
    }
   ]
  },
  {
   "cell_type": "code",
   "metadata": {
    "cell_id": "00022-c0a515ee-fa71-4884-8040-269b3b344f12",
    "deepnote_to_be_reexecuted": false,
    "source_hash": "62c1fd25",
    "execution_start": 1620400725304,
    "execution_millis": 20,
    "deepnote_cell_type": "code"
   },
   "source": "cat_vars  = ['sex', 'cp', 'fbs','restecg','exang','ca','slope','thal','exang*cp']        \nnum_vars  = ['age', \n             'trestbps',\n             'chol',\n             'thalach',\n             'oldpeak',\n             'slope*oldpeak',\n             'slope*thalach',\n            'oldpeak*thalach',\n             'exang*oldpeak',\n             'fbs*chol'\n            ] \n\nX = df[cat_vars + num_vars]\ny = df.target\nprint(\"\\nNumerical features:\\n\", num_vars)\nprint(\"\\nCategorical features:\\n\", cat_vars)",
   "execution_count": 18,
   "outputs": [
    {
     "name": "stdout",
     "text": "\nNumerical features:\n ['age', 'trestbps', 'chol', 'thalach', 'oldpeak', 'slope*oldpeak', 'slope*thalach', 'oldpeak*thalach', 'exang*oldpeak', 'fbs*chol']\n\nCategorical features:\n ['sex', 'cp', 'fbs', 'restecg', 'exang', 'ca', 'slope', 'thal', 'exang*cp']\n",
     "output_type": "stream"
    }
   ]
  },
  {
   "cell_type": "markdown",
   "source": "# Preprocessing",
   "metadata": {
    "cell_id": "00023-ea7ba0f3-1bfe-431e-9599-a1cc480aa17d",
    "deepnote_cell_type": "markdown"
   }
  },
  {
   "cell_type": "code",
   "metadata": {
    "cell_id": "00024-70aa4e0d-8b79-47e6-a313-83b82a52cc75",
    "deepnote_to_be_reexecuted": false,
    "source_hash": "5de60a76",
    "execution_start": 1620400725309,
    "execution_millis": 59,
    "deepnote_cell_type": "code"
   },
   "source": "cat_4_treeModels = pipeline.Pipeline(steps=[\n  ('ordinal', preprocessing.OrdinalEncoder(handle_unknown=\"use_encoded_value\", unknown_value=np.nan))\n])\n\ntree_prepro = compose.ColumnTransformer(transformers=[\n    ('cat', cat_4_treeModels, cat_vars),\n], remainder='drop') # Drop other vars not specified in num_vars or cat_vars\n\ndisplay(tree_prepro)\n\n######################################\n\nnum_4_multModels = pipeline.Pipeline(steps=[\n  ('scalar', preprocessing.QuantileTransformer(n_quantiles=200, output_distribution='normal', random_state=10))\n])\n\ncat_4_multModels = pipeline.Pipeline(steps=[\n  ('onehot', preprocessing.OneHotEncoder(handle_unknown=\"ignore\"))\n])\n\nmult_prepro = compose.ColumnTransformer(transformers=[\n    ('num', num_4_multModels, num_vars),\n    ('cat', cat_4_multModels, cat_vars),\n], remainder='drop') # Drop other vars not specified in num_vars or cat_vars\n\ndisplay(mult_prepro)",
   "execution_count": 19,
   "outputs": [
    {
     "data": {
      "text/plain": "ColumnTransformer(transformers=[('cat',\n                                 Pipeline(steps=[('ordinal',\n                                                  OrdinalEncoder(handle_unknown='use_encoded_value',\n                                                                 unknown_value=nan))]),\n                                 ['sex', 'cp', 'fbs', 'restecg', 'exang', 'ca',\n                                  'slope', 'thal', 'exang*cp'])])",
      "text/html": "<style>#sk-5e07e08c-bca0-4bd0-8123-7ea11d495d7c {color: black;background-color: white;}#sk-5e07e08c-bca0-4bd0-8123-7ea11d495d7c pre{padding: 0;}#sk-5e07e08c-bca0-4bd0-8123-7ea11d495d7c div.sk-toggleable {background-color: white;}#sk-5e07e08c-bca0-4bd0-8123-7ea11d495d7c label.sk-toggleable__label {cursor: pointer;display: block;width: 100%;margin-bottom: 0;padding: 0.2em 0.3em;box-sizing: border-box;text-align: center;}#sk-5e07e08c-bca0-4bd0-8123-7ea11d495d7c div.sk-toggleable__content {max-height: 0;max-width: 0;overflow: hidden;text-align: left;background-color: #f0f8ff;}#sk-5e07e08c-bca0-4bd0-8123-7ea11d495d7c div.sk-toggleable__content pre {margin: 0.2em;color: black;border-radius: 0.25em;background-color: #f0f8ff;}#sk-5e07e08c-bca0-4bd0-8123-7ea11d495d7c input.sk-toggleable__control:checked~div.sk-toggleable__content {max-height: 200px;max-width: 100%;overflow: auto;}#sk-5e07e08c-bca0-4bd0-8123-7ea11d495d7c div.sk-estimator input.sk-toggleable__control:checked~label.sk-toggleable__label {background-color: #d4ebff;}#sk-5e07e08c-bca0-4bd0-8123-7ea11d495d7c div.sk-label input.sk-toggleable__control:checked~label.sk-toggleable__label {background-color: #d4ebff;}#sk-5e07e08c-bca0-4bd0-8123-7ea11d495d7c input.sk-hidden--visually {border: 0;clip: rect(1px 1px 1px 1px);clip: rect(1px, 1px, 1px, 1px);height: 1px;margin: -1px;overflow: hidden;padding: 0;position: absolute;width: 1px;}#sk-5e07e08c-bca0-4bd0-8123-7ea11d495d7c div.sk-estimator {font-family: monospace;background-color: #f0f8ff;margin: 0.25em 0.25em;border: 1px dotted black;border-radius: 0.25em;box-sizing: border-box;}#sk-5e07e08c-bca0-4bd0-8123-7ea11d495d7c div.sk-estimator:hover {background-color: #d4ebff;}#sk-5e07e08c-bca0-4bd0-8123-7ea11d495d7c div.sk-parallel-item::after {content: \"\";width: 100%;border-bottom: 1px solid gray;flex-grow: 1;}#sk-5e07e08c-bca0-4bd0-8123-7ea11d495d7c div.sk-label:hover label.sk-toggleable__label {background-color: #d4ebff;}#sk-5e07e08c-bca0-4bd0-8123-7ea11d495d7c div.sk-serial::before {content: \"\";position: absolute;border-left: 1px solid gray;box-sizing: border-box;top: 2em;bottom: 0;left: 50%;}#sk-5e07e08c-bca0-4bd0-8123-7ea11d495d7c div.sk-serial {display: flex;flex-direction: column;align-items: center;background-color: white;}#sk-5e07e08c-bca0-4bd0-8123-7ea11d495d7c div.sk-item {z-index: 1;}#sk-5e07e08c-bca0-4bd0-8123-7ea11d495d7c div.sk-parallel {display: flex;align-items: stretch;justify-content: center;background-color: white;}#sk-5e07e08c-bca0-4bd0-8123-7ea11d495d7c div.sk-parallel-item {display: flex;flex-direction: column;position: relative;background-color: white;}#sk-5e07e08c-bca0-4bd0-8123-7ea11d495d7c div.sk-parallel-item:first-child::after {align-self: flex-end;width: 50%;}#sk-5e07e08c-bca0-4bd0-8123-7ea11d495d7c div.sk-parallel-item:last-child::after {align-self: flex-start;width: 50%;}#sk-5e07e08c-bca0-4bd0-8123-7ea11d495d7c div.sk-parallel-item:only-child::after {width: 0;}#sk-5e07e08c-bca0-4bd0-8123-7ea11d495d7c div.sk-dashed-wrapped {border: 1px dashed gray;margin: 0.2em;box-sizing: border-box;padding-bottom: 0.1em;background-color: white;position: relative;}#sk-5e07e08c-bca0-4bd0-8123-7ea11d495d7c div.sk-label label {font-family: monospace;font-weight: bold;background-color: white;display: inline-block;line-height: 1.2em;}#sk-5e07e08c-bca0-4bd0-8123-7ea11d495d7c div.sk-label-container {position: relative;z-index: 2;text-align: center;}#sk-5e07e08c-bca0-4bd0-8123-7ea11d495d7c div.sk-container {display: inline-block;position: relative;}</style><div id=\"sk-5e07e08c-bca0-4bd0-8123-7ea11d495d7c\" class\"sk-top-container\"><div class=\"sk-container\"><div class=\"sk-item sk-dashed-wrapped\"><div class=\"sk-label-container\"><div class=\"sk-label sk-toggleable\"><input class=\"sk-toggleable__control sk-hidden--visually\" id=\"a609b706-a7f1-47ab-b5ae-611f161ba388\" type=\"checkbox\" ><label class=\"sk-toggleable__label\" for=\"a609b706-a7f1-47ab-b5ae-611f161ba388\">ColumnTransformer</label><div class=\"sk-toggleable__content\"><pre>ColumnTransformer(transformers=[('cat',\n                                 Pipeline(steps=[('ordinal',\n                                                  OrdinalEncoder(handle_unknown='use_encoded_value',\n                                                                 unknown_value=nan))]),\n                                 ['sex', 'cp', 'fbs', 'restecg', 'exang', 'ca',\n                                  'slope', 'thal', 'exang*cp'])])</pre></div></div></div><div class=\"sk-parallel\"><div class=\"sk-parallel-item\"><div class=\"sk-item\"><div class=\"sk-label-container\"><div class=\"sk-label sk-toggleable\"><input class=\"sk-toggleable__control sk-hidden--visually\" id=\"fa59689b-0cf0-4a0f-a19b-a27204719869\" type=\"checkbox\" ><label class=\"sk-toggleable__label\" for=\"fa59689b-0cf0-4a0f-a19b-a27204719869\">cat</label><div class=\"sk-toggleable__content\"><pre>['sex', 'cp', 'fbs', 'restecg', 'exang', 'ca', 'slope', 'thal', 'exang*cp']</pre></div></div></div><div class=\"sk-serial\"><div class=\"sk-item\"><div class=\"sk-serial\"><div class=\"sk-item\"><div class=\"sk-estimator sk-toggleable\"><input class=\"sk-toggleable__control sk-hidden--visually\" id=\"50d8a188-08c8-4347-9b4f-a279c61478b6\" type=\"checkbox\" ><label class=\"sk-toggleable__label\" for=\"50d8a188-08c8-4347-9b4f-a279c61478b6\">OrdinalEncoder</label><div class=\"sk-toggleable__content\"><pre>OrdinalEncoder(handle_unknown='use_encoded_value', unknown_value=nan)</pre></div></div></div></div></div></div></div></div></div></div></div></div>"
     },
     "metadata": {},
     "output_type": "display_data"
    },
    {
     "data": {
      "text/plain": "ColumnTransformer(transformers=[('num',\n                                 Pipeline(steps=[('scalar',\n                                                  QuantileTransformer(n_quantiles=200,\n                                                                      output_distribution='normal',\n                                                                      random_state=10))]),\n                                 ['age', 'trestbps', 'chol', 'thalach',\n                                  'oldpeak', 'slope*oldpeak', 'slope*thalach',\n                                  'oldpeak*thalach', 'exang*oldpeak',\n                                  'fbs*chol']),\n                                ('cat',\n                                 Pipeline(steps=[('onehot',\n                                                  OneHotEncoder(handle_unknown='ignore'))]),\n                                 ['sex', 'cp', 'fbs', 'restecg', 'exang', 'ca',\n                                  'slope', 'thal', 'exang*cp'])])",
      "text/html": "<style>#sk-b5a1d137-ff8d-4116-a15c-73ad0c94633f {color: black;background-color: white;}#sk-b5a1d137-ff8d-4116-a15c-73ad0c94633f pre{padding: 0;}#sk-b5a1d137-ff8d-4116-a15c-73ad0c94633f div.sk-toggleable {background-color: white;}#sk-b5a1d137-ff8d-4116-a15c-73ad0c94633f label.sk-toggleable__label {cursor: pointer;display: block;width: 100%;margin-bottom: 0;padding: 0.2em 0.3em;box-sizing: border-box;text-align: center;}#sk-b5a1d137-ff8d-4116-a15c-73ad0c94633f div.sk-toggleable__content {max-height: 0;max-width: 0;overflow: hidden;text-align: left;background-color: #f0f8ff;}#sk-b5a1d137-ff8d-4116-a15c-73ad0c94633f div.sk-toggleable__content pre {margin: 0.2em;color: black;border-radius: 0.25em;background-color: #f0f8ff;}#sk-b5a1d137-ff8d-4116-a15c-73ad0c94633f input.sk-toggleable__control:checked~div.sk-toggleable__content {max-height: 200px;max-width: 100%;overflow: auto;}#sk-b5a1d137-ff8d-4116-a15c-73ad0c94633f div.sk-estimator input.sk-toggleable__control:checked~label.sk-toggleable__label {background-color: #d4ebff;}#sk-b5a1d137-ff8d-4116-a15c-73ad0c94633f div.sk-label input.sk-toggleable__control:checked~label.sk-toggleable__label {background-color: #d4ebff;}#sk-b5a1d137-ff8d-4116-a15c-73ad0c94633f input.sk-hidden--visually {border: 0;clip: rect(1px 1px 1px 1px);clip: rect(1px, 1px, 1px, 1px);height: 1px;margin: -1px;overflow: hidden;padding: 0;position: absolute;width: 1px;}#sk-b5a1d137-ff8d-4116-a15c-73ad0c94633f div.sk-estimator {font-family: monospace;background-color: #f0f8ff;margin: 0.25em 0.25em;border: 1px dotted black;border-radius: 0.25em;box-sizing: border-box;}#sk-b5a1d137-ff8d-4116-a15c-73ad0c94633f div.sk-estimator:hover {background-color: #d4ebff;}#sk-b5a1d137-ff8d-4116-a15c-73ad0c94633f div.sk-parallel-item::after {content: \"\";width: 100%;border-bottom: 1px solid gray;flex-grow: 1;}#sk-b5a1d137-ff8d-4116-a15c-73ad0c94633f div.sk-label:hover label.sk-toggleable__label {background-color: #d4ebff;}#sk-b5a1d137-ff8d-4116-a15c-73ad0c94633f div.sk-serial::before {content: \"\";position: absolute;border-left: 1px solid gray;box-sizing: border-box;top: 2em;bottom: 0;left: 50%;}#sk-b5a1d137-ff8d-4116-a15c-73ad0c94633f div.sk-serial {display: flex;flex-direction: column;align-items: center;background-color: white;}#sk-b5a1d137-ff8d-4116-a15c-73ad0c94633f div.sk-item {z-index: 1;}#sk-b5a1d137-ff8d-4116-a15c-73ad0c94633f div.sk-parallel {display: flex;align-items: stretch;justify-content: center;background-color: white;}#sk-b5a1d137-ff8d-4116-a15c-73ad0c94633f div.sk-parallel-item {display: flex;flex-direction: column;position: relative;background-color: white;}#sk-b5a1d137-ff8d-4116-a15c-73ad0c94633f div.sk-parallel-item:first-child::after {align-self: flex-end;width: 50%;}#sk-b5a1d137-ff8d-4116-a15c-73ad0c94633f div.sk-parallel-item:last-child::after {align-self: flex-start;width: 50%;}#sk-b5a1d137-ff8d-4116-a15c-73ad0c94633f div.sk-parallel-item:only-child::after {width: 0;}#sk-b5a1d137-ff8d-4116-a15c-73ad0c94633f div.sk-dashed-wrapped {border: 1px dashed gray;margin: 0.2em;box-sizing: border-box;padding-bottom: 0.1em;background-color: white;position: relative;}#sk-b5a1d137-ff8d-4116-a15c-73ad0c94633f div.sk-label label {font-family: monospace;font-weight: bold;background-color: white;display: inline-block;line-height: 1.2em;}#sk-b5a1d137-ff8d-4116-a15c-73ad0c94633f div.sk-label-container {position: relative;z-index: 2;text-align: center;}#sk-b5a1d137-ff8d-4116-a15c-73ad0c94633f div.sk-container {display: inline-block;position: relative;}</style><div id=\"sk-b5a1d137-ff8d-4116-a15c-73ad0c94633f\" class\"sk-top-container\"><div class=\"sk-container\"><div class=\"sk-item sk-dashed-wrapped\"><div class=\"sk-label-container\"><div class=\"sk-label sk-toggleable\"><input class=\"sk-toggleable__control sk-hidden--visually\" id=\"a2e35572-03b0-49c6-897f-4cce10ec2ee1\" type=\"checkbox\" ><label class=\"sk-toggleable__label\" for=\"a2e35572-03b0-49c6-897f-4cce10ec2ee1\">ColumnTransformer</label><div class=\"sk-toggleable__content\"><pre>ColumnTransformer(transformers=[('num',\n                                 Pipeline(steps=[('scalar',\n                                                  QuantileTransformer(n_quantiles=200,\n                                                                      output_distribution='normal',\n                                                                      random_state=10))]),\n                                 ['age', 'trestbps', 'chol', 'thalach',\n                                  'oldpeak', 'slope*oldpeak', 'slope*thalach',\n                                  'oldpeak*thalach', 'exang*oldpeak',\n                                  'fbs*chol']),\n                                ('cat',\n                                 Pipeline(steps=[('onehot',\n                                                  OneHotEncoder(handle_unknown='ignore'))]),\n                                 ['sex', 'cp', 'fbs', 'restecg', 'exang', 'ca',\n                                  'slope', 'thal', 'exang*cp'])])</pre></div></div></div><div class=\"sk-parallel\"><div class=\"sk-parallel-item\"><div class=\"sk-item\"><div class=\"sk-label-container\"><div class=\"sk-label sk-toggleable\"><input class=\"sk-toggleable__control sk-hidden--visually\" id=\"e5ed11f3-0ddf-4f5b-bf4e-7d4f980fdbcd\" type=\"checkbox\" ><label class=\"sk-toggleable__label\" for=\"e5ed11f3-0ddf-4f5b-bf4e-7d4f980fdbcd\">num</label><div class=\"sk-toggleable__content\"><pre>['age', 'trestbps', 'chol', 'thalach', 'oldpeak', 'slope*oldpeak', 'slope*thalach', 'oldpeak*thalach', 'exang*oldpeak', 'fbs*chol']</pre></div></div></div><div class=\"sk-serial\"><div class=\"sk-item\"><div class=\"sk-serial\"><div class=\"sk-item\"><div class=\"sk-estimator sk-toggleable\"><input class=\"sk-toggleable__control sk-hidden--visually\" id=\"11c86547-afe6-466d-bfa7-d97adbea36d9\" type=\"checkbox\" ><label class=\"sk-toggleable__label\" for=\"11c86547-afe6-466d-bfa7-d97adbea36d9\">QuantileTransformer</label><div class=\"sk-toggleable__content\"><pre>QuantileTransformer(n_quantiles=200, output_distribution='normal',\n                    random_state=10)</pre></div></div></div></div></div></div></div></div><div class=\"sk-parallel-item\"><div class=\"sk-item\"><div class=\"sk-label-container\"><div class=\"sk-label sk-toggleable\"><input class=\"sk-toggleable__control sk-hidden--visually\" id=\"ce072a79-d66b-4aed-83ce-89d272ace151\" type=\"checkbox\" ><label class=\"sk-toggleable__label\" for=\"ce072a79-d66b-4aed-83ce-89d272ace151\">cat</label><div class=\"sk-toggleable__content\"><pre>['sex', 'cp', 'fbs', 'restecg', 'exang', 'ca', 'slope', 'thal', 'exang*cp']</pre></div></div></div><div class=\"sk-serial\"><div class=\"sk-item\"><div class=\"sk-serial\"><div class=\"sk-item\"><div class=\"sk-estimator sk-toggleable\"><input class=\"sk-toggleable__control sk-hidden--visually\" id=\"36ae8900-82db-418a-86c9-2f478e1abd63\" type=\"checkbox\" ><label class=\"sk-toggleable__label\" for=\"36ae8900-82db-418a-86c9-2f478e1abd63\">OneHotEncoder</label><div class=\"sk-toggleable__content\"><pre>OneHotEncoder(handle_unknown='ignore')</pre></div></div></div></div></div></div></div></div></div></div></div></div>"
     },
     "metadata": {},
     "output_type": "display_data"
    }
   ]
  },
  {
   "cell_type": "markdown",
   "source": "# Modelling",
   "metadata": {
    "cell_id": "00025-75317a68-b989-429b-a05b-4792ba140671",
    "deepnote_cell_type": "markdown"
   }
  },
  {
   "cell_type": "code",
   "metadata": {
    "cell_id": "00026-10ade3c6-08c8-4fde-a839-7a022d7abb58",
    "deepnote_to_be_reexecuted": false,
    "source_hash": "ea6e0deb",
    "execution_start": 1620400725346,
    "execution_millis": 300,
    "deepnote_cell_type": "code"
   },
   "source": "from sklearn.tree          import DecisionTreeClassifier\nfrom sklearn.ensemble      import RandomForestClassifier\nfrom sklearn.ensemble      import ExtraTreesClassifier\nfrom sklearn.ensemble      import AdaBoostClassifier\nfrom sklearn.ensemble      import GradientBoostingClassifier\nfrom sklearn.experimental  import enable_hist_gradient_boosting # Necesary for HistGradientBoostingClassifier\nfrom sklearn.ensemble      import HistGradientBoostingClassifier\nfrom xgboost               import XGBClassifier\nfrom lightgbm              import LGBMClassifier\nfrom catboost              import CatBoostClassifier\n\n# Multiplicative models\nfrom sklearn.svm            import SVR\nfrom sklearn.linear_model   import Lasso\nfrom sklearn.linear_model   import SGDRegressor\nfrom sklearn.linear_model   import Ridge\nfrom sklearn.neural_network import MLPRegressor\nfrom sklearn.neighbors      import KNeighborsRegressor",
   "execution_count": 20,
   "outputs": []
  },
  {
   "cell_type": "code",
   "metadata": {
    "scrolled": true,
    "cell_id": "00027-558341c4-b9b9-4035-991d-0140616d901a",
    "deepnote_to_be_reexecuted": false,
    "source_hash": "f26e0a82",
    "execution_start": 1620400725686,
    "execution_millis": 13,
    "deepnote_cell_type": "code"
   },
   "source": "tree_classifiers = {\n  \"Decision Tree\": DecisionTreeClassifier(random_state=0),\n  \"Extra Trees\":ExtraTreesClassifier(random_state=0),\n  \"Random Forest\":RandomForestClassifier(random_state=0),\n  \"AdaBoost\":AdaBoostClassifier(random_state=0),\n  \"Skl GBM\":GradientBoostingClassifier(random_state=0),\n  \"Skl HistGBM\":GradientBoostingClassifier(random_state=0),\n  \"XGBoost\":XGBClassifier(random_state=0),\n  \"LightGBM\":LGBMClassifier(random_state=0),\n  \"CatBoost\":CatBoostClassifier(random_state=0)\n}\n\nmult_classifiers = {\n  \"SVR\": SVR(),\n  \"Lasso\": Lasso(),\n  \"SDG regr\": SGDRegressor(),\n  \"Neural regr\": MLPRegressor(random_state=73),\n  \"KNN regr\": KNeighborsRegressor(n_neighbors=10),\n  \"Ridge\": Ridge(alpha=0.6, random_state=73)\n}\n\ntree_classifiers = {name: pipeline.make_pipeline(tree_prepro, model) for name, model in tree_classifiers.items()}\nmult_classifiers = {name: pipeline.make_pipeline(mult_prepro, model) for name, model in mult_classifiers.items()}\n\nall_pipelines = {**tree_classifiers, **mult_classifiers}\ntree_classifiers[\"LightGBM\"]",
   "execution_count": 21,
   "outputs": [
    {
     "output_type": "execute_result",
     "execution_count": 21,
     "data": {
      "text/plain": "Pipeline(steps=[('columntransformer',\n                 ColumnTransformer(transformers=[('cat',\n                                                  Pipeline(steps=[('ordinal',\n                                                                   OrdinalEncoder(handle_unknown='use_encoded_value',\n                                                                                  unknown_value=nan))]),\n                                                  ['sex', 'cp', 'fbs',\n                                                   'restecg', 'exang', 'ca',\n                                                   'slope', 'thal',\n                                                   'exang*cp'])])),\n                ('lgbmclassifier', LGBMClassifier(random_state=0))])",
      "text/html": "<style>#sk-cb465b36-72d0-41a9-bed2-0aeae412da5b {color: black;background-color: white;}#sk-cb465b36-72d0-41a9-bed2-0aeae412da5b pre{padding: 0;}#sk-cb465b36-72d0-41a9-bed2-0aeae412da5b div.sk-toggleable {background-color: white;}#sk-cb465b36-72d0-41a9-bed2-0aeae412da5b label.sk-toggleable__label {cursor: pointer;display: block;width: 100%;margin-bottom: 0;padding: 0.2em 0.3em;box-sizing: border-box;text-align: center;}#sk-cb465b36-72d0-41a9-bed2-0aeae412da5b div.sk-toggleable__content {max-height: 0;max-width: 0;overflow: hidden;text-align: left;background-color: #f0f8ff;}#sk-cb465b36-72d0-41a9-bed2-0aeae412da5b div.sk-toggleable__content pre {margin: 0.2em;color: black;border-radius: 0.25em;background-color: #f0f8ff;}#sk-cb465b36-72d0-41a9-bed2-0aeae412da5b input.sk-toggleable__control:checked~div.sk-toggleable__content {max-height: 200px;max-width: 100%;overflow: auto;}#sk-cb465b36-72d0-41a9-bed2-0aeae412da5b div.sk-estimator input.sk-toggleable__control:checked~label.sk-toggleable__label {background-color: #d4ebff;}#sk-cb465b36-72d0-41a9-bed2-0aeae412da5b div.sk-label input.sk-toggleable__control:checked~label.sk-toggleable__label {background-color: #d4ebff;}#sk-cb465b36-72d0-41a9-bed2-0aeae412da5b input.sk-hidden--visually {border: 0;clip: rect(1px 1px 1px 1px);clip: rect(1px, 1px, 1px, 1px);height: 1px;margin: -1px;overflow: hidden;padding: 0;position: absolute;width: 1px;}#sk-cb465b36-72d0-41a9-bed2-0aeae412da5b div.sk-estimator {font-family: monospace;background-color: #f0f8ff;margin: 0.25em 0.25em;border: 1px dotted black;border-radius: 0.25em;box-sizing: border-box;}#sk-cb465b36-72d0-41a9-bed2-0aeae412da5b div.sk-estimator:hover {background-color: #d4ebff;}#sk-cb465b36-72d0-41a9-bed2-0aeae412da5b div.sk-parallel-item::after {content: \"\";width: 100%;border-bottom: 1px solid gray;flex-grow: 1;}#sk-cb465b36-72d0-41a9-bed2-0aeae412da5b div.sk-label:hover label.sk-toggleable__label {background-color: #d4ebff;}#sk-cb465b36-72d0-41a9-bed2-0aeae412da5b div.sk-serial::before {content: \"\";position: absolute;border-left: 1px solid gray;box-sizing: border-box;top: 2em;bottom: 0;left: 50%;}#sk-cb465b36-72d0-41a9-bed2-0aeae412da5b div.sk-serial {display: flex;flex-direction: column;align-items: center;background-color: white;}#sk-cb465b36-72d0-41a9-bed2-0aeae412da5b div.sk-item {z-index: 1;}#sk-cb465b36-72d0-41a9-bed2-0aeae412da5b div.sk-parallel {display: flex;align-items: stretch;justify-content: center;background-color: white;}#sk-cb465b36-72d0-41a9-bed2-0aeae412da5b div.sk-parallel-item {display: flex;flex-direction: column;position: relative;background-color: white;}#sk-cb465b36-72d0-41a9-bed2-0aeae412da5b div.sk-parallel-item:first-child::after {align-self: flex-end;width: 50%;}#sk-cb465b36-72d0-41a9-bed2-0aeae412da5b div.sk-parallel-item:last-child::after {align-self: flex-start;width: 50%;}#sk-cb465b36-72d0-41a9-bed2-0aeae412da5b div.sk-parallel-item:only-child::after {width: 0;}#sk-cb465b36-72d0-41a9-bed2-0aeae412da5b div.sk-dashed-wrapped {border: 1px dashed gray;margin: 0.2em;box-sizing: border-box;padding-bottom: 0.1em;background-color: white;position: relative;}#sk-cb465b36-72d0-41a9-bed2-0aeae412da5b div.sk-label label {font-family: monospace;font-weight: bold;background-color: white;display: inline-block;line-height: 1.2em;}#sk-cb465b36-72d0-41a9-bed2-0aeae412da5b div.sk-label-container {position: relative;z-index: 2;text-align: center;}#sk-cb465b36-72d0-41a9-bed2-0aeae412da5b div.sk-container {display: inline-block;position: relative;}</style><div id=\"sk-cb465b36-72d0-41a9-bed2-0aeae412da5b\" class\"sk-top-container\"><div class=\"sk-container\"><div class=\"sk-item sk-dashed-wrapped\"><div class=\"sk-label-container\"><div class=\"sk-label sk-toggleable\"><input class=\"sk-toggleable__control sk-hidden--visually\" id=\"5d0c444a-8bf0-41b8-8d38-88be7baa81f7\" type=\"checkbox\" ><label class=\"sk-toggleable__label\" for=\"5d0c444a-8bf0-41b8-8d38-88be7baa81f7\">Pipeline</label><div class=\"sk-toggleable__content\"><pre>Pipeline(steps=[('columntransformer',\n                 ColumnTransformer(transformers=[('cat',\n                                                  Pipeline(steps=[('ordinal',\n                                                                   OrdinalEncoder(handle_unknown='use_encoded_value',\n                                                                                  unknown_value=nan))]),\n                                                  ['sex', 'cp', 'fbs',\n                                                   'restecg', 'exang', 'ca',\n                                                   'slope', 'thal',\n                                                   'exang*cp'])])),\n                ('lgbmclassifier', LGBMClassifier(random_state=0))])</pre></div></div></div><div class=\"sk-serial\"><div class=\"sk-item sk-dashed-wrapped\"><div class=\"sk-label-container\"><div class=\"sk-label sk-toggleable\"><input class=\"sk-toggleable__control sk-hidden--visually\" id=\"7b9dd712-2d5e-41d0-9c77-7d1ce76e5a37\" type=\"checkbox\" ><label class=\"sk-toggleable__label\" for=\"7b9dd712-2d5e-41d0-9c77-7d1ce76e5a37\">columntransformer: ColumnTransformer</label><div class=\"sk-toggleable__content\"><pre>ColumnTransformer(transformers=[('cat',\n                                 Pipeline(steps=[('ordinal',\n                                                  OrdinalEncoder(handle_unknown='use_encoded_value',\n                                                                 unknown_value=nan))]),\n                                 ['sex', 'cp', 'fbs', 'restecg', 'exang', 'ca',\n                                  'slope', 'thal', 'exang*cp'])])</pre></div></div></div><div class=\"sk-parallel\"><div class=\"sk-parallel-item\"><div class=\"sk-item\"><div class=\"sk-label-container\"><div class=\"sk-label sk-toggleable\"><input class=\"sk-toggleable__control sk-hidden--visually\" id=\"2fa83cca-99d4-4652-8d77-28066c4a1b6a\" type=\"checkbox\" ><label class=\"sk-toggleable__label\" for=\"2fa83cca-99d4-4652-8d77-28066c4a1b6a\">cat</label><div class=\"sk-toggleable__content\"><pre>['sex', 'cp', 'fbs', 'restecg', 'exang', 'ca', 'slope', 'thal', 'exang*cp']</pre></div></div></div><div class=\"sk-serial\"><div class=\"sk-item\"><div class=\"sk-serial\"><div class=\"sk-item\"><div class=\"sk-estimator sk-toggleable\"><input class=\"sk-toggleable__control sk-hidden--visually\" id=\"f9b3086f-209d-4e60-a8c3-3bcaac1ff25d\" type=\"checkbox\" ><label class=\"sk-toggleable__label\" for=\"f9b3086f-209d-4e60-a8c3-3bcaac1ff25d\">OrdinalEncoder</label><div class=\"sk-toggleable__content\"><pre>OrdinalEncoder(handle_unknown='use_encoded_value', unknown_value=nan)</pre></div></div></div></div></div></div></div></div></div></div><div class=\"sk-item\"><div class=\"sk-estimator sk-toggleable\"><input class=\"sk-toggleable__control sk-hidden--visually\" id=\"a6fb0451-51b1-4580-a6bf-fd0d5b28e521\" type=\"checkbox\" ><label class=\"sk-toggleable__label\" for=\"a6fb0451-51b1-4580-a6bf-fd0d5b28e521\">LGBMClassifier</label><div class=\"sk-toggleable__content\"><pre>LGBMClassifier(random_state=0)</pre></div></div></div></div></div></div></div>"
     },
     "metadata": {}
    }
   ]
  },
  {
   "cell_type": "markdown",
   "source": "# Oversampling ",
   "metadata": {
    "cell_id": "00028-eda7252a-a085-4153-9050-7bbf1da44a75",
    "deepnote_cell_type": "markdown"
   }
  },
  {
   "cell_type": "code",
   "metadata": {
    "cell_id": "00029-c53eca5a-1e8d-4500-972b-2ce5aa2d7872",
    "deepnote_to_be_reexecuted": false,
    "source_hash": "c57c66b",
    "execution_start": 1620400767255,
    "execution_millis": 100,
    "deepnote_cell_type": "code"
   },
   "source": "from imblearn.over_sampling import SMOTENC\nsmote_nc = SMOTENC(categorical_features=[0, 2], random_state=0)\nX_resampled, y_resampled = smote_nc.fit_resample(X, y)\n\nx_train, x_val, y_train, y_val = model_selection.train_test_split(X_resampled, y_resampled,\n    test_size=0.2,\n    stratify = y,\n    random_state=4)",
   "execution_count": 23,
   "outputs": [
    {
     "output_type": "error",
     "ename": "ValueError",
     "evalue": "Found input variables with inconsistent numbers of samples: [330, 303]",
     "traceback": [
      "\u001b[0;31m---------------------------------------------------------------------------\u001b[0m",
      "\u001b[0;31mValueError\u001b[0m                                Traceback (most recent call last)",
      "\u001b[0;32m<ipython-input-23-11d308197bd7>\u001b[0m in \u001b[0;36m<module>\u001b[0;34m\u001b[0m\n\u001b[1;32m      6\u001b[0m     \u001b[0mtest_size\u001b[0m\u001b[0;34m=\u001b[0m\u001b[0;36m0.2\u001b[0m\u001b[0;34m,\u001b[0m\u001b[0;34m\u001b[0m\u001b[0;34m\u001b[0m\u001b[0m\n\u001b[1;32m      7\u001b[0m     \u001b[0mstratify\u001b[0m \u001b[0;34m=\u001b[0m \u001b[0my\u001b[0m\u001b[0;34m,\u001b[0m\u001b[0;34m\u001b[0m\u001b[0;34m\u001b[0m\u001b[0m\n\u001b[0;32m----> 8\u001b[0;31m     random_state=4)\n\u001b[0m",
      "\u001b[0;32m/shared-libs/python3.7/py/lib/python3.7/site-packages/sklearn/model_selection/_split.py\u001b[0m in \u001b[0;36mtrain_test_split\u001b[0;34m(test_size, train_size, random_state, shuffle, stratify, *arrays)\u001b[0m\n\u001b[1;32m   2195\u001b[0m                      random_state=random_state)\n\u001b[1;32m   2196\u001b[0m \u001b[0;34m\u001b[0m\u001b[0m\n\u001b[0;32m-> 2197\u001b[0;31m         \u001b[0mtrain\u001b[0m\u001b[0;34m,\u001b[0m \u001b[0mtest\u001b[0m \u001b[0;34m=\u001b[0m \u001b[0mnext\u001b[0m\u001b[0;34m(\u001b[0m\u001b[0mcv\u001b[0m\u001b[0;34m.\u001b[0m\u001b[0msplit\u001b[0m\u001b[0;34m(\u001b[0m\u001b[0mX\u001b[0m\u001b[0;34m=\u001b[0m\u001b[0marrays\u001b[0m\u001b[0;34m[\u001b[0m\u001b[0;36m0\u001b[0m\u001b[0;34m]\u001b[0m\u001b[0;34m,\u001b[0m \u001b[0my\u001b[0m\u001b[0;34m=\u001b[0m\u001b[0mstratify\u001b[0m\u001b[0;34m)\u001b[0m\u001b[0;34m)\u001b[0m\u001b[0;34m\u001b[0m\u001b[0;34m\u001b[0m\u001b[0m\n\u001b[0m\u001b[1;32m   2198\u001b[0m \u001b[0;34m\u001b[0m\u001b[0m\n\u001b[1;32m   2199\u001b[0m     return list(chain.from_iterable((_safe_indexing(a, train),\n",
      "\u001b[0;32m/shared-libs/python3.7/py/lib/python3.7/site-packages/sklearn/model_selection/_split.py\u001b[0m in \u001b[0;36msplit\u001b[0;34m(self, X, y, groups)\u001b[0m\n\u001b[1;32m   1384\u001b[0m         \u001b[0mto\u001b[0m \u001b[0man\u001b[0m \u001b[0minteger\u001b[0m\u001b[0;34m.\u001b[0m\u001b[0;34m\u001b[0m\u001b[0;34m\u001b[0m\u001b[0m\n\u001b[1;32m   1385\u001b[0m         \"\"\"\n\u001b[0;32m-> 1386\u001b[0;31m         \u001b[0mX\u001b[0m\u001b[0;34m,\u001b[0m \u001b[0my\u001b[0m\u001b[0;34m,\u001b[0m \u001b[0mgroups\u001b[0m \u001b[0;34m=\u001b[0m \u001b[0mindexable\u001b[0m\u001b[0;34m(\u001b[0m\u001b[0mX\u001b[0m\u001b[0;34m,\u001b[0m \u001b[0my\u001b[0m\u001b[0;34m,\u001b[0m \u001b[0mgroups\u001b[0m\u001b[0;34m)\u001b[0m\u001b[0;34m\u001b[0m\u001b[0;34m\u001b[0m\u001b[0m\n\u001b[0m\u001b[1;32m   1387\u001b[0m         \u001b[0;32mfor\u001b[0m \u001b[0mtrain\u001b[0m\u001b[0;34m,\u001b[0m \u001b[0mtest\u001b[0m \u001b[0;32min\u001b[0m \u001b[0mself\u001b[0m\u001b[0;34m.\u001b[0m\u001b[0m_iter_indices\u001b[0m\u001b[0;34m(\u001b[0m\u001b[0mX\u001b[0m\u001b[0;34m,\u001b[0m \u001b[0my\u001b[0m\u001b[0;34m,\u001b[0m \u001b[0mgroups\u001b[0m\u001b[0;34m)\u001b[0m\u001b[0;34m:\u001b[0m\u001b[0;34m\u001b[0m\u001b[0;34m\u001b[0m\u001b[0m\n\u001b[1;32m   1388\u001b[0m             \u001b[0;32myield\u001b[0m \u001b[0mtrain\u001b[0m\u001b[0;34m,\u001b[0m \u001b[0mtest\u001b[0m\u001b[0;34m\u001b[0m\u001b[0;34m\u001b[0m\u001b[0m\n",
      "\u001b[0;32m/shared-libs/python3.7/py/lib/python3.7/site-packages/sklearn/utils/validation.py\u001b[0m in \u001b[0;36mindexable\u001b[0;34m(*iterables)\u001b[0m\n\u001b[1;32m    354\u001b[0m     \"\"\"\n\u001b[1;32m    355\u001b[0m     \u001b[0mresult\u001b[0m \u001b[0;34m=\u001b[0m \u001b[0;34m[\u001b[0m\u001b[0m_make_indexable\u001b[0m\u001b[0;34m(\u001b[0m\u001b[0mX\u001b[0m\u001b[0;34m)\u001b[0m \u001b[0;32mfor\u001b[0m \u001b[0mX\u001b[0m \u001b[0;32min\u001b[0m \u001b[0miterables\u001b[0m\u001b[0;34m]\u001b[0m\u001b[0;34m\u001b[0m\u001b[0;34m\u001b[0m\u001b[0m\n\u001b[0;32m--> 356\u001b[0;31m     \u001b[0mcheck_consistent_length\u001b[0m\u001b[0;34m(\u001b[0m\u001b[0;34m*\u001b[0m\u001b[0mresult\u001b[0m\u001b[0;34m)\u001b[0m\u001b[0;34m\u001b[0m\u001b[0;34m\u001b[0m\u001b[0m\n\u001b[0m\u001b[1;32m    357\u001b[0m     \u001b[0;32mreturn\u001b[0m \u001b[0mresult\u001b[0m\u001b[0;34m\u001b[0m\u001b[0;34m\u001b[0m\u001b[0m\n\u001b[1;32m    358\u001b[0m \u001b[0;34m\u001b[0m\u001b[0m\n",
      "\u001b[0;32m/shared-libs/python3.7/py/lib/python3.7/site-packages/sklearn/utils/validation.py\u001b[0m in \u001b[0;36mcheck_consistent_length\u001b[0;34m(*arrays)\u001b[0m\n\u001b[1;32m    318\u001b[0m     \u001b[0;32mif\u001b[0m \u001b[0mlen\u001b[0m\u001b[0;34m(\u001b[0m\u001b[0muniques\u001b[0m\u001b[0;34m)\u001b[0m \u001b[0;34m>\u001b[0m \u001b[0;36m1\u001b[0m\u001b[0;34m:\u001b[0m\u001b[0;34m\u001b[0m\u001b[0;34m\u001b[0m\u001b[0m\n\u001b[1;32m    319\u001b[0m         raise ValueError(\"Found input variables with inconsistent numbers of\"\n\u001b[0;32m--> 320\u001b[0;31m                          \" samples: %r\" % [int(l) for l in lengths])\n\u001b[0m\u001b[1;32m    321\u001b[0m \u001b[0;34m\u001b[0m\u001b[0m\n\u001b[1;32m    322\u001b[0m \u001b[0;34m\u001b[0m\u001b[0m\n",
      "\u001b[0;31mValueError\u001b[0m: Found input variables with inconsistent numbers of samples: [330, 303]"
     ]
    }
   ]
  },
  {
   "cell_type": "code",
   "metadata": {
    "scrolled": true,
    "cell_id": "00030-c6e2d88e-1f6c-4ea3-950f-32726191453e",
    "deepnote_to_be_reexecuted": true,
    "source_hash": "95e90e9b",
    "execution_start": 1620400665581,
    "execution_millis": 6,
    "deepnote_cell_type": "code"
   },
   "source": "results = pd.DataFrame({'Model': [], 'MSE': [],'Accuracy':[],'RMSE': [], 'Time': []})\n\nfor name, pipe in all_pipelines.items():\n\n    start_time = time.time()\n    preds = 0\n    # YOUR CODE HERE\n    pipe.fit(x_train, y_train)\n\n    preds = pipe.predict(x_val)\n\n    mse = sum((y_val - preds)**2) / preds.shape[0]\n    rmse = np.sqrt(mse)\n\n    total_time = time.time() - start_time\n    accuracy = metrics.accuracy_score(y_val, preds)*100\n    \n    results = results.append({\"Model\": name,\n                              'Accuracy': accuracy,\n                              \"MSE\":   mse,\n                              \"RMSE\":  rmse,\n                              \"Time\":  total_time},\n                              ignore_index=True)\n    \n    \n    results_ord = results.sort_values(by=['RMSE'], ascending=True, ignore_index=True)\n    results_ord.index += 1 \n    clear_output()\n    display(results_ord.style.bar(subset=['MSE', 'RMSE'], vmin=0, color='#5fba7d'))",
   "outputs": [
    {
     "output_type": "error",
     "ename": "NameError",
     "evalue": "name 'x_train' is not defined",
     "traceback": [
      "\u001b[0;31m---------------------------------------------------------------------------\u001b[0m",
      "\u001b[0;31mNameError\u001b[0m                                 Traceback (most recent call last)",
      "\u001b[0;32m<ipython-input-23-8b5c3585e5d4>\u001b[0m in \u001b[0;36m<module>\u001b[0;34m\u001b[0m\n\u001b[1;32m      6\u001b[0m     \u001b[0mpreds\u001b[0m \u001b[0;34m=\u001b[0m \u001b[0;36m0\u001b[0m\u001b[0;34m\u001b[0m\u001b[0;34m\u001b[0m\u001b[0m\n\u001b[1;32m      7\u001b[0m     \u001b[0;31m# YOUR CODE HERE\u001b[0m\u001b[0;34m\u001b[0m\u001b[0;34m\u001b[0m\u001b[0;34m\u001b[0m\u001b[0m\n\u001b[0;32m----> 8\u001b[0;31m     \u001b[0mpipe\u001b[0m\u001b[0;34m.\u001b[0m\u001b[0mfit\u001b[0m\u001b[0;34m(\u001b[0m\u001b[0mx_train\u001b[0m\u001b[0;34m,\u001b[0m \u001b[0my_train\u001b[0m\u001b[0;34m)\u001b[0m\u001b[0;34m\u001b[0m\u001b[0;34m\u001b[0m\u001b[0m\n\u001b[0m\u001b[1;32m      9\u001b[0m \u001b[0;34m\u001b[0m\u001b[0m\n\u001b[1;32m     10\u001b[0m     \u001b[0mpreds\u001b[0m \u001b[0;34m=\u001b[0m \u001b[0mpipe\u001b[0m\u001b[0;34m.\u001b[0m\u001b[0mpredict\u001b[0m\u001b[0;34m(\u001b[0m\u001b[0mx_val\u001b[0m\u001b[0;34m)\u001b[0m\u001b[0;34m\u001b[0m\u001b[0;34m\u001b[0m\u001b[0m\n",
      "\u001b[0;31mNameError\u001b[0m: name 'x_train' is not defined"
     ]
    }
   ],
   "execution_count": null
  },
  {
   "cell_type": "markdown",
   "source": "# Best Model SDG regr",
   "metadata": {
    "cell_id": "00031-3d346191-e732-4f7f-a745-c98d357375b5",
    "deepnote_cell_type": "markdown"
   }
  },
  {
   "cell_type": "code",
   "metadata": {
    "cell_id": "00032-4a607a43-7a2b-4d3f-9113-0efd093a1268",
    "deepnote_to_be_reexecuted": true,
    "source_hash": "86bcdf9e",
    "deepnote_cell_type": "code"
   },
   "source": "lgbm = pipeline.make_pipeline(tree_prepro, LGBMClassifier(random_state=0)) # highest classifier accuracy",
   "outputs": [],
   "execution_count": null
  },
  {
   "cell_type": "code",
   "metadata": {
    "cell_id": "00033-6b93a397-fa1d-4a94-9ddf-a8889e5f8a13",
    "deepnote_to_be_reexecuted": true,
    "source_hash": "6ed69a25",
    "deepnote_cell_type": "code"
   },
   "source": "lgbm.fit(x_train,y_train)\npreds = lgbm.predict(x_val)\n",
   "outputs": [],
   "execution_count": null
  },
  {
   "cell_type": "code",
   "metadata": {
    "cell_id": "00034-67ab8456-7e83-4a81-909b-7a4f2a8a9c95",
    "deepnote_to_be_reexecuted": true,
    "source_hash": "c7abf3ac",
    "deepnote_cell_type": "code"
   },
   "source": "preds",
   "outputs": [
    {
     "data": {
      "text/plain": "array([0, 1, 1, 1, 1, 0, 1, 0, 1, 1, 1, 1, 0, 1, 1, 1, 0, 1, 1, 1, 0, 0,\n       1, 1, 1, 1, 1, 0, 1, 1, 0, 0, 1, 0, 0, 1, 0, 0, 1, 1, 0, 0, 0, 1,\n       1, 1, 1, 1, 1, 1, 1, 0, 1, 1, 1, 1, 0, 0, 0, 0, 0])"
     },
     "execution_count": 88,
     "metadata": {},
     "output_type": "execute_result"
    }
   ],
   "execution_count": null
  },
  {
   "cell_type": "code",
   "metadata": {
    "cell_id": "00035-ffe2089c-b72f-475a-a9c2-a17a18a3a630",
    "deepnote_to_be_reexecuted": true,
    "source_hash": "72f6910d",
    "deepnote_cell_type": "code"
   },
   "source": "from sklearn.metrics import accuracy_score\nfrom sklearn.metrics import confusion_matrix\naccuracy_score = accuracy_score(y_val, preds)\nconfusion_matrix = confusion_matrix(y_val, preds)\ndisplay(confusion_matrix)\ndisplay(accuracy_score) # Accuracy\n# 6 False negative\n# 1 False Positive",
   "outputs": [
    {
     "data": {
      "text/plain": "array([[22,  6],\n       [ 1, 32]])"
     },
     "metadata": {},
     "output_type": "display_data"
    },
    {
     "data": {
      "text/plain": "0.8852459016393442"
     },
     "metadata": {},
     "output_type": "display_data"
    }
   ],
   "execution_count": null
  },
  {
   "cell_type": "code",
   "metadata": {
    "cell_id": "00036-2fd01e8c-3bb9-4bff-a879-7d4dee3b7ae9",
    "deepnote_to_be_reexecuted": true,
    "source_hash": "4fc4304e",
    "deepnote_cell_type": "code"
   },
   "source": "print(confusion_matrix[0].sum())# target is 0\nprint(confusion_matrix[1].sum())# target is 1\n\ntarget_0_all = confusion_matrix[0]\ntarget_1_all = confusion_matrix[1]\n\ntarget_0_true_pos = target_0_all[0]\ntarget_0_false_neg = target_0_all[1]\n\ntarget_1_false_pos = target_1_all[0]\ntarget_1_true_neg = target_1_all[1]\n\nacc_target_1_right = target_1_true_neg/(target_1_true_neg+target_1_false_pos)\nprint(acc_target_1_right)\n\nacc_target_0_right = target_0_true_pos/(target_0_true_pos+target_1_false_pos)\nprint(acc_target_0_right)",
   "outputs": [
    {
     "name": "stdout",
     "output_type": "stream",
     "text": "28\n33\n0.9696969696969697\n"
    }
   ],
   "execution_count": null
  },
  {
   "cell_type": "code",
   "metadata": {
    "cell_id": "00037-c25d97e4-8087-4aee-abe3-01ecd1ade7ae",
    "deepnote_to_be_reexecuted": true,
    "source_hash": "b623e53d",
    "deepnote_cell_type": "code"
   },
   "source": "",
   "execution_count": null,
   "outputs": []
  },
  {
   "cell_type": "markdown",
   "source": "# Gridsearch (not working because of pipeline//look it up later)",
   "metadata": {
    "cell_id": "00038-220ae597-6577-4d19-970d-8589ab96809d",
    "deepnote_cell_type": "markdown"
   }
  },
  {
   "cell_type": "code",
   "metadata": {
    "cell_id": "00039-1c68a0b8-ac46-41e7-b04f-dbfc6ff194e5",
    "deepnote_to_be_reexecuted": true,
    "source_hash": "320e7e19",
    "deepnote_cell_type": "code"
   },
   "source": "lgbm[1].get_params",
   "outputs": [
    {
     "data": {
      "text/plain": "<bound method LGBMModel.get_params of LGBMClassifier(random_state=0)>"
     },
     "execution_count": 99,
     "metadata": {},
     "output_type": "execute_result"
    }
   ],
   "execution_count": null
  },
  {
   "cell_type": "code",
   "metadata": {
    "cell_id": "00040-6d646966-5fb6-46eb-b158-3a30cd772061",
    "deepnote_to_be_reexecuted": true,
    "source_hash": "56978b3",
    "deepnote_cell_type": "code"
   },
   "source": "from sklearn.model_selection import GridSearchCV\n\ndef algorithm_pipeline(X_train_data, X_test_data, y_train_data, y_test_data, \n                       model, param_grid, cv=10, scoring_fit='neg_mean_squared_error',\n                       do_probabilities = False):\n    gs = GridSearchCV(\n        estimator=model,\n        param_grid=param_grid, \n        cv=cv, \n        n_jobs=-1, \n        scoring=scoring_fit,\n        verbose=2\n    )\n    fitted_model = gs.fit(X_train_data, y_train_data)\n    \n    if do_probabilities:\n      pred = fitted_model.predict_proba(X_test_data)\n    else:\n      pred = fitted_model.predict(X_test_data)\n    \n    return fitted_model, pred",
   "outputs": [],
   "execution_count": null
  },
  {
   "cell_type": "code",
   "metadata": {
    "cell_id": "00041-1acace73-2a1e-4e52-adf6-340f3db06314",
    "deepnote_to_be_reexecuted": true,
    "source_hash": "55856cca",
    "deepnote_cell_type": "code"
   },
   "source": "param_grid = {\n    'n_estimators': [400, 700, 1000],\n    'max_depth': [15,20,25],\n    'num_leaves': [50, 100, 200]\n}\n\nmodel, pred = algorithm_pipeline(x_train, x_val, y_train, y_val, lgbm, \n                                 param_grid, cv=5, scoring_fit='accuracy')\n\nprint(model.best_score_)\nprint(model.best_params_)",
   "outputs": [
    {
     "name": "stdout",
     "output_type": "stream",
     "text": "Fitting 5 folds for each of 2916 candidates, totalling 14580 fits\n"
    },
    {
     "ename": "ValueError",
     "evalue": "Invalid parameter colsample_bytree for estimator Pipeline(steps=[('columntransformer',\n                 ColumnTransformer(transformers=[('cat',\n                                                  Pipeline(steps=[('ordinal',\n                                                                   OrdinalEncoder(handle_unknown='use_encoded_value',\n                                                                                  unknown_value=nan))]),\n                                                  ['sex', 'cp', 'fbs',\n                                                   'restecg', 'exang', 'ca',\n                                                   'slope', 'thal',\n                                                   'exang*cp'])])),\n                ('lgbmclassifier', LGBMClassifier(random_state=0))]). Check the list of available parameters with `estimator.get_params().keys()`.",
     "output_type": "error",
     "traceback": [
      "\u001b[0;31m---------------------------------------------------------------------------\u001b[0m",
      "\u001b[0;31m_RemoteTraceback\u001b[0m                          Traceback (most recent call last)",
      "\u001b[0;31m_RemoteTraceback\u001b[0m: \n\"\"\"\nTraceback (most recent call last):\n  File \"/opt/anaconda3/envs/ml/lib/python3.8/site-packages/joblib/externals/loky/process_executor.py\", line 431, in _process_worker\n    r = call_item()\n  File \"/opt/anaconda3/envs/ml/lib/python3.8/site-packages/joblib/externals/loky/process_executor.py\", line 285, in __call__\n    return self.fn(*self.args, **self.kwargs)\n  File \"/opt/anaconda3/envs/ml/lib/python3.8/site-packages/joblib/_parallel_backends.py\", line 595, in __call__\n    return self.func(*args, **kwargs)\n  File \"/opt/anaconda3/envs/ml/lib/python3.8/site-packages/joblib/parallel.py\", line 262, in __call__\n    return [func(*args, **kwargs)\n  File \"/opt/anaconda3/envs/ml/lib/python3.8/site-packages/joblib/parallel.py\", line 262, in <listcomp>\n    return [func(*args, **kwargs)\n  File \"/opt/anaconda3/envs/ml/lib/python3.8/site-packages/sklearn/utils/fixes.py\", line 222, in __call__\n    return self.function(*args, **kwargs)\n  File \"/opt/anaconda3/envs/ml/lib/python3.8/site-packages/sklearn/model_selection/_validation.py\", line 581, in _fit_and_score\n    estimator = estimator.set_params(**cloned_parameters)\n  File \"/opt/anaconda3/envs/ml/lib/python3.8/site-packages/sklearn/pipeline.py\", line 150, in set_params\n    self._set_params('steps', **kwargs)\n  File \"/opt/anaconda3/envs/ml/lib/python3.8/site-packages/sklearn/utils/metaestimators.py\", line 54, in _set_params\n    super().set_params(**params)\n  File \"/opt/anaconda3/envs/ml/lib/python3.8/site-packages/sklearn/base.py\", line 230, in set_params\n    raise ValueError('Invalid parameter %s for estimator %s. '\nValueError: Invalid parameter colsample_bytree for estimator Pipeline(steps=[('columntransformer',\n                 ColumnTransformer(transformers=[('cat',\n                                                  Pipeline(steps=[('ordinal',\n                                                                   OrdinalEncoder(handle_unknown='use_encoded_value',\n                                                                                  unknown_value=nan))]),\n                                                  ['sex', 'cp', 'fbs',\n                                                   'restecg', 'exang', 'ca',\n                                                   'slope', 'thal',\n                                                   'exang*cp'])])),\n                ('lgbmclassifier', LGBMClassifier(random_state=0))]). Check the list of available parameters with `estimator.get_params().keys()`.\n\"\"\"",
      "\nThe above exception was the direct cause of the following exception:\n",
      "\u001b[0;31mValueError\u001b[0m                                Traceback (most recent call last)",
      "\u001b[0;32m<ipython-input-96-747c8fc642d4>\u001b[0m in \u001b[0;36m<module>\u001b[0;34m\u001b[0m\n\u001b[1;32m     11\u001b[0m }\n\u001b[1;32m     12\u001b[0m \u001b[0;34m\u001b[0m\u001b[0m\n\u001b[0;32m---> 13\u001b[0;31m model, pred = algorithm_pipeline(x_train, x_val, y_train, y_val, lgbm, \n\u001b[0m\u001b[1;32m     14\u001b[0m                                  param_grid, cv=5, scoring_fit='accuracy')\n\u001b[1;32m     15\u001b[0m \u001b[0;34m\u001b[0m\u001b[0m\n",
      "\u001b[0;32m<ipython-input-95-4d5d4274bc43>\u001b[0m in \u001b[0;36malgorithm_pipeline\u001b[0;34m(X_train_data, X_test_data, y_train_data, y_test_data, model, param_grid, cv, scoring_fit, do_probabilities)\u001b[0m\n\u001b[1;32m     12\u001b[0m         \u001b[0mverbose\u001b[0m\u001b[0;34m=\u001b[0m\u001b[0;36m2\u001b[0m\u001b[0;34m\u001b[0m\u001b[0;34m\u001b[0m\u001b[0m\n\u001b[1;32m     13\u001b[0m     )\n\u001b[0;32m---> 14\u001b[0;31m     \u001b[0mfitted_model\u001b[0m \u001b[0;34m=\u001b[0m \u001b[0mgs\u001b[0m\u001b[0;34m.\u001b[0m\u001b[0mfit\u001b[0m\u001b[0;34m(\u001b[0m\u001b[0mX_train_data\u001b[0m\u001b[0;34m,\u001b[0m \u001b[0my_train_data\u001b[0m\u001b[0;34m)\u001b[0m\u001b[0;34m\u001b[0m\u001b[0;34m\u001b[0m\u001b[0m\n\u001b[0m\u001b[1;32m     15\u001b[0m \u001b[0;34m\u001b[0m\u001b[0m\n\u001b[1;32m     16\u001b[0m     \u001b[0;32mif\u001b[0m \u001b[0mdo_probabilities\u001b[0m\u001b[0;34m:\u001b[0m\u001b[0;34m\u001b[0m\u001b[0;34m\u001b[0m\u001b[0m\n",
      "\u001b[0;32m/opt/anaconda3/envs/ml/lib/python3.8/site-packages/sklearn/utils/validation.py\u001b[0m in \u001b[0;36minner_f\u001b[0;34m(*args, **kwargs)\u001b[0m\n\u001b[1;32m     61\u001b[0m             \u001b[0mextra_args\u001b[0m \u001b[0;34m=\u001b[0m \u001b[0mlen\u001b[0m\u001b[0;34m(\u001b[0m\u001b[0margs\u001b[0m\u001b[0;34m)\u001b[0m \u001b[0;34m-\u001b[0m \u001b[0mlen\u001b[0m\u001b[0;34m(\u001b[0m\u001b[0mall_args\u001b[0m\u001b[0;34m)\u001b[0m\u001b[0;34m\u001b[0m\u001b[0;34m\u001b[0m\u001b[0m\n\u001b[1;32m     62\u001b[0m             \u001b[0;32mif\u001b[0m \u001b[0mextra_args\u001b[0m \u001b[0;34m<=\u001b[0m \u001b[0;36m0\u001b[0m\u001b[0;34m:\u001b[0m\u001b[0;34m\u001b[0m\u001b[0;34m\u001b[0m\u001b[0m\n\u001b[0;32m---> 63\u001b[0;31m                 \u001b[0;32mreturn\u001b[0m \u001b[0mf\u001b[0m\u001b[0;34m(\u001b[0m\u001b[0;34m*\u001b[0m\u001b[0margs\u001b[0m\u001b[0;34m,\u001b[0m \u001b[0;34m**\u001b[0m\u001b[0mkwargs\u001b[0m\u001b[0;34m)\u001b[0m\u001b[0;34m\u001b[0m\u001b[0;34m\u001b[0m\u001b[0m\n\u001b[0m\u001b[1;32m     64\u001b[0m \u001b[0;34m\u001b[0m\u001b[0m\n\u001b[1;32m     65\u001b[0m             \u001b[0;31m# extra_args > 0\u001b[0m\u001b[0;34m\u001b[0m\u001b[0;34m\u001b[0m\u001b[0;34m\u001b[0m\u001b[0m\n",
      "\u001b[0;32m/opt/anaconda3/envs/ml/lib/python3.8/site-packages/sklearn/model_selection/_search.py\u001b[0m in \u001b[0;36mfit\u001b[0;34m(self, X, y, groups, **fit_params)\u001b[0m\n\u001b[1;32m    839\u001b[0m                 \u001b[0;32mreturn\u001b[0m \u001b[0mresults\u001b[0m\u001b[0;34m\u001b[0m\u001b[0;34m\u001b[0m\u001b[0m\n\u001b[1;32m    840\u001b[0m \u001b[0;34m\u001b[0m\u001b[0m\n\u001b[0;32m--> 841\u001b[0;31m             \u001b[0mself\u001b[0m\u001b[0;34m.\u001b[0m\u001b[0m_run_search\u001b[0m\u001b[0;34m(\u001b[0m\u001b[0mevaluate_candidates\u001b[0m\u001b[0;34m)\u001b[0m\u001b[0;34m\u001b[0m\u001b[0;34m\u001b[0m\u001b[0m\n\u001b[0m\u001b[1;32m    842\u001b[0m \u001b[0;34m\u001b[0m\u001b[0m\n\u001b[1;32m    843\u001b[0m             \u001b[0;31m# multimetric is determined here because in the case of a callable\u001b[0m\u001b[0;34m\u001b[0m\u001b[0;34m\u001b[0m\u001b[0;34m\u001b[0m\u001b[0m\n",
      "\u001b[0;32m/opt/anaconda3/envs/ml/lib/python3.8/site-packages/sklearn/model_selection/_search.py\u001b[0m in \u001b[0;36m_run_search\u001b[0;34m(self, evaluate_candidates)\u001b[0m\n\u001b[1;32m   1286\u001b[0m     \u001b[0;32mdef\u001b[0m \u001b[0m_run_search\u001b[0m\u001b[0;34m(\u001b[0m\u001b[0mself\u001b[0m\u001b[0;34m,\u001b[0m \u001b[0mevaluate_candidates\u001b[0m\u001b[0;34m)\u001b[0m\u001b[0;34m:\u001b[0m\u001b[0;34m\u001b[0m\u001b[0;34m\u001b[0m\u001b[0m\n\u001b[1;32m   1287\u001b[0m         \u001b[0;34m\"\"\"Search all candidates in param_grid\"\"\"\u001b[0m\u001b[0;34m\u001b[0m\u001b[0;34m\u001b[0m\u001b[0m\n\u001b[0;32m-> 1288\u001b[0;31m         \u001b[0mevaluate_candidates\u001b[0m\u001b[0;34m(\u001b[0m\u001b[0mParameterGrid\u001b[0m\u001b[0;34m(\u001b[0m\u001b[0mself\u001b[0m\u001b[0;34m.\u001b[0m\u001b[0mparam_grid\u001b[0m\u001b[0;34m)\u001b[0m\u001b[0;34m)\u001b[0m\u001b[0;34m\u001b[0m\u001b[0;34m\u001b[0m\u001b[0m\n\u001b[0m\u001b[1;32m   1289\u001b[0m \u001b[0;34m\u001b[0m\u001b[0m\n\u001b[1;32m   1290\u001b[0m \u001b[0;34m\u001b[0m\u001b[0m\n",
      "\u001b[0;32m/opt/anaconda3/envs/ml/lib/python3.8/site-packages/sklearn/model_selection/_search.py\u001b[0m in \u001b[0;36mevaluate_candidates\u001b[0;34m(candidate_params, cv, more_results)\u001b[0m\n\u001b[1;32m    793\u001b[0m                               n_splits, n_candidates, n_candidates * n_splits))\n\u001b[1;32m    794\u001b[0m \u001b[0;34m\u001b[0m\u001b[0m\n\u001b[0;32m--> 795\u001b[0;31m                 out = parallel(delayed(_fit_and_score)(clone(base_estimator),\n\u001b[0m\u001b[1;32m    796\u001b[0m                                                        \u001b[0mX\u001b[0m\u001b[0;34m,\u001b[0m \u001b[0my\u001b[0m\u001b[0;34m,\u001b[0m\u001b[0;34m\u001b[0m\u001b[0;34m\u001b[0m\u001b[0m\n\u001b[1;32m    797\u001b[0m                                                        \u001b[0mtrain\u001b[0m\u001b[0;34m=\u001b[0m\u001b[0mtrain\u001b[0m\u001b[0;34m,\u001b[0m \u001b[0mtest\u001b[0m\u001b[0;34m=\u001b[0m\u001b[0mtest\u001b[0m\u001b[0;34m,\u001b[0m\u001b[0;34m\u001b[0m\u001b[0;34m\u001b[0m\u001b[0m\n",
      "\u001b[0;32m/opt/anaconda3/envs/ml/lib/python3.8/site-packages/joblib/parallel.py\u001b[0m in \u001b[0;36m__call__\u001b[0;34m(self, iterable)\u001b[0m\n\u001b[1;32m   1052\u001b[0m \u001b[0;34m\u001b[0m\u001b[0m\n\u001b[1;32m   1053\u001b[0m             \u001b[0;32mwith\u001b[0m \u001b[0mself\u001b[0m\u001b[0;34m.\u001b[0m\u001b[0m_backend\u001b[0m\u001b[0;34m.\u001b[0m\u001b[0mretrieval_context\u001b[0m\u001b[0;34m(\u001b[0m\u001b[0;34m)\u001b[0m\u001b[0;34m:\u001b[0m\u001b[0;34m\u001b[0m\u001b[0;34m\u001b[0m\u001b[0m\n\u001b[0;32m-> 1054\u001b[0;31m                 \u001b[0mself\u001b[0m\u001b[0;34m.\u001b[0m\u001b[0mretrieve\u001b[0m\u001b[0;34m(\u001b[0m\u001b[0;34m)\u001b[0m\u001b[0;34m\u001b[0m\u001b[0;34m\u001b[0m\u001b[0m\n\u001b[0m\u001b[1;32m   1055\u001b[0m             \u001b[0;31m# Make sure that we get a last message telling us we are done\u001b[0m\u001b[0;34m\u001b[0m\u001b[0;34m\u001b[0m\u001b[0;34m\u001b[0m\u001b[0m\n\u001b[1;32m   1056\u001b[0m             \u001b[0melapsed_time\u001b[0m \u001b[0;34m=\u001b[0m \u001b[0mtime\u001b[0m\u001b[0;34m.\u001b[0m\u001b[0mtime\u001b[0m\u001b[0;34m(\u001b[0m\u001b[0;34m)\u001b[0m \u001b[0;34m-\u001b[0m \u001b[0mself\u001b[0m\u001b[0;34m.\u001b[0m\u001b[0m_start_time\u001b[0m\u001b[0;34m\u001b[0m\u001b[0;34m\u001b[0m\u001b[0m\n",
      "\u001b[0;32m/opt/anaconda3/envs/ml/lib/python3.8/site-packages/joblib/parallel.py\u001b[0m in \u001b[0;36mretrieve\u001b[0;34m(self)\u001b[0m\n\u001b[1;32m    931\u001b[0m             \u001b[0;32mtry\u001b[0m\u001b[0;34m:\u001b[0m\u001b[0;34m\u001b[0m\u001b[0;34m\u001b[0m\u001b[0m\n\u001b[1;32m    932\u001b[0m                 \u001b[0;32mif\u001b[0m \u001b[0mgetattr\u001b[0m\u001b[0;34m(\u001b[0m\u001b[0mself\u001b[0m\u001b[0;34m.\u001b[0m\u001b[0m_backend\u001b[0m\u001b[0;34m,\u001b[0m \u001b[0;34m'supports_timeout'\u001b[0m\u001b[0;34m,\u001b[0m \u001b[0;32mFalse\u001b[0m\u001b[0;34m)\u001b[0m\u001b[0;34m:\u001b[0m\u001b[0;34m\u001b[0m\u001b[0;34m\u001b[0m\u001b[0m\n\u001b[0;32m--> 933\u001b[0;31m                     \u001b[0mself\u001b[0m\u001b[0;34m.\u001b[0m\u001b[0m_output\u001b[0m\u001b[0;34m.\u001b[0m\u001b[0mextend\u001b[0m\u001b[0;34m(\u001b[0m\u001b[0mjob\u001b[0m\u001b[0;34m.\u001b[0m\u001b[0mget\u001b[0m\u001b[0;34m(\u001b[0m\u001b[0mtimeout\u001b[0m\u001b[0;34m=\u001b[0m\u001b[0mself\u001b[0m\u001b[0;34m.\u001b[0m\u001b[0mtimeout\u001b[0m\u001b[0;34m)\u001b[0m\u001b[0;34m)\u001b[0m\u001b[0;34m\u001b[0m\u001b[0;34m\u001b[0m\u001b[0m\n\u001b[0m\u001b[1;32m    934\u001b[0m                 \u001b[0;32melse\u001b[0m\u001b[0;34m:\u001b[0m\u001b[0;34m\u001b[0m\u001b[0;34m\u001b[0m\u001b[0m\n\u001b[1;32m    935\u001b[0m                     \u001b[0mself\u001b[0m\u001b[0;34m.\u001b[0m\u001b[0m_output\u001b[0m\u001b[0;34m.\u001b[0m\u001b[0mextend\u001b[0m\u001b[0;34m(\u001b[0m\u001b[0mjob\u001b[0m\u001b[0;34m.\u001b[0m\u001b[0mget\u001b[0m\u001b[0;34m(\u001b[0m\u001b[0;34m)\u001b[0m\u001b[0;34m)\u001b[0m\u001b[0;34m\u001b[0m\u001b[0;34m\u001b[0m\u001b[0m\n",
      "\u001b[0;32m/opt/anaconda3/envs/ml/lib/python3.8/site-packages/joblib/_parallel_backends.py\u001b[0m in \u001b[0;36mwrap_future_result\u001b[0;34m(future, timeout)\u001b[0m\n\u001b[1;32m    540\u001b[0m         AsyncResults.get from multiprocessing.\"\"\"\n\u001b[1;32m    541\u001b[0m         \u001b[0;32mtry\u001b[0m\u001b[0;34m:\u001b[0m\u001b[0;34m\u001b[0m\u001b[0;34m\u001b[0m\u001b[0m\n\u001b[0;32m--> 542\u001b[0;31m             \u001b[0;32mreturn\u001b[0m \u001b[0mfuture\u001b[0m\u001b[0;34m.\u001b[0m\u001b[0mresult\u001b[0m\u001b[0;34m(\u001b[0m\u001b[0mtimeout\u001b[0m\u001b[0;34m=\u001b[0m\u001b[0mtimeout\u001b[0m\u001b[0;34m)\u001b[0m\u001b[0;34m\u001b[0m\u001b[0;34m\u001b[0m\u001b[0m\n\u001b[0m\u001b[1;32m    543\u001b[0m         \u001b[0;32mexcept\u001b[0m \u001b[0mCfTimeoutError\u001b[0m \u001b[0;32mas\u001b[0m \u001b[0me\u001b[0m\u001b[0;34m:\u001b[0m\u001b[0;34m\u001b[0m\u001b[0;34m\u001b[0m\u001b[0m\n\u001b[1;32m    544\u001b[0m             \u001b[0;32mraise\u001b[0m \u001b[0mTimeoutError\u001b[0m \u001b[0;32mfrom\u001b[0m \u001b[0me\u001b[0m\u001b[0;34m\u001b[0m\u001b[0;34m\u001b[0m\u001b[0m\n",
      "\u001b[0;32m/opt/anaconda3/envs/ml/lib/python3.8/concurrent/futures/_base.py\u001b[0m in \u001b[0;36mresult\u001b[0;34m(self, timeout)\u001b[0m\n\u001b[1;32m    437\u001b[0m                 \u001b[0;32mraise\u001b[0m \u001b[0mCancelledError\u001b[0m\u001b[0;34m(\u001b[0m\u001b[0;34m)\u001b[0m\u001b[0;34m\u001b[0m\u001b[0;34m\u001b[0m\u001b[0m\n\u001b[1;32m    438\u001b[0m             \u001b[0;32melif\u001b[0m \u001b[0mself\u001b[0m\u001b[0;34m.\u001b[0m\u001b[0m_state\u001b[0m \u001b[0;34m==\u001b[0m \u001b[0mFINISHED\u001b[0m\u001b[0;34m:\u001b[0m\u001b[0;34m\u001b[0m\u001b[0;34m\u001b[0m\u001b[0m\n\u001b[0;32m--> 439\u001b[0;31m                 \u001b[0;32mreturn\u001b[0m \u001b[0mself\u001b[0m\u001b[0;34m.\u001b[0m\u001b[0m__get_result\u001b[0m\u001b[0;34m(\u001b[0m\u001b[0;34m)\u001b[0m\u001b[0;34m\u001b[0m\u001b[0;34m\u001b[0m\u001b[0m\n\u001b[0m\u001b[1;32m    440\u001b[0m             \u001b[0;32melse\u001b[0m\u001b[0;34m:\u001b[0m\u001b[0;34m\u001b[0m\u001b[0;34m\u001b[0m\u001b[0m\n\u001b[1;32m    441\u001b[0m                 \u001b[0;32mraise\u001b[0m \u001b[0mTimeoutError\u001b[0m\u001b[0;34m(\u001b[0m\u001b[0;34m)\u001b[0m\u001b[0;34m\u001b[0m\u001b[0;34m\u001b[0m\u001b[0m\n",
      "\u001b[0;32m/opt/anaconda3/envs/ml/lib/python3.8/concurrent/futures/_base.py\u001b[0m in \u001b[0;36m__get_result\u001b[0;34m(self)\u001b[0m\n\u001b[1;32m    386\u001b[0m     \u001b[0;32mdef\u001b[0m \u001b[0m__get_result\u001b[0m\u001b[0;34m(\u001b[0m\u001b[0mself\u001b[0m\u001b[0;34m)\u001b[0m\u001b[0;34m:\u001b[0m\u001b[0;34m\u001b[0m\u001b[0;34m\u001b[0m\u001b[0m\n\u001b[1;32m    387\u001b[0m         \u001b[0;32mif\u001b[0m \u001b[0mself\u001b[0m\u001b[0;34m.\u001b[0m\u001b[0m_exception\u001b[0m\u001b[0;34m:\u001b[0m\u001b[0;34m\u001b[0m\u001b[0;34m\u001b[0m\u001b[0m\n\u001b[0;32m--> 388\u001b[0;31m             \u001b[0;32mraise\u001b[0m \u001b[0mself\u001b[0m\u001b[0;34m.\u001b[0m\u001b[0m_exception\u001b[0m\u001b[0;34m\u001b[0m\u001b[0;34m\u001b[0m\u001b[0m\n\u001b[0m\u001b[1;32m    389\u001b[0m         \u001b[0;32melse\u001b[0m\u001b[0;34m:\u001b[0m\u001b[0;34m\u001b[0m\u001b[0;34m\u001b[0m\u001b[0m\n\u001b[1;32m    390\u001b[0m             \u001b[0;32mreturn\u001b[0m \u001b[0mself\u001b[0m\u001b[0;34m.\u001b[0m\u001b[0m_result\u001b[0m\u001b[0;34m\u001b[0m\u001b[0;34m\u001b[0m\u001b[0m\n",
      "\u001b[0;31mValueError\u001b[0m: Invalid parameter colsample_bytree for estimator Pipeline(steps=[('columntransformer',\n                 ColumnTransformer(transformers=[('cat',\n                                                  Pipeline(steps=[('ordinal',\n                                                                   OrdinalEncoder(handle_unknown='use_encoded_value',\n                                                                                  unknown_value=nan))]),\n                                                  ['sex', 'cp', 'fbs',\n                                                   'restecg', 'exang', 'ca',\n                                                   'slope', 'thal',\n                                                   'exang*cp'])])),\n                ('lgbmclassifier', LGBMClassifier(random_state=0))]). Check the list of available parameters with `estimator.get_params().keys()`."
     ]
    }
   ],
   "execution_count": null
  },
  {
   "cell_type": "markdown",
   "source": "<a style='text-decoration:none;line-height:16px;display:flex;color:#5B5B62;padding:10px;justify-content:end;' href='https://deepnote.com?utm_source=created-in-deepnote-cell&projectId=ea7ce3b3-a072-4534-8285-878511d24c52' target=\"_blank\">\n<img alt='Created in deepnote.com' style='display:inline;max-height:16px;margin:0px;margin-right:7.5px;' src='data:image/svg+xml;base64,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' > </img>\nCreated in <span style='font-weight:600;margin-left:4px;'>Deepnote</span></a>",
   "metadata": {
    "tags": [],
    "created_in_deepnote_cell": true,
    "deepnote_cell_type": "markdown"
   }
  }
 ],
 "nbformat": 4,
 "nbformat_minor": 5,
 "metadata": {
  "kernelspec": {
   "display_name": "Python 3",
   "language": "python",
   "name": "python3"
  },
  "language_info": {
   "codemirror_mode": {
    "name": "ipython",
    "version": 3
   },
   "file_extension": ".py",
   "mimetype": "text/x-python",
   "name": "python",
   "nbconvert_exporter": "python",
   "pygments_lexer": "ipython3",
   "version": "3.8.8"
  },
  "deepnote_notebook_id": "d08a59c0-b449-42bd-8e44-4cc1dff49382",
  "deepnote": {},
  "deepnote_execution_queue": []
 }
}